{
 "cells": [
  {
   "cell_type": "markdown",
   "metadata": {},
   "source": [
    "<font size=\"5\">Section 2: non linear models</font>"
   ]
  },
  {
   "cell_type": "markdown",
   "metadata": {},
   "source": [
    "# Housekeeping\n",
    "\n",
    "## import libraries\n",
    "\n",
    "Pandas for data management, statsmodels, numpy and sklearn for analysis, matplotlib for visualization. Other libraries as needed for specific tasks (e.g. semopy for SEM). Remember to use the bash terminal or the enviroment manager to add libraries.\n",
    "\n",
    "## read data\n",
    "\n",
    "Read data files using pandas as noted below. We can clean and organize data in many ways (for example, using the **dropna** command over a dataset).\n",
    "\n",
    "## describe data\n",
    "\n",
    "There are many was to analyze data and do descriptive statistics. A good command to start is ***head***, to describe a section of the data.\n"
   ]
  },
  {
   "cell_type": "code",
   "execution_count": 1,
   "metadata": {},
   "outputs": [],
   "source": [
    "import numpy as np\n",
    "import pandas as pd\n",
    "import matplotlib.pyplot as plt\n",
    "import statsmodels.api as sm\n",
    "import statsmodels.formula.api as smf\n",
    "import sklearn\n",
    "import scipy \n",
    "from scipy.stats import nbinom\n",
    "import seaborn as sns\n",
    "from statsmodels.iolib.summary2 import summary_col\n",
    "\n",
    "import warnings\n",
    "warnings.filterwarnings(\"ignore\")\n",
    "\n",
    "%matplotlib inline"
   ]
  },
  {
   "cell_type": "code",
   "execution_count": 2,
   "metadata": {},
   "outputs": [
    {
     "data": {
      "text/plain": [
       "ID_aux             object\n",
       "CODIGO_UNIV         int64\n",
       "CODIGO              int64\n",
       "VIA                 int64\n",
       "PREFERENCIA         int64\n",
       "PTJE_POND         float64\n",
       "TIPO_MATRICULA      int64\n",
       "TIPO               object\n",
       "PRA                 int32\n",
       "dtype: object"
      ]
     },
     "execution_count": 2,
     "metadata": {},
     "output_type": "execute_result"
    }
   ],
   "source": [
    "# higher ed data\n",
    "demre = pd.read_csv('../data/Adm2024.csv', delimiter=\";\", decimal=',')\n",
    "demre.dropna(inplace=True)\n",
    "VIAC = [1,2,3,4]\n",
    "TIPO = [\"REGULAR\", \"BEA\", \"PACE\", \"+MC\"]\n",
    "demre['TIPO'] = demre['VIA'].replace(VIAC, TIPO)\n",
    "demre[\"PRA\"] = (demre[\"PREFERENCIA\"]== 1).astype(int)\n",
    "demre.dtypes"
   ]
  },
  {
   "cell_type": "code",
   "execution_count": 3,
   "metadata": {},
   "outputs": [
    {
     "data": {
      "application/vnd.microsoft.datawrangler.viewer.v0+json": {
       "columns": [
        {
         "name": "index",
         "rawType": "int64",
         "type": "integer"
        },
        {
         "name": "ID_aux",
         "rawType": "object",
         "type": "string"
        },
        {
         "name": "CODIGO_UNIV",
         "rawType": "int64",
         "type": "integer"
        },
        {
         "name": "CODIGO",
         "rawType": "int64",
         "type": "integer"
        },
        {
         "name": "VIA",
         "rawType": "int64",
         "type": "integer"
        },
        {
         "name": "PREFERENCIA",
         "rawType": "int64",
         "type": "integer"
        },
        {
         "name": "PTJE_POND",
         "rawType": "float64",
         "type": "float"
        },
        {
         "name": "TIPO_MATRICULA",
         "rawType": "int64",
         "type": "integer"
        },
        {
         "name": "TIPO",
         "rawType": "object",
         "type": "string"
        },
        {
         "name": "PRA",
         "rawType": "int32",
         "type": "integer"
        }
       ],
       "conversionMethod": "pd.DataFrame",
       "ref": "f57abb78-b2fa-4bd4-9e29-da4a268968e4",
       "rows": [
        [
         "0",
         "id_690126976014",
         "51",
         "51111",
         "1",
         "1",
         "709.9",
         "1",
         "REGULAR",
         "1"
        ],
        [
         "1",
         "id_831408370144",
         "18",
         "18075",
         "1",
         "1",
         "713.45",
         "1",
         "REGULAR",
         "1"
        ],
        [
         "2",
         "id_752607579265",
         "44",
         "44049",
         "1",
         "1",
         "876.1",
         "1",
         "REGULAR",
         "1"
        ],
        [
         "3",
         "id_772307770236",
         "21",
         "21043",
         "1",
         "1",
         "643.3",
         "2",
         "REGULAR",
         "1"
        ],
        [
         "4",
         "id_481904877199",
         "41",
         "41067",
         "1",
         "1",
         "638.7",
         "1",
         "REGULAR",
         "1"
        ]
       ],
       "shape": {
        "columns": 9,
        "rows": 5
       }
      },
      "text/html": [
       "<div>\n",
       "<style scoped>\n",
       "    .dataframe tbody tr th:only-of-type {\n",
       "        vertical-align: middle;\n",
       "    }\n",
       "\n",
       "    .dataframe tbody tr th {\n",
       "        vertical-align: top;\n",
       "    }\n",
       "\n",
       "    .dataframe thead th {\n",
       "        text-align: right;\n",
       "    }\n",
       "</style>\n",
       "<table border=\"1\" class=\"dataframe\">\n",
       "  <thead>\n",
       "    <tr style=\"text-align: right;\">\n",
       "      <th></th>\n",
       "      <th>ID_aux</th>\n",
       "      <th>CODIGO_UNIV</th>\n",
       "      <th>CODIGO</th>\n",
       "      <th>VIA</th>\n",
       "      <th>PREFERENCIA</th>\n",
       "      <th>PTJE_POND</th>\n",
       "      <th>TIPO_MATRICULA</th>\n",
       "      <th>TIPO</th>\n",
       "      <th>PRA</th>\n",
       "    </tr>\n",
       "  </thead>\n",
       "  <tbody>\n",
       "    <tr>\n",
       "      <th>0</th>\n",
       "      <td>id_690126976014</td>\n",
       "      <td>51</td>\n",
       "      <td>51111</td>\n",
       "      <td>1</td>\n",
       "      <td>1</td>\n",
       "      <td>709.90</td>\n",
       "      <td>1</td>\n",
       "      <td>REGULAR</td>\n",
       "      <td>1</td>\n",
       "    </tr>\n",
       "    <tr>\n",
       "      <th>1</th>\n",
       "      <td>id_831408370144</td>\n",
       "      <td>18</td>\n",
       "      <td>18075</td>\n",
       "      <td>1</td>\n",
       "      <td>1</td>\n",
       "      <td>713.45</td>\n",
       "      <td>1</td>\n",
       "      <td>REGULAR</td>\n",
       "      <td>1</td>\n",
       "    </tr>\n",
       "    <tr>\n",
       "      <th>2</th>\n",
       "      <td>id_752607579265</td>\n",
       "      <td>44</td>\n",
       "      <td>44049</td>\n",
       "      <td>1</td>\n",
       "      <td>1</td>\n",
       "      <td>876.10</td>\n",
       "      <td>1</td>\n",
       "      <td>REGULAR</td>\n",
       "      <td>1</td>\n",
       "    </tr>\n",
       "    <tr>\n",
       "      <th>3</th>\n",
       "      <td>id_772307770236</td>\n",
       "      <td>21</td>\n",
       "      <td>21043</td>\n",
       "      <td>1</td>\n",
       "      <td>1</td>\n",
       "      <td>643.30</td>\n",
       "      <td>2</td>\n",
       "      <td>REGULAR</td>\n",
       "      <td>1</td>\n",
       "    </tr>\n",
       "    <tr>\n",
       "      <th>4</th>\n",
       "      <td>id_481904877199</td>\n",
       "      <td>41</td>\n",
       "      <td>41067</td>\n",
       "      <td>1</td>\n",
       "      <td>1</td>\n",
       "      <td>638.70</td>\n",
       "      <td>1</td>\n",
       "      <td>REGULAR</td>\n",
       "      <td>1</td>\n",
       "    </tr>\n",
       "  </tbody>\n",
       "</table>\n",
       "</div>"
      ],
      "text/plain": [
       "            ID_aux  CODIGO_UNIV  CODIGO  VIA  PREFERENCIA  PTJE_POND  \\\n",
       "0  id_690126976014           51   51111    1            1     709.90   \n",
       "1  id_831408370144           18   18075    1            1     713.45   \n",
       "2  id_752607579265           44   44049    1            1     876.10   \n",
       "3  id_772307770236           21   21043    1            1     643.30   \n",
       "4  id_481904877199           41   41067    1            1     638.70   \n",
       "\n",
       "   TIPO_MATRICULA     TIPO  PRA  \n",
       "0               1  REGULAR    1  \n",
       "1               1  REGULAR    1  \n",
       "2               1  REGULAR    1  \n",
       "3               2  REGULAR    1  \n",
       "4               1  REGULAR    1  "
      ]
     },
     "execution_count": 3,
     "metadata": {},
     "output_type": "execute_result"
    }
   ],
   "source": [
    "demre.reset_index(drop=True, inplace=True)\n",
    "demre= demre[demre['PTJE_POND'] != 0]\n",
    "demre.head()"
   ]
  },
  {
   "cell_type": "code",
   "execution_count": 4,
   "metadata": {},
   "outputs": [
    {
     "data": {
      "text/plain": [
       "<Axes: xlabel='PTJE_POND', ylabel='Density'>"
      ]
     },
     "execution_count": 4,
     "metadata": {},
     "output_type": "execute_result"
    },
    {
     "data": {
      "image/png": "[encoded data removed]",
      "text/plain": [
       "<Figure size 640x480 with 1 Axes>"
      ]
     },
     "metadata": {},
     "output_type": "display_data"
    }
   ],
   "source": [
    "sns.kdeplot(data=demre, x=\"PTJE_POND\", hue=\"PRA\")"
   ]
  },
  {
   "cell_type": "markdown",
   "metadata": {},
   "source": [
    "### OLS\n",
    "\n",
    "We can use statsmodels to estimate a simple OLS regression (linear probability model). "
   ]
  },
  {
   "cell_type": "code",
   "execution_count": 5,
   "metadata": {},
   "outputs": [
    {
     "name": "stdout",
     "output_type": "stream",
     "text": [
      "                            OLS Regression Results                            \n",
      "==============================================================================\n",
      "Dep. Variable:                    PRA   R-squared:                       0.018\n",
      "Model:                            OLS   Adj. R-squared:                  0.018\n",
      "Method:                 Least Squares   F-statistic:                     541.5\n",
      "Date:                Thu, 24 Apr 2025   Prob (F-statistic):               0.00\n",
      "Time:                        14:47:28   Log-Likelihood:                -82392.\n",
      "No. Observations:              115353   AIC:                         1.648e+05\n",
      "Df Residuals:                  115348   BIC:                         1.648e+05\n",
      "Df Model:                           4                                         \n",
      "Covariance Type:            nonrobust                                         \n",
      "===============================================================================\n",
      "                  coef    std err          t      P>|t|      [0.025      0.975]\n",
      "-------------------------------------------------------------------------------\n",
      "Intercept       0.0664      0.010      6.431      0.000       0.046       0.087\n",
      "C(VIA)[T.2]    -0.0159      0.016     -0.999      0.318      -0.047       0.015\n",
      "C(VIA)[T.3]    -0.0562      0.013     -4.335      0.000      -0.082      -0.031\n",
      "C(VIA)[T.4]    -0.0176      0.017     -1.020      0.308      -0.051       0.016\n",
      "PTJE_POND       0.0007   1.44e-05     45.601      0.000       0.001       0.001\n",
      "==============================================================================\n",
      "Omnibus:                   415728.565   Durbin-Watson:                   1.981\n",
      "Prob(Omnibus):                  0.000   Jarque-Bera (JB):            17846.790\n",
      "Skew:                          -0.131   Prob(JB):                         0.00\n",
      "Kurtosis:                       1.091   Cond. No.                     8.53e+03\n",
      "==============================================================================\n",
      "\n",
      "Notes:\n",
      "[1] Standard Errors assume that the covariance matrix of the errors is correctly specified.\n",
      "[2] The condition number is large, 8.53e+03. This might indicate that there are\n",
      "strong multicollinearity or other numerical problems.\n"
     ]
    }
   ],
   "source": [
    "model = smf.ols(\"PRA ~ PTJE_POND + C(VIA)\", data=demre).fit()\n",
    "print(model.summary())"
   ]
  },
  {
   "cell_type": "markdown",
   "metadata": {},
   "source": [
    "### Probit\n",
    "\n"
   ]
  },
  {
   "cell_type": "code",
   "execution_count": 6,
   "metadata": {},
   "outputs": [
    {
     "name": "stdout",
     "output_type": "stream",
     "text": [
      "Optimization terminated successfully.\n",
      "         Current function value: 0.681557\n",
      "         Iterations 4\n",
      "                          Probit Regression Results                           \n",
      "==============================================================================\n",
      "Dep. Variable:                    PRA   No. Observations:               115353\n",
      "Model:                         Probit   Df Residuals:                   115345\n",
      "Method:                           MLE   Df Model:                            7\n",
      "Date:                Thu, 24 Apr 2025   Pseudo R-squ.:                 0.01355\n",
      "Time:                        14:47:29   Log-Likelihood:                -78620.\n",
      "converged:                       True   LL-Null:                       -79700.\n",
      "Covariance Type:            nonrobust   LLR p-value:                     0.000\n",
      "=============================================================================================================================\n",
      "                                                                coef    std err          z      P>|z|      [0.025      0.975]\n",
      "-----------------------------------------------------------------------------------------------------------------------------\n",
      "Intercept                                                    -1.1180      0.027    -41.710      0.000      -1.170      -1.065\n",
      "C(TIPO, Treatment(reference='REGULAR'))[T.+MC]                0.1691      0.291      0.581      0.562      -0.402       0.740\n",
      "C(TIPO, Treatment(reference='REGULAR'))[T.BEA]                1.2359      0.387      3.192      0.001       0.477       1.995\n",
      "C(TIPO, Treatment(reference='REGULAR'))[T.PACE]               0.7600      0.368      2.065      0.039       0.039       1.482\n",
      "PTJE_POND                                                     0.0017   3.75e-05     45.154      0.000       0.002       0.002\n",
      "PTJE_POND:C(TIPO, Treatment(reference='REGULAR'))[T.+MC]     -0.0003      0.000     -0.739      0.460      -0.001       0.001\n",
      "PTJE_POND:C(TIPO, Treatment(reference='REGULAR'))[T.BEA]     -0.0017      0.001     -3.318      0.001      -0.003      -0.001\n",
      "PTJE_POND:C(TIPO, Treatment(reference='REGULAR'))[T.PACE]    -0.0009      0.000     -2.459      0.014      -0.002      -0.000\n",
      "=============================================================================================================================\n",
      "       Probit Marginal Effects       \n",
      "=====================================\n",
      "Dep. Variable:                    PRA\n",
      "Method:                          dydx\n",
      "At:                           overall\n",
      "=============================================================================================================================\n",
      "                                                               dy/dx    std err          z      P>|z|      [0.025      0.975]\n",
      "-----------------------------------------------------------------------------------------------------------------------------\n",
      "C(TIPO, Treatment(reference='REGULAR'))[T.+MC]                0.0663      0.114      0.581      0.562      -0.157       0.290\n",
      "C(TIPO, Treatment(reference='REGULAR'))[T.BEA]                0.4841      0.152      3.192      0.001       0.187       0.781\n",
      "C(TIPO, Treatment(reference='REGULAR'))[T.PACE]               0.2977      0.144      2.065      0.039       0.015       0.580\n",
      "PTJE_POND                                                     0.0007   1.43e-05     46.441      0.000       0.001       0.001\n",
      "PTJE_POND:C(TIPO, Treatment(reference='REGULAR'))[T.+MC]     -0.0001      0.000     -0.739      0.460      -0.000       0.000\n",
      "PTJE_POND:C(TIPO, Treatment(reference='REGULAR'))[T.BEA]     -0.0007      0.000     -3.319      0.001      -0.001      -0.000\n",
      "PTJE_POND:C(TIPO, Treatment(reference='REGULAR'))[T.PACE]    -0.0004      0.000     -2.460      0.014      -0.001    -7.5e-05\n",
      "=============================================================================================================================\n"
     ]
    }
   ],
   "source": [
    "probit_model = smf.probit(\"PRA ~ PTJE_POND*C(TIPO, Treatment(reference='REGULAR'))\", data=demre).fit()\n",
    "print(probit_model.summary())\n",
    "\n",
    "mfx = probit_model.get_margeff()\n",
    "print(mfx.summary())"
   ]
  },
  {
   "cell_type": "markdown",
   "metadata": {},
   "source": [
    "### Logit"
   ]
  },
  {
   "cell_type": "code",
   "execution_count": 7,
   "metadata": {},
   "outputs": [
    {
     "name": "stdout",
     "output_type": "stream",
     "text": [
      "Optimization terminated successfully.\n",
      "         Current function value: 0.681547\n",
      "         Iterations 4\n",
      "                           Logit Regression Results                           \n",
      "==============================================================================\n",
      "Dep. Variable:                    PRA   No. Observations:               115353\n",
      "Model:                          Logit   Df Residuals:                   115345\n",
      "Method:                           MLE   Df Model:                            7\n",
      "Date:                Thu, 24 Apr 2025   Pseudo R-squ.:                 0.01357\n",
      "Time:                        14:47:30   Log-Likelihood:                -78618.\n",
      "converged:                       True   LL-Null:                       -79700.\n",
      "Covariance Type:            nonrobust   LLR p-value:                     0.000\n",
      "=============================================================================================================================\n",
      "                                                                coef    std err          z      P>|z|      [0.025      0.975]\n",
      "-----------------------------------------------------------------------------------------------------------------------------\n",
      "Intercept                                                    -1.7940      0.043    -41.510      0.000      -1.879      -1.709\n",
      "C(TIPO, Treatment(reference='REGULAR'))[T.+MC]                0.2786      0.467      0.596      0.551      -0.637       1.194\n",
      "C(TIPO, Treatment(reference='REGULAR'))[T.BEA]                1.9823      0.619      3.205      0.001       0.770       3.195\n",
      "C(TIPO, Treatment(reference='REGULAR'))[T.PACE]               1.2104      0.596      2.031      0.042       0.042       2.378\n",
      "PTJE_POND                                                     0.0027   6.06e-05     44.870      0.000       0.003       0.003\n",
      "PTJE_POND:C(TIPO, Treatment(reference='REGULAR'))[T.+MC]     -0.0005      0.001     -0.755      0.450      -0.002       0.001\n",
      "PTJE_POND:C(TIPO, Treatment(reference='REGULAR'))[T.BEA]     -0.0028      0.001     -3.334      0.001      -0.004      -0.001\n",
      "PTJE_POND:C(TIPO, Treatment(reference='REGULAR'))[T.PACE]    -0.0015      0.001     -2.420      0.016      -0.003      -0.000\n",
      "=============================================================================================================================\n",
      "        Logit Marginal Effects       \n",
      "=====================================\n",
      "Dep. Variable:                    PRA\n",
      "Method:                          dydx\n",
      "At:                           overall\n",
      "=============================================================================================================================\n",
      "                                                               dy/dx    std err          z      P>|z|      [0.025      0.975]\n",
      "-----------------------------------------------------------------------------------------------------------------------------\n",
      "C(TIPO, Treatment(reference='REGULAR'))[T.+MC]                0.0680      0.114      0.596      0.551      -0.156       0.292\n",
      "C(TIPO, Treatment(reference='REGULAR'))[T.BEA]                0.4842      0.151      3.205      0.001       0.188       0.780\n",
      "C(TIPO, Treatment(reference='REGULAR'))[T.PACE]               0.2957      0.146      2.031      0.042       0.010       0.581\n",
      "PTJE_POND                                                     0.0007   1.43e-05     46.489      0.000       0.001       0.001\n",
      "PTJE_POND:C(TIPO, Treatment(reference='REGULAR'))[T.+MC]     -0.0001      0.000     -0.755      0.450      -0.000       0.000\n",
      "PTJE_POND:C(TIPO, Treatment(reference='REGULAR'))[T.BEA]     -0.0007      0.000     -3.334      0.001      -0.001      -0.000\n",
      "PTJE_POND:C(TIPO, Treatment(reference='REGULAR'))[T.PACE]    -0.0004      0.000     -2.420      0.016      -0.001   -6.98e-05\n",
      "=============================================================================================================================\n"
     ]
    }
   ],
   "source": [
    "logit_model = smf.logit(\"PRA ~ PTJE_POND*C(TIPO, Treatment(reference='REGULAR'))\", data=demre).fit()\n",
    "print(logit_model.summary())\n",
    "\n",
    "mfx = logit_model.get_margeff()\n",
    "print(mfx.summary())"
   ]
  },
  {
   "cell_type": "markdown",
   "metadata": {},
   "source": [
    "### Poisson"
   ]
  },
  {
   "cell_type": "code",
   "execution_count": 8,
   "metadata": {},
   "outputs": [
    {
     "data": {
      "text/plain": [
       "(array([84375., 18629.,  6147.,  2695.,  1394.,   869.,   531.,   341.,\n",
       "          230.,   142.]),\n",
       " array([ 1. ,  2.9,  4.8,  6.7,  8.6, 10.5, 12.4, 14.3, 16.2, 18.1, 20. ]),\n",
       " <BarContainer object of 10 artists>)"
      ]
     },
     "execution_count": 8,
     "metadata": {},
     "output_type": "execute_result"
    },
    {
     "data": {
      "image/png": "[encoded data removed]",
      "text/plain": [
       "<Figure size 640x480 with 1 Axes>"
      ]
     },
     "metadata": {},
     "output_type": "display_data"
    }
   ],
   "source": [
    "plt.hist(demre.PREFERENCIA)"
   ]
  },
  {
   "cell_type": "code",
   "execution_count": 9,
   "metadata": {},
   "outputs": [
    {
     "name": "stdout",
     "output_type": "stream",
     "text": [
      "Optimization terminated successfully.\n",
      "         Current function value: 2.007541\n",
      "         Iterations 8\n",
      "                          Poisson Regression Results                          \n",
      "==============================================================================\n",
      "Dep. Variable:            PREFERENCIA   No. Observations:               115353\n",
      "Model:                        Poisson   Df Residuals:                   115345\n",
      "Method:                           MLE   Df Model:                            7\n",
      "Date:                Thu, 24 Apr 2025   Pseudo R-squ.:                0.008066\n",
      "Time:                        14:47:31   Log-Likelihood:            -2.3158e+05\n",
      "converged:                       True   LL-Null:                   -2.3346e+05\n",
      "Covariance Type:            nonrobust   LLR p-value:                     0.000\n",
      "=============================================================================================================================\n",
      "                                                                coef    std err          z      P>|z|      [0.025      0.975]\n",
      "-----------------------------------------------------------------------------------------------------------------------------\n",
      "Intercept                                                     1.6584      0.014    120.126      0.000       1.631       1.685\n",
      "C(TIPO, Treatment(reference='REGULAR'))[T.+MC]               -0.0161      0.151     -0.107      0.915      -0.311       0.279\n",
      "C(TIPO, Treatment(reference='REGULAR'))[T.BEA]               -0.6286      0.207     -3.031      0.002      -1.035      -0.222\n",
      "C(TIPO, Treatment(reference='REGULAR'))[T.PACE]               0.0597      0.201      0.297      0.767      -0.335       0.454\n",
      "PTJE_POND                                                    -0.0012   1.96e-05    -59.831      0.000      -0.001      -0.001\n",
      "PTJE_POND:C(TIPO, Treatment(reference='REGULAR'))[T.+MC]  -7.534e-05      0.000     -0.326      0.744      -0.001       0.000\n",
      "PTJE_POND:C(TIPO, Treatment(reference='REGULAR'))[T.BEA]      0.0009      0.000      3.037      0.002       0.000       0.001\n",
      "PTJE_POND:C(TIPO, Treatment(reference='REGULAR'))[T.PACE]  6.448e-05      0.000      0.306      0.760      -0.000       0.000\n",
      "=============================================================================================================================\n"
     ]
    }
   ],
   "source": [
    "poisson = smf.poisson(\"PREFERENCIA ~ PTJE_POND*C(TIPO, Treatment(reference='REGULAR'))\", data=demre).fit()\n",
    "print(poisson.summary())"
   ]
  },
  {
   "cell_type": "code",
   "execution_count": 10,
   "metadata": {},
   "outputs": [
    {
     "name": "stdout",
     "output_type": "stream",
     "text": [
      "0         2.282521\n",
      "1         2.273032\n",
      "2         1.878068\n",
      "3         2.468069\n",
      "4         2.481428\n",
      "            ...   \n",
      "118354    2.065103\n",
      "118355    2.543190\n",
      "118356    2.189514\n",
      "118357    2.359874\n",
      "118358    2.683776\n",
      "Length: 115353, dtype: float64\n"
     ]
    }
   ],
   "source": [
    "predictions = poisson.predict(demre)\n",
    "print(predictions)"
   ]
  },
  {
   "cell_type": "markdown",
   "metadata": {},
   "source": [
    "### Negative Binomial"
   ]
  },
  {
   "cell_type": "code",
   "execution_count": 11,
   "metadata": {},
   "outputs": [
    {
     "name": "stdout",
     "output_type": "stream",
     "text": [
      "Warning: Maximum number of iterations has been exceeded.\n",
      "         Current function value: 1.887567\n",
      "         Iterations: 35\n",
      "         Function evaluations: 48\n",
      "         Gradient evaluations: 48\n",
      "                     NegativeBinomial Regression Results                      \n",
      "==============================================================================\n",
      "Dep. Variable:            PREFERENCIA   No. Observations:               115353\n",
      "Model:               NegativeBinomial   Df Residuals:                   115345\n",
      "Method:                           MLE   Df Model:                            7\n",
      "Date:                Thu, 24 Apr 2025   Pseudo R-squ.:                0.005100\n",
      "Time:                        14:47:37   Log-Likelihood:            -2.1774e+05\n",
      "converged:                      False   LL-Null:                   -2.1885e+05\n",
      "Covariance Type:            nonrobust   LLR p-value:                     0.000\n",
      "=============================================================================================================================\n",
      "                                                                coef    std err          z      P>|z|      [0.025      0.975]\n",
      "-----------------------------------------------------------------------------------------------------------------------------\n",
      "Intercept                                                     1.6322      0.017     93.685      0.000       1.598       1.666\n",
      "C(TIPO, Treatment(reference='REGULAR'))[T.+MC]                0.0223      0.194      0.115      0.909      -0.358       0.402\n",
      "C(TIPO, Treatment(reference='REGULAR'))[T.BEA]               -0.6145      0.260     -2.360      0.018      -1.125      -0.104\n",
      "C(TIPO, Treatment(reference='REGULAR'))[T.PACE]               0.0757      0.251      0.301      0.763      -0.416       0.567\n",
      "PTJE_POND                                                    -0.0011   2.46e-05    -46.218      0.000      -0.001      -0.001\n",
      "PTJE_POND:C(TIPO, Treatment(reference='REGULAR'))[T.+MC]     -0.0001      0.000     -0.444      0.657      -0.001       0.000\n",
      "PTJE_POND:C(TIPO, Treatment(reference='REGULAR'))[T.BEA]      0.0008      0.000      2.362      0.018       0.000       0.002\n",
      "PTJE_POND:C(TIPO, Treatment(reference='REGULAR'))[T.PACE]  3.787e-05      0.000      0.144      0.885      -0.000       0.001\n",
      "alpha                                                         0.2722      0.003    107.984      0.000       0.267       0.277\n",
      "=============================================================================================================================\n"
     ]
    }
   ],
   "source": [
    "nbin = smf.negativebinomial(\"PREFERENCIA ~ PTJE_POND*C(TIPO, Treatment(reference='REGULAR'))\", data=demre).fit()\n",
    "print(nbin.summary())"
   ]
  },
  {
   "cell_type": "code",
   "execution_count": 12,
   "metadata": {},
   "outputs": [
    {
     "name": "stdout",
     "output_type": "stream",
     "text": [
      "0         2.283147\n",
      "1         2.273955\n",
      "2         1.890228\n",
      "3         2.462640\n",
      "4         2.475546\n",
      "            ...   \n",
      "118354    2.072231\n",
      "118355    2.535186\n",
      "118356    2.193003\n",
      "118357    2.358029\n",
      "118358    2.670772\n",
      "Name: predictions, Length: 115353, dtype: float64\n"
     ]
    }
   ],
   "source": [
    "demre['predictions'] = nbin.predict(demre).astype(float)\n",
    "print(demre.predictions)"
   ]
  },
  {
   "cell_type": "code",
   "execution_count": 13,
   "metadata": {},
   "outputs": [
    {
     "data": {
      "text/plain": [
       "5.340407628269691"
      ]
     },
     "execution_count": 13,
     "metadata": {},
     "output_type": "execute_result"
    }
   ],
   "source": [
    "demre['sres']=(demre['PREFERENCIA']-demre['predictions'])**2\n",
    "demre['sres'].sum()/115345"
   ]
  },
  {
   "cell_type": "markdown",
   "metadata": {},
   "source": [
    "### Test overdispersion\n",
    "\n",
    "A simple test for overdispersion can be determined with the results of the Poisson model, using the ratio of Pearson chi2 / Df Residuals. A value larger than 1 indicates overdispersion.\n",
    "\n",
    "The Negative Binomial model estimated above is using a value of $\\theta$ (or $\\alpha=1/\\theta$) equal to 1. In order to determine the appropiate value of $\\alpha$, you can estimate a simple regression using the output of the Poisson model:\n",
    "\n",
    "1. Construct the following variable aux=$[(y-\\lambda)^2-\\lambda]/\\lambda$\n",
    "2. Regress the variable aux with $\\lambda$ as the only explanatory variable (no constant)\n",
    "3. The estimated value is an appropiate guess for $\\ln \\alpha$\n",
    "\n",
    "In the model of the previous section, just use the options on sm.families.NegativeBinomial, in order to manually enter the value of alpha. See example below."
   ]
  },
  {
   "cell_type": "code",
   "execution_count": 14,
   "metadata": {},
   "outputs": [
    {
     "name": "stdout",
     "output_type": "stream",
     "text": [
      "                                 OLS Regression Results                                \n",
      "=======================================================================================\n",
      "Dep. Variable:                      y   R-squared (uncentered):                   0.019\n",
      "Model:                            OLS   Adj. R-squared (uncentered):              0.019\n",
      "Method:                 Least Squares   F-statistic:                              2229.\n",
      "Date:                Thu, 24 Apr 2025   Prob (F-statistic):                        0.00\n",
      "Time:                        14:47:37   Log-Likelihood:                     -4.2299e+05\n",
      "No. Observations:              115353   AIC:                                  8.460e+05\n",
      "Df Residuals:                  115352   BIC:                                  8.460e+05\n",
      "Df Model:                           1                                                  \n",
      "Covariance Type:            nonrobust                                                  \n",
      "==============================================================================\n",
      "                 coef    std err          t      P>|t|      [0.025      0.975]\n",
      "------------------------------------------------------------------------------\n",
      "x1             0.5691      0.012     47.210      0.000       0.546       0.593\n",
      "==============================================================================\n",
      "Omnibus:                   166403.294   Durbin-Watson:                   1.976\n",
      "Prob(Omnibus):                  0.000   Jarque-Bera (JB):         47378108.440\n",
      "Skew:                           8.874   Prob(JB):                         0.00\n",
      "Kurtosis:                     100.685   Cond. No.                         1.00\n",
      "==============================================================================\n",
      "\n",
      "Notes:\n",
      "[1] R² is computed without centering (uncentered) since the model does not contain a constant.\n",
      "[2] Standard Errors assume that the covariance matrix of the errors is correctly specified.\n"
     ]
    }
   ],
   "source": [
    "aux=((demre['PREFERENCIA']-predictions)**2-predictions)/predictions\n",
    "auxr=sm.OLS(aux,predictions).fit()\n",
    "print(auxr.summary())"
   ]
  },
  {
   "cell_type": "code",
   "execution_count": 15,
   "metadata": {},
   "outputs": [
    {
     "name": "stdout",
     "output_type": "stream",
     "text": [
      "Warning: Maximum number of iterations has been exceeded.\n",
      "         Current function value: 1.887567\n",
      "         Iterations: 35\n",
      "         Function evaluations: 48\n",
      "         Gradient evaluations: 48\n",
      "                     NegativeBinomial Regression Results                      \n",
      "==============================================================================\n",
      "Dep. Variable:            PREFERENCIA   No. Observations:               115353\n",
      "Model:               NegativeBinomial   Df Residuals:                   115345\n",
      "Method:                           MLE   Df Model:                            7\n",
      "Date:                Thu, 24 Apr 2025   Pseudo R-squ.:                0.005100\n",
      "Time:                        14:47:43   Log-Likelihood:            -2.1774e+05\n",
      "converged:                      False   LL-Null:                   -2.1885e+05\n",
      "Covariance Type:            nonrobust   LLR p-value:                     0.000\n",
      "=============================================================================================================================\n",
      "                                                                coef    std err          z      P>|z|      [0.025      0.975]\n",
      "-----------------------------------------------------------------------------------------------------------------------------\n",
      "Intercept                                                     1.6322      0.017     93.685      0.000       1.598       1.666\n",
      "C(TIPO, Treatment(reference='REGULAR'))[T.+MC]                0.0223      0.194      0.115      0.909      -0.358       0.402\n",
      "C(TIPO, Treatment(reference='REGULAR'))[T.BEA]               -0.6145      0.260     -2.360      0.018      -1.125      -0.104\n",
      "C(TIPO, Treatment(reference='REGULAR'))[T.PACE]               0.0757      0.251      0.301      0.763      -0.416       0.567\n",
      "PTJE_POND                                                    -0.0011   2.46e-05    -46.218      0.000      -0.001      -0.001\n",
      "PTJE_POND:C(TIPO, Treatment(reference='REGULAR'))[T.+MC]     -0.0001      0.000     -0.444      0.657      -0.001       0.000\n",
      "PTJE_POND:C(TIPO, Treatment(reference='REGULAR'))[T.BEA]      0.0008      0.000      2.362      0.018       0.000       0.002\n",
      "PTJE_POND:C(TIPO, Treatment(reference='REGULAR'))[T.PACE]  3.787e-05      0.000      0.144      0.885      -0.000       0.001\n",
      "alpha                                                         0.2722      0.003    107.984      0.000       0.267       0.277\n",
      "=============================================================================================================================\n"
     ]
    }
   ],
   "source": [
    "nbin = smf.negativebinomial(\"PREFERENCIA ~ PTJE_POND*C(TIPO, Treatment(reference='REGULAR'))\", data=demre).fit(alpha=1.24)\n",
    "print(nbin.summary())"
   ]
  },
  {
   "cell_type": "code",
   "execution_count": 16,
   "metadata": {},
   "outputs": [
    {
     "data": {
      "text/plain": [
       "<Axes: xlabel='predictions', ylabel='PREFERENCIA'>"
      ]
     },
     "execution_count": 16,
     "metadata": {},
     "output_type": "execute_result"
    },
    {
     "data": {
      "image/png": "[encoded data removed]",
      "text/plain": [
       "<Figure size 640x480 with 1 Axes>"
      ]
     },
     "metadata": {},
     "output_type": "display_data"
    }
   ],
   "source": [
    "sns.scatterplot(data=demre, y=\"PREFERENCIA\", x=\"predictions\")"
   ]
  },
  {
   "cell_type": "markdown",
   "metadata": {},
   "source": [
    "<font size=\"3\">**Tarea 1 2025**</font>\n",
    "\n",
    "<u> *Instrucciones* </u>\n",
    "\n",
    "Su notebook con las respuestas a la tarea se deben entregar a mas tardar el dia 24/04/25 hasta las 23:59, subiendolo al repositorio en la carpeta tareas/2025. \n",
    "\n",
    "Es importante considerar que el código debe poder ejecutarse en cualquier computadora con la data original del repositorio. Recordar la convencion para el nombre de archivo ademas de incluir en su documento titulos y encabezados por seccion. La data a utilizar es **machine_failure_data.csv**.\n",
    "\n",
    "Las variables tienen la siguiente descripcion:\n",
    "\n",
    "- Date: data medida en frecuencia diaria\n",
    "- Location: ubicacion del medidor\n",
    "- Min_Temp: temperatura minima observada\n",
    "- Max_Temp: temperatura maxima observada\n",
    "- Leakage: Filtracion medida en el area\n",
    "- Evaporation: Tasa de evaporacion\n",
    "- Electricity: Consumo electrico KW\n",
    "- Parameter#: Diferentes sensores de reportando direccion y velocidad de viento en distintos momentos del dia, asi como otras metricas relevantes.\n",
    "- Failure today: El sensor reporta fallo (o no)"
   ]
  },
  {
   "cell_type": "markdown",
   "metadata": {},
   "source": [
    "<u> Preguntas (todas tienen el mismo puntaje): </u> \n",
    "\n",
    "1. Cargar la base de datos en el ambiente. Identifique los tipos de datos que se encuentran en la base, realice estadisticas descriptivas sobre las variables importantes (Hint: Revisar la distribuciones, datos faltantes, outliers, etc.) y limpie las variables cuando sea necesario. \n"
   ]
  },
  {
   "cell_type": "code",
   "execution_count": 70,
   "metadata": {},
   "outputs": [],
   "source": [
    "import numpy as np\n",
    "import pandas as pd\n",
    "import matplotlib.pyplot as plt\n",
    "import statsmodels.api as sm\n",
    "import statsmodels.formula.api as smf\n",
    "from scipy.stats import nbinom\n",
    "import seaborn as sns\n",
    "\n",
    "import warnings\n",
    "warnings.filterwarnings(\"ignore\")\n"
   ]
  },
  {
   "cell_type": "code",
   "execution_count": 71,
   "metadata": {},
   "outputs": [],
   "source": [
    "def dir(x):\n",
    "    if x[0] == \"N\":\n",
    "        return(\"N\")\n",
    "    elif x[0] == \"S\":\n",
    "        return(\"S\")\n",
    "    elif x[0] == \"E\":\n",
    "        return(\"E\")\n",
    "    else:\n",
    "        return(\"W\")"
   ]
  },
  {
   "cell_type": "code",
   "execution_count": 72,
   "metadata": {},
   "outputs": [
    {
     "data": {
      "application/vnd.microsoft.datawrangler.viewer.v0+json": {
       "columns": [
        {
         "name": "index",
         "rawType": "int64",
         "type": "integer"
        },
        {
         "name": "Date",
         "rawType": "datetime64[ns]",
         "type": "datetime"
        },
        {
         "name": "Location",
         "rawType": "int64",
         "type": "integer"
        },
        {
         "name": "Min_Temp",
         "rawType": "object",
         "type": "string"
        },
        {
         "name": "Max_Temp",
         "rawType": "float64",
         "type": "float"
        },
        {
         "name": "Leakage",
         "rawType": "object",
         "type": "string"
        },
        {
         "name": "Evaporation",
         "rawType": "float64",
         "type": "float"
        },
        {
         "name": "Electricity",
         "rawType": "float64",
         "type": "float"
        },
        {
         "name": "Parameter1_Dir",
         "rawType": "object",
         "type": "string"
        },
        {
         "name": "Parameter1_Speed",
         "rawType": "float64",
         "type": "float"
        },
        {
         "name": "Parameter2_9am",
         "rawType": "object",
         "type": "string"
        },
        {
         "name": "Parameter2_3pm",
         "rawType": "object",
         "type": "string"
        },
        {
         "name": "Parameter3_9am",
         "rawType": "float64",
         "type": "float"
        },
        {
         "name": "Parameter3_3pm",
         "rawType": "float64",
         "type": "float"
        },
        {
         "name": "Parameter4_9am",
         "rawType": "float64",
         "type": "float"
        },
        {
         "name": "Parameter4_3pm",
         "rawType": "float64",
         "type": "float"
        },
        {
         "name": "Parameter5_9am",
         "rawType": "object",
         "type": "string"
        },
        {
         "name": "Parameter5_3pm",
         "rawType": "object",
         "type": "string"
        },
        {
         "name": "Parameter6_9am",
         "rawType": "float64",
         "type": "float"
        },
        {
         "name": "Parameter6_3pm",
         "rawType": "float64",
         "type": "float"
        },
        {
         "name": "Parameter7_9am",
         "rawType": "object",
         "type": "string"
        },
        {
         "name": "Parameter7_3pm",
         "rawType": "object",
         "type": "string"
        },
        {
         "name": "Failure_today",
         "rawType": "object",
         "type": "string"
        },
        {
         "name": "año",
         "rawType": "int32",
         "type": "integer"
        },
        {
         "name": "mes",
         "rawType": "int32",
         "type": "integer"
        },
        {
         "name": "fail",
         "rawType": "float64",
         "type": "float"
        },
        {
         "name": "IEl",
         "rawType": "int32",
         "type": "integer"
        },
        {
         "name": "IEv",
         "rawType": "int32",
         "type": "integer"
        }
       ],
       "conversionMethod": "pd.DataFrame",
       "ref": "c23e9a3c-7c80-4d2a-8fd9-e49d4294d309",
       "rows": [
        [
         "21",
         "2009-01-22 00:00:00",
         "3",
         "24.4",
         "34.0",
         "0.6",
         "0.0",
         "0.0",
         "NW",
         "98.0",
         "N",
         "N",
         "26.0",
         "48.0",
         "60.0",
         "39.0",
         "1005.3",
         "997.8",
         "4.0",
         "1.0",
         "26.1",
         "33.1",
         "No",
         "2009",
         "1",
         "0.0",
         "1",
         "1"
        ],
        [
         "39",
         "2009-02-09 00:00:00",
         "3",
         "18.4",
         "31.2",
         "0.4",
         "0.0",
         "0.0",
         "SE",
         "37.0",
         "S",
         "W",
         "7.0",
         "11.0",
         "66.0",
         "31.0",
         "1009.3",
         "1007.8",
         "7.0",
         "8.0",
         "18.7",
         "29.4",
         "No",
         "2009",
         "2",
         "0.0",
         "1",
         "1"
        ],
        [
         "42",
         "2009-02-12 00:00:00",
         "3",
         "16.1",
         "21.6",
         "0",
         "0.0",
         "0.0",
         "SE",
         "46.0",
         "S",
         "N",
         "11.0",
         "15.0",
         "58.0",
         "69.0",
         "1017",
         "1017.3",
         "2.0",
         "8.0",
         "17",
         "17.3",
         "No",
         "2009",
         "2",
         "0.0",
         "1",
         "1"
        ],
        [
         "54",
         "2009-02-24 00:00:00",
         "3",
         "12.9",
         "29.6",
         "0",
         "0.0",
         "0.0",
         "WNW",
         "46.0",
         "S",
         "W",
         "7.0",
         "24.0",
         "54.0",
         "14.0",
         "1014",
         "1012.7",
         "6.0",
         "7.0",
         "18.7",
         "28.6",
         "No",
         "2009",
         "2",
         "0.0",
         "1",
         "1"
        ],
        [
         "80",
         "2009-03-22 00:00:00",
         "3",
         "14.6",
         "30.0",
         "0",
         "0.0",
         "0.0",
         "NE",
         "37.0",
         "E",
         "N",
         "4.0",
         "19.0",
         "56.0",
         "30.0",
         "1014.8",
         "1012.7",
         "3.0",
         "1.0",
         "18.1",
         "29",
         "No",
         "2009",
         "3",
         "0.0",
         "1",
         "1"
        ]
       ],
       "shape": {
        "columns": 27,
        "rows": 5
       }
      },
      "text/html": [
       "<div>\n",
       "<style scoped>\n",
       "    .dataframe tbody tr th:only-of-type {\n",
       "        vertical-align: middle;\n",
       "    }\n",
       "\n",
       "    .dataframe tbody tr th {\n",
       "        vertical-align: top;\n",
       "    }\n",
       "\n",
       "    .dataframe thead th {\n",
       "        text-align: right;\n",
       "    }\n",
       "</style>\n",
       "<table border=\"1\" class=\"dataframe\">\n",
       "  <thead>\n",
       "    <tr style=\"text-align: right;\">\n",
       "      <th></th>\n",
       "      <th>Date</th>\n",
       "      <th>Location</th>\n",
       "      <th>Min_Temp</th>\n",
       "      <th>Max_Temp</th>\n",
       "      <th>Leakage</th>\n",
       "      <th>Evaporation</th>\n",
       "      <th>Electricity</th>\n",
       "      <th>Parameter1_Dir</th>\n",
       "      <th>Parameter1_Speed</th>\n",
       "      <th>Parameter2_9am</th>\n",
       "      <th>...</th>\n",
       "      <th>Parameter6_9am</th>\n",
       "      <th>Parameter6_3pm</th>\n",
       "      <th>Parameter7_9am</th>\n",
       "      <th>Parameter7_3pm</th>\n",
       "      <th>Failure_today</th>\n",
       "      <th>año</th>\n",
       "      <th>mes</th>\n",
       "      <th>fail</th>\n",
       "      <th>IEl</th>\n",
       "      <th>IEv</th>\n",
       "    </tr>\n",
       "  </thead>\n",
       "  <tbody>\n",
       "    <tr>\n",
       "      <th>21</th>\n",
       "      <td>2009-01-22</td>\n",
       "      <td>3</td>\n",
       "      <td>24.4</td>\n",
       "      <td>34.0</td>\n",
       "      <td>0.6</td>\n",
       "      <td>0.0</td>\n",
       "      <td>0.0</td>\n",
       "      <td>NW</td>\n",
       "      <td>98.0</td>\n",
       "      <td>N</td>\n",
       "      <td>...</td>\n",
       "      <td>4.0</td>\n",
       "      <td>1.0</td>\n",
       "      <td>26.1</td>\n",
       "      <td>33.1</td>\n",
       "      <td>No</td>\n",
       "      <td>2009</td>\n",
       "      <td>1</td>\n",
       "      <td>0.0</td>\n",
       "      <td>1</td>\n",
       "      <td>1</td>\n",
       "    </tr>\n",
       "    <tr>\n",
       "      <th>39</th>\n",
       "      <td>2009-02-09</td>\n",
       "      <td>3</td>\n",
       "      <td>18.4</td>\n",
       "      <td>31.2</td>\n",
       "      <td>0.4</td>\n",
       "      <td>0.0</td>\n",
       "      <td>0.0</td>\n",
       "      <td>SE</td>\n",
       "      <td>37.0</td>\n",
       "      <td>S</td>\n",
       "      <td>...</td>\n",
       "      <td>7.0</td>\n",
       "      <td>8.0</td>\n",
       "      <td>18.7</td>\n",
       "      <td>29.4</td>\n",
       "      <td>No</td>\n",
       "      <td>2009</td>\n",
       "      <td>2</td>\n",
       "      <td>0.0</td>\n",
       "      <td>1</td>\n",
       "      <td>1</td>\n",
       "    </tr>\n",
       "    <tr>\n",
       "      <th>42</th>\n",
       "      <td>2009-02-12</td>\n",
       "      <td>3</td>\n",
       "      <td>16.1</td>\n",
       "      <td>21.6</td>\n",
       "      <td>0</td>\n",
       "      <td>0.0</td>\n",
       "      <td>0.0</td>\n",
       "      <td>SE</td>\n",
       "      <td>46.0</td>\n",
       "      <td>S</td>\n",
       "      <td>...</td>\n",
       "      <td>2.0</td>\n",
       "      <td>8.0</td>\n",
       "      <td>17</td>\n",
       "      <td>17.3</td>\n",
       "      <td>No</td>\n",
       "      <td>2009</td>\n",
       "      <td>2</td>\n",
       "      <td>0.0</td>\n",
       "      <td>1</td>\n",
       "      <td>1</td>\n",
       "    </tr>\n",
       "    <tr>\n",
       "      <th>54</th>\n",
       "      <td>2009-02-24</td>\n",
       "      <td>3</td>\n",
       "      <td>12.9</td>\n",
       "      <td>29.6</td>\n",
       "      <td>0</td>\n",
       "      <td>0.0</td>\n",
       "      <td>0.0</td>\n",
       "      <td>WNW</td>\n",
       "      <td>46.0</td>\n",
       "      <td>S</td>\n",
       "      <td>...</td>\n",
       "      <td>6.0</td>\n",
       "      <td>7.0</td>\n",
       "      <td>18.7</td>\n",
       "      <td>28.6</td>\n",
       "      <td>No</td>\n",
       "      <td>2009</td>\n",
       "      <td>2</td>\n",
       "      <td>0.0</td>\n",
       "      <td>1</td>\n",
       "      <td>1</td>\n",
       "    </tr>\n",
       "    <tr>\n",
       "      <th>80</th>\n",
       "      <td>2009-03-22</td>\n",
       "      <td>3</td>\n",
       "      <td>14.6</td>\n",
       "      <td>30.0</td>\n",
       "      <td>0</td>\n",
       "      <td>0.0</td>\n",
       "      <td>0.0</td>\n",
       "      <td>NE</td>\n",
       "      <td>37.0</td>\n",
       "      <td>E</td>\n",
       "      <td>...</td>\n",
       "      <td>3.0</td>\n",
       "      <td>1.0</td>\n",
       "      <td>18.1</td>\n",
       "      <td>29</td>\n",
       "      <td>No</td>\n",
       "      <td>2009</td>\n",
       "      <td>3</td>\n",
       "      <td>0.0</td>\n",
       "      <td>1</td>\n",
       "      <td>1</td>\n",
       "    </tr>\n",
       "  </tbody>\n",
       "</table>\n",
       "<p>5 rows × 27 columns</p>\n",
       "</div>"
      ],
      "text/plain": [
       "         Date  Location Min_Temp  Max_Temp Leakage  Evaporation  Electricity  \\\n",
       "21 2009-01-22         3     24.4      34.0     0.6          0.0          0.0   \n",
       "39 2009-02-09         3     18.4      31.2     0.4          0.0          0.0   \n",
       "42 2009-02-12         3     16.1      21.6       0          0.0          0.0   \n",
       "54 2009-02-24         3     12.9      29.6       0          0.0          0.0   \n",
       "80 2009-03-22         3     14.6      30.0       0          0.0          0.0   \n",
       "\n",
       "   Parameter1_Dir  Parameter1_Speed Parameter2_9am  ... Parameter6_9am  \\\n",
       "21             NW              98.0              N  ...            4.0   \n",
       "39             SE              37.0              S  ...            7.0   \n",
       "42             SE              46.0              S  ...            2.0   \n",
       "54            WNW              46.0              S  ...            6.0   \n",
       "80             NE              37.0              E  ...            3.0   \n",
       "\n",
       "    Parameter6_3pm  Parameter7_9am  Parameter7_3pm  Failure_today   año mes  \\\n",
       "21             1.0            26.1            33.1             No  2009   1   \n",
       "39             8.0            18.7            29.4             No  2009   2   \n",
       "42             8.0              17            17.3             No  2009   2   \n",
       "54             7.0            18.7            28.6             No  2009   2   \n",
       "80             1.0            18.1              29             No  2009   3   \n",
       "\n",
       "    fail  IEl IEv  \n",
       "21   0.0    1   1  \n",
       "39   0.0    1   1  \n",
       "42   0.0    1   1  \n",
       "54   0.0    1   1  \n",
       "80   0.0    1   1  \n",
       "\n",
       "[5 rows x 27 columns]"
      ]
     },
     "execution_count": 72,
     "metadata": {},
     "output_type": "execute_result"
    }
   ],
   "source": [
    "df = pd.read_csv('../data/machine_failure_data.csv', delimiter = ',', decimal = ',')\n",
    "\n",
    "df['Date'] = pd.to_datetime(df['Date'], format='%m/%d/%Y')\n",
    "df['año'] = df['Date'].dt.year\n",
    "df['mes'] = df['Date'].dt.month\n",
    "df = df[df['año'] >= 2009]\n",
    "df['fail'] = df['Failure_today'].map({'Yes': 1, 'No': 0})\n",
    "df['IEl'] = df['Electricity'].isna().astype(int)\n",
    "df['Electricity']=df['Electricity'].fillna(0).astype(float)\n",
    "df['IEv'] = df['Evaporation'].isna().astype(int)\n",
    "df['Evaporation']=df['Evaporation'].fillna(0).astype(float)\n",
    "df['Max_Temp'] = df['Max_Temp'].astype(float)\n",
    "\n",
    "df_mask = df[(df[\"Location\"] == 17) | (df[\"Location\"] == 26) | (df[\"Location\"] == 42)| (df[\"Location\"] == 46)| (df[\"Location\"] == 19)] #Eliminamos años con pocos datos\n",
    "df = df.drop(df_mask.index)\n",
    "df = df.reset_index(drop=True)\n",
    "df.dropna(inplace=True)\n",
    "\n",
    "df[\"Parameter2_9am\"] = df[\"Parameter2_9am\"].apply(dir)\n",
    "df[\"Parameter2_3pm\"] = df[\"Parameter2_3pm\"].apply(dir)\n",
    "\n",
    "df.head()"
   ]
  },
  {
   "cell_type": "markdown",
   "metadata": {},
   "source": [
    "2. Ejecute un modelo de probabilidad lineal (*MCO*) que permita explicar la probabilidad de que un dia se reporte fallo medido por sensor, a partir de las informacion disponible. Seleccione las variables dependientes a incluir en el modelo final e interprete su significado. "
   ]
  },
  {
   "cell_type": "code",
   "execution_count": 64,
   "metadata": {},
   "outputs": [
    {
     "name": "stdout",
     "output_type": "stream",
     "text": [
      "                            OLS Regression Results                            \n",
      "==============================================================================\n",
      "Dep. Variable:                   fail   R-squared:                       0.207\n",
      "Model:                            OLS   Adj. R-squared:                  0.206\n",
      "Method:                 Least Squares   F-statistic:                     340.2\n",
      "Date:                Tue, 29 Apr 2025   Prob (F-statistic):               0.00\n",
      "Time:                        15:49:50   Log-Likelihood:                -29345.\n",
      "No. Observations:               65255   AIC:                         5.879e+04\n",
      "Df Residuals:                   65204   BIC:                         5.925e+04\n",
      "Df Model:                          50                                         \n",
      "Covariance Type:            nonrobust                                         \n",
      "==========================================================================================\n",
      "                             coef    std err          t      P>|t|      [0.025      0.975]\n",
      "------------------------------------------------------------------------------------------\n",
      "Intercept                  0.8565      0.020     42.701      0.000       0.817       0.896\n",
      "C(Parameter2_3pm)[T.N]     0.0080      0.005      1.687      0.092      -0.001       0.017\n",
      "C(Parameter2_3pm)[T.S]     0.0519      0.005     11.471      0.000       0.043       0.061\n",
      "C(Parameter2_3pm)[T.W]     0.0908      0.005     17.795      0.000       0.081       0.101\n",
      "C(Location)[T.4]           0.0295      0.018      1.658      0.097      -0.005       0.064\n",
      "C(Location)[T.6]          -0.1886      0.017    -11.393      0.000      -0.221      -0.156\n",
      "C(Location)[T.7]          -0.1622      0.017     -9.584      0.000      -0.195      -0.129\n",
      "C(Location)[T.8]           0.1123      0.017      6.480      0.000       0.078       0.146\n",
      "C(Location)[T.9]           0.2230      0.018     12.646      0.000       0.188       0.258\n",
      "C(Location)[T.10]         -0.1415      0.018     -7.863      0.000      -0.177      -0.106\n",
      "C(Location)[T.11]         -0.0818      0.017     -4.690      0.000      -0.116      -0.048\n",
      "C(Location)[T.12]          0.0530      0.017      3.043      0.002       0.019       0.087\n",
      "C(Location)[T.14]          0.2328      0.018     13.151      0.000       0.198       0.267\n",
      "C(Location)[T.16]         -0.2129      0.018    -11.730      0.000      -0.248      -0.177\n",
      "C(Location)[T.20]         -0.1786      0.017    -10.359      0.000      -0.212      -0.145\n",
      "C(Location)[T.21]         -0.0861      0.017     -4.993      0.000      -0.120      -0.052\n",
      "C(Location)[T.22]         -0.0003      0.018     -0.018      0.985      -0.035       0.034\n",
      "C(Location)[T.23]         -0.0944      0.017     -5.553      0.000      -0.128      -0.061\n",
      "C(Location)[T.28]         -0.0146      0.017     -0.853      0.394      -0.048       0.019\n",
      "C(Location)[T.29]         -0.1161      0.018     -6.569      0.000      -0.151      -0.081\n",
      "C(Location)[T.30]         -0.0690      0.019     -3.700      0.000      -0.106      -0.032\n",
      "C(Location)[T.32]          0.0155      0.017      0.900      0.368      -0.018       0.049\n",
      "C(Location)[T.33]         -0.0306      0.017     -1.772      0.076      -0.064       0.003\n",
      "C(Location)[T.34]         -0.0478      0.017     -2.770      0.006      -0.082      -0.014\n",
      "C(Location)[T.35]          0.0501      0.024      2.053      0.040       0.002       0.098\n",
      "C(Location)[T.36]         -0.1755      0.017    -10.478      0.000      -0.208      -0.143\n",
      "C(Location)[T.38]         -0.0135      0.018     -0.741      0.459      -0.049       0.022\n",
      "C(Location)[T.39]         -0.0422      0.017     -2.445      0.014      -0.076      -0.008\n",
      "C(Location)[T.40]          0.1273      0.018      7.161      0.000       0.092       0.162\n",
      "C(Location)[T.43]         -0.0635      0.017     -3.689      0.000      -0.097      -0.030\n",
      "C(Location)[T.45]         -0.1011      0.017     -5.855      0.000      -0.135      -0.067\n",
      "C(Location)[T.48]         -0.0567      0.019     -3.006      0.003      -0.094      -0.020\n",
      "C(Location)[T.49]         -0.0710      0.018     -4.024      0.000      -0.106      -0.036\n",
      "C(mes)[T.2]               -0.0131      0.007     -1.790      0.073      -0.027       0.001\n",
      "C(mes)[T.3]               -0.0639      0.007     -9.064      0.000      -0.078      -0.050\n",
      "C(mes)[T.4]               -0.1439      0.008    -18.925      0.000      -0.159      -0.129\n",
      "C(mes)[T.5]               -0.2412      0.008    -30.216      0.000      -0.257      -0.226\n",
      "C(mes)[T.6]               -0.2810      0.009    -32.840      0.000      -0.298      -0.264\n",
      "C(mes)[T.7]               -0.2872      0.009    -33.000      0.000      -0.304      -0.270\n",
      "C(mes)[T.8]               -0.2515      0.008    -29.927      0.000      -0.268      -0.235\n",
      "C(mes)[T.9]               -0.2129      0.008    -26.667      0.000      -0.229      -0.197\n",
      "C(mes)[T.10]              -0.1527      0.008    -20.309      0.000      -0.167      -0.138\n",
      "C(mes)[T.11]              -0.0756      0.007    -10.364      0.000      -0.090      -0.061\n",
      "C(mes)[T.12]              -0.0297      0.007     -3.971      0.000      -0.044      -0.015\n",
      "Max_Temp                  -0.0197      0.000    -45.718      0.000      -0.020      -0.019\n",
      "Evaporation               -0.0134      0.001    -24.981      0.000      -0.014      -0.012\n",
      "Electricity               -0.0244      0.001    -48.156      0.000      -0.025      -0.023\n",
      "Parameter1_Speed           0.0071      0.000     42.973      0.000       0.007       0.007\n",
      "Parameter3_3pm            -0.0030      0.000    -11.250      0.000      -0.003      -0.002\n",
      "IEl                       -0.1460      0.008    -17.315      0.000      -0.163      -0.129\n",
      "IEv                        0.0264      0.009      2.935      0.003       0.009       0.044\n",
      "==============================================================================\n",
      "Omnibus:                     6409.780   Durbin-Watson:                   1.754\n",
      "Prob(Omnibus):                  0.000   Jarque-Bera (JB):             8087.064\n",
      "Skew:                           0.846   Prob(JB):                         0.00\n",
      "Kurtosis:                       2.664   Cond. No.                     2.99e+03\n",
      "==============================================================================\n",
      "\n",
      "Notes:\n",
      "[1] Standard Errors assume that the covariance matrix of the errors is correctly specified.\n",
      "[2] The condition number is large, 2.99e+03. This might indicate that there are\n",
      "strong multicollinearity or other numerical problems.\n"
     ]
    }
   ],
   "source": [
    "formula = \"fail ~ Max_Temp + Evaporation + Electricity + Parameter1_Speed + Parameter3_3pm + C(Parameter2_3pm) + C(Location) + C(mes) + IEl + IEv\"\n",
    "\n",
    "ols = smf.ols(formula, data=df).fit()\n",
    "print(ols.summary())"
   ]
  },
  {
   "cell_type": "markdown",
   "metadata": {},
   "source": [
    "3. Ejecute un modelo *probit* para responder a la pregunta 2. Seleccione las variables dependientes a incluir en el modelo final e interprete su significado. "
   ]
  },
  {
   "cell_type": "code",
   "execution_count": 29,
   "metadata": {},
   "outputs": [
    {
     "name": "stdout",
     "output_type": "stream",
     "text": [
      "Optimization terminated successfully.\n",
      "         Current function value: 0.429141\n",
      "         Iterations 7\n",
      "                          Probit Regression Results                           \n",
      "==============================================================================\n",
      "Dep. Variable:                   fail   No. Observations:                65255\n",
      "Model:                         Probit   Df Residuals:                    65204\n",
      "Method:                           MLE   Df Model:                           50\n",
      "Date:                Tue, 29 Apr 2025   Pseudo R-squ.:                  0.2183\n",
      "Time:                        15:22:21   Log-Likelihood:                -28004.\n",
      "converged:                       True   LL-Null:                       -35825.\n",
      "Covariance Type:            nonrobust   LLR p-value:                     0.000\n",
      "==========================================================================================\n",
      "                             coef    std err          z      P>|z|      [0.025      0.975]\n",
      "------------------------------------------------------------------------------------------\n",
      "Intercept                  2.0435      0.078     26.077      0.000       1.890       2.197\n",
      "C(Parameter2_3pm)[T.N]     0.0279      0.020      1.368      0.171      -0.012       0.068\n",
      "C(Parameter2_3pm)[T.S]     0.1692      0.019      8.928      0.000       0.132       0.206\n",
      "C(Parameter2_3pm)[T.W]     0.3041      0.021     14.411      0.000       0.263       0.346\n",
      "C(Location)[T.4]           0.1914      0.071      2.694      0.007       0.052       0.331\n",
      "C(Location)[T.6]          -0.7228      0.058    -12.535      0.000      -0.836      -0.610\n",
      "C(Location)[T.7]          -0.5313      0.060     -8.826      0.000      -0.649      -0.413\n",
      "C(Location)[T.8]           0.7356      0.063     11.649      0.000       0.612       0.859\n",
      "C(Location)[T.9]           1.1887      0.064     18.453      0.000       1.062       1.315\n",
      "C(Location)[T.10]         -0.4523      0.064     -7.046      0.000      -0.578      -0.327\n",
      "C(Location)[T.11]         -0.2030      0.066     -3.095      0.002      -0.332      -0.074\n",
      "C(Location)[T.12]          0.3465      0.062      5.616      0.000       0.226       0.467\n",
      "C(Location)[T.14]          1.2635      0.066     19.090      0.000       1.134       1.393\n",
      "C(Location)[T.16]         -0.7535      0.066    -11.458      0.000      -0.882      -0.625\n",
      "C(Location)[T.20]         -0.5967      0.062     -9.591      0.000      -0.719      -0.475\n",
      "C(Location)[T.21]         -0.3261      0.065     -4.986      0.000      -0.454      -0.198\n",
      "C(Location)[T.22]          0.2543      0.065      3.891      0.000       0.126       0.382\n",
      "C(Location)[T.23]         -0.3542      0.060     -5.876      0.000      -0.472      -0.236\n",
      "C(Location)[T.28]          0.1354      0.060      2.250      0.024       0.017       0.253\n",
      "C(Location)[T.29]         -0.4216      0.065     -6.438      0.000      -0.550      -0.293\n",
      "C(Location)[T.30]          0.0556      0.068      0.812      0.417      -0.079       0.190\n",
      "C(Location)[T.32]          0.2389      0.063      3.770      0.000       0.115       0.363\n",
      "C(Location)[T.33]          0.0861      0.063      1.360      0.174      -0.038       0.210\n",
      "C(Location)[T.34]         -0.2703      0.060     -4.470      0.000      -0.389      -0.152\n",
      "C(Location)[T.35]          0.2680      0.085      3.162      0.002       0.102       0.434\n",
      "C(Location)[T.36]         -0.5975      0.060     -9.969      0.000      -0.715      -0.480\n",
      "C(Location)[T.38]          0.1658      0.066      2.514      0.012       0.037       0.295\n",
      "C(Location)[T.39]          0.0380      0.062      0.612      0.541      -0.084       0.160\n",
      "C(Location)[T.40]          0.8397      0.067     12.575      0.000       0.709       0.971\n",
      "C(Location)[T.43]         -0.1766      0.063     -2.800      0.005      -0.300      -0.053\n",
      "C(Location)[T.45]         -0.3097      0.062     -4.980      0.000      -0.432      -0.188\n",
      "C(Location)[T.48]         -0.2162      0.065     -3.328      0.001      -0.344      -0.089\n",
      "C(Location)[T.49]         -0.3148      0.070     -4.467      0.000      -0.453      -0.177\n",
      "C(mes)[T.2]               -0.0260      0.032     -0.815      0.415      -0.089       0.037\n",
      "C(mes)[T.3]               -0.2263      0.030     -7.573      0.000      -0.285      -0.168\n",
      "C(mes)[T.4]               -0.5914      0.032    -18.621      0.000      -0.654      -0.529\n",
      "C(mes)[T.5]               -1.0319      0.033    -31.013      0.000      -1.097      -0.967\n",
      "C(mes)[T.6]               -1.2449      0.036    -35.048      0.000      -1.315      -1.175\n",
      "C(mes)[T.7]               -1.2808      0.036    -35.310      0.000      -1.352      -1.210\n",
      "C(mes)[T.8]               -1.1317      0.035    -31.978      0.000      -1.201      -1.062\n",
      "C(mes)[T.9]               -0.9328      0.034    -27.480      0.000      -0.999      -0.866\n",
      "C(mes)[T.10]              -0.6636      0.033    -20.288      0.000      -0.728      -0.599\n",
      "C(mes)[T.11]              -0.2917      0.031     -9.313      0.000      -0.353      -0.230\n",
      "C(mes)[T.12]              -0.0796      0.032     -2.477      0.013      -0.143      -0.017\n",
      "Max_Temp                  -0.0972      0.002    -47.247      0.000      -0.101      -0.093\n",
      "Evaporation               -0.0856      0.003    -32.062      0.000      -0.091      -0.080\n",
      "Electricity               -0.0839      0.002    -41.372      0.000      -0.088      -0.080\n",
      "Parameter1_Speed           0.0253      0.001     38.416      0.000       0.024       0.027\n",
      "Parameter3_3pm            -0.0089      0.001     -8.388      0.000      -0.011      -0.007\n",
      "IEl                       -0.3949      0.033    -12.036      0.000      -0.459      -0.331\n",
      "IEv                       -0.1304      0.035     -3.764      0.000      -0.198      -0.063\n",
      "==========================================================================================\n",
      "       Probit Marginal Effects       \n",
      "=====================================\n",
      "Dep. Variable:                   fail\n",
      "Method:                          dydx\n",
      "At:                           overall\n",
      "==========================================================================================\n",
      "                            dy/dx    std err          z      P>|z|      [0.025      0.975]\n",
      "------------------------------------------------------------------------------------------\n",
      "C(Parameter2_3pm)[T.N]     0.0068      0.005      1.368      0.171      -0.003       0.016\n",
      "C(Parameter2_3pm)[T.S]     0.0409      0.005      8.943      0.000       0.032       0.050\n",
      "C(Parameter2_3pm)[T.W]     0.0736      0.005     14.480      0.000       0.064       0.084\n",
      "C(Location)[T.4]           0.0463      0.017      2.694      0.007       0.013       0.080\n",
      "C(Location)[T.6]          -0.1749      0.014    -12.576      0.000      -0.202      -0.148\n",
      "C(Location)[T.7]          -0.1286      0.015     -8.842      0.000      -0.157      -0.100\n",
      "C(Location)[T.8]           0.1780      0.015     11.674      0.000       0.148       0.208\n",
      "C(Location)[T.9]           0.2876      0.016     18.555      0.000       0.257       0.318\n",
      "C(Location)[T.10]         -0.1094      0.016     -7.053      0.000      -0.140      -0.079\n",
      "C(Location)[T.11]         -0.0491      0.016     -3.096      0.002      -0.080      -0.018\n",
      "C(Location)[T.12]          0.0838      0.015      5.619      0.000       0.055       0.113\n",
      "C(Location)[T.14]          0.3057      0.016     19.206      0.000       0.275       0.337\n",
      "C(Location)[T.16]         -0.1823      0.016    -11.489      0.000      -0.213      -0.151\n",
      "C(Location)[T.20]         -0.1444      0.015     -9.610      0.000      -0.174      -0.115\n",
      "C(Location)[T.21]         -0.0789      0.016     -4.989      0.000      -0.110      -0.048\n",
      "C(Location)[T.22]          0.0615      0.016      3.892      0.000       0.031       0.093\n",
      "C(Location)[T.23]         -0.0857      0.015     -5.880      0.000      -0.114      -0.057\n",
      "C(Location)[T.28]          0.0328      0.015      2.250      0.024       0.004       0.061\n",
      "C(Location)[T.29]         -0.1020      0.016     -6.444      0.000      -0.133      -0.071\n",
      "C(Location)[T.30]          0.0135      0.017      0.812      0.417      -0.019       0.046\n",
      "C(Location)[T.32]          0.0578      0.015      3.770      0.000       0.028       0.088\n",
      "C(Location)[T.33]          0.0208      0.015      1.360      0.174      -0.009       0.051\n",
      "C(Location)[T.34]         -0.0654      0.015     -4.472      0.000      -0.094      -0.037\n",
      "C(Location)[T.35]          0.0648      0.021      3.163      0.002       0.025       0.105\n",
      "C(Location)[T.36]         -0.1446      0.014     -9.990      0.000      -0.173      -0.116\n",
      "C(Location)[T.38]          0.0401      0.016      2.514      0.012       0.009       0.071\n",
      "C(Location)[T.39]          0.0092      0.015      0.612      0.541      -0.020       0.039\n",
      "C(Location)[T.40]          0.2032      0.016     12.602      0.000       0.172       0.235\n",
      "C(Location)[T.43]         -0.0427      0.015     -2.800      0.005      -0.073      -0.013\n",
      "C(Location)[T.45]         -0.0749      0.015     -4.983      0.000      -0.104      -0.045\n",
      "C(Location)[T.48]         -0.0523      0.016     -3.329      0.001      -0.083      -0.022\n",
      "C(Location)[T.49]         -0.0762      0.017     -4.469      0.000      -0.110      -0.043\n",
      "C(mes)[T.2]               -0.0063      0.008     -0.815      0.415      -0.021       0.009\n",
      "C(mes)[T.3]               -0.0548      0.007     -7.582      0.000      -0.069      -0.041\n",
      "C(mes)[T.4]               -0.1431      0.008    -18.751      0.000      -0.158      -0.128\n",
      "C(mes)[T.5]               -0.2497      0.008    -31.612      0.000      -0.265      -0.234\n",
      "C(mes)[T.6]               -0.3012      0.008    -35.901      0.000      -0.318      -0.285\n",
      "C(mes)[T.7]               -0.3099      0.009    -36.177      0.000      -0.327      -0.293\n",
      "C(mes)[T.8]               -0.2738      0.008    -32.628      0.000      -0.290      -0.257\n",
      "C(mes)[T.9]               -0.2257      0.008    -27.893      0.000      -0.242      -0.210\n",
      "C(mes)[T.10]              -0.1606      0.008    -20.449      0.000      -0.176      -0.145\n",
      "C(mes)[T.11]              -0.0706      0.008     -9.328      0.000      -0.085      -0.056\n",
      "C(mes)[T.12]              -0.0193      0.008     -2.477      0.013      -0.034      -0.004\n",
      "Max_Temp                  -0.0235      0.000    -49.294      0.000      -0.024      -0.023\n",
      "Evaporation               -0.0207      0.001    -32.397      0.000      -0.022      -0.019\n",
      "Electricity               -0.0203      0.000    -43.156      0.000      -0.021      -0.019\n",
      "Parameter1_Speed           0.0061      0.000     39.680      0.000       0.006       0.006\n",
      "Parameter3_3pm            -0.0022      0.000     -8.402      0.000      -0.003      -0.002\n",
      "IEl                       -0.0955      0.008    -12.083      0.000      -0.111      -0.080\n",
      "IEv                       -0.0316      0.008     -3.764      0.000      -0.048      -0.015\n",
      "==========================================================================================\n"
     ]
    }
   ],
   "source": [
    "probit = smf.probit(formula, data=df).fit()\n",
    "print(probit.summary())\n",
    "\n",
    "mfx = probit.get_margeff()\n",
    "print(mfx.summary())"
   ]
  },
  {
   "cell_type": "markdown",
   "metadata": {},
   "source": [
    "4. Ejecute un modelo *logit*  para responder a la pregunta 2. Seleccione las variables dependientes a incluir en el modelo final e interprete su significado. "
   ]
  },
  {
   "cell_type": "code",
   "execution_count": 30,
   "metadata": {},
   "outputs": [
    {
     "name": "stdout",
     "output_type": "stream",
     "text": [
      "Optimization terminated successfully.\n",
      "         Current function value: 0.426365\n",
      "         Iterations 7\n",
      "                           Logit Regression Results                           \n",
      "==============================================================================\n",
      "Dep. Variable:                   fail   No. Observations:                65255\n",
      "Model:                          Logit   Df Residuals:                    65204\n",
      "Method:                           MLE   Df Model:                           50\n",
      "Date:                Tue, 29 Apr 2025   Pseudo R-squ.:                  0.2234\n",
      "Time:                        15:24:47   Log-Likelihood:                -27822.\n",
      "converged:                       True   LL-Null:                       -35825.\n",
      "Covariance Type:            nonrobust   LLR p-value:                     0.000\n",
      "==========================================================================================\n",
      "                             coef    std err          z      P>|z|      [0.025      0.975]\n",
      "------------------------------------------------------------------------------------------\n",
      "Intercept                  3.8420      0.137     28.089      0.000       3.574       4.110\n",
      "C(Parameter2_3pm)[T.N]     0.0293      0.036      0.803      0.422      -0.042       0.101\n",
      "C(Parameter2_3pm)[T.S]     0.2875      0.033      8.601      0.000       0.222       0.353\n",
      "C(Parameter2_3pm)[T.W]     0.5031      0.037     13.567      0.000       0.430       0.576\n",
      "C(Location)[T.4]           0.3757      0.126      2.990      0.003       0.129       0.622\n",
      "C(Location)[T.6]          -1.2821      0.097    -13.261      0.000      -1.472      -1.093\n",
      "C(Location)[T.7]          -0.9338      0.102     -9.195      0.000      -1.133      -0.735\n",
      "C(Location)[T.8]           1.3932      0.108     12.901      0.000       1.182       1.605\n",
      "C(Location)[T.9]           2.2331      0.110     20.315      0.000       2.018       2.449\n",
      "C(Location)[T.10]         -0.8082      0.109     -7.422      0.000      -1.022      -0.595\n",
      "C(Location)[T.11]         -0.3391      0.113     -2.991      0.003      -0.561      -0.117\n",
      "C(Location)[T.12]          0.6224      0.104      5.987      0.000       0.419       0.826\n",
      "C(Location)[T.14]          2.3683      0.114     20.736      0.000       2.144       2.592\n",
      "C(Location)[T.16]         -1.3517      0.112    -12.061      0.000      -1.571      -1.132\n",
      "C(Location)[T.20]         -1.0455      0.106     -9.895      0.000      -1.253      -0.838\n",
      "C(Location)[T.21]         -0.5654      0.113     -5.003      0.000      -0.787      -0.344\n",
      "C(Location)[T.22]          0.3660      0.114      3.222      0.001       0.143       0.589\n",
      "C(Location)[T.23]         -0.6586      0.101     -6.491      0.000      -0.858      -0.460\n",
      "C(Location)[T.28]          0.2889      0.101      2.846      0.004       0.090       0.488\n",
      "C(Location)[T.29]         -0.7406      0.112     -6.640      0.000      -0.959      -0.522\n",
      "C(Location)[T.30]          0.1383      0.117      1.181      0.237      -0.091       0.368\n",
      "C(Location)[T.32]          0.5187      0.107      4.826      0.000       0.308       0.729\n",
      "C(Location)[T.33]          0.2344      0.108      2.178      0.029       0.023       0.445\n",
      "C(Location)[T.34]         -0.5245      0.102     -5.160      0.000      -0.724      -0.325\n",
      "C(Location)[T.35]          0.4643      0.142      3.267      0.001       0.186       0.743\n",
      "C(Location)[T.36]         -1.0638      0.102    -10.477      0.000      -1.263      -0.865\n",
      "C(Location)[T.38]          0.3819      0.112      3.399      0.001       0.162       0.602\n",
      "C(Location)[T.39]          0.1270      0.106      1.202      0.229      -0.080       0.334\n",
      "C(Location)[T.40]          1.6827      0.115     14.599      0.000       1.457       1.909\n",
      "C(Location)[T.43]         -0.3516      0.108     -3.255      0.001      -0.563      -0.140\n",
      "C(Location)[T.45]         -0.5215      0.105     -4.955      0.000      -0.728      -0.315\n",
      "C(Location)[T.48]         -0.4148      0.109     -3.803      0.000      -0.629      -0.201\n",
      "C(Location)[T.49]         -0.5557      0.126     -4.425      0.000      -0.802      -0.310\n",
      "C(mes)[T.2]               -0.0492      0.057     -0.862      0.389      -0.161       0.063\n",
      "C(mes)[T.3]               -0.4199      0.053     -7.914      0.000      -0.524      -0.316\n",
      "C(mes)[T.4]               -1.0821      0.056    -19.286      0.000      -1.192      -0.972\n",
      "C(mes)[T.5]               -1.8871      0.059    -32.050      0.000      -2.003      -1.772\n",
      "C(mes)[T.6]               -2.2898      0.063    -36.370      0.000      -2.413      -2.166\n",
      "C(mes)[T.7]               -2.3550      0.064    -36.614      0.000      -2.481      -2.229\n",
      "C(mes)[T.8]               -2.0621      0.063    -32.946      0.000      -2.185      -1.939\n",
      "C(mes)[T.9]               -1.6843      0.060    -28.036      0.000      -1.802      -1.567\n",
      "C(mes)[T.10]              -1.1927      0.058    -20.420      0.000      -1.307      -1.078\n",
      "C(mes)[T.11]              -0.5343      0.056     -9.533      0.000      -0.644      -0.424\n",
      "C(mes)[T.12]              -0.1465      0.058     -2.539      0.011      -0.260      -0.033\n",
      "Max_Temp                  -0.1736      0.004    -45.837      0.000      -0.181      -0.166\n",
      "Evaporation               -0.2053      0.006    -35.241      0.000      -0.217      -0.194\n",
      "Electricity               -0.1369      0.004    -38.523      0.000      -0.144      -0.130\n",
      "Parameter1_Speed           0.0447      0.001     38.664      0.000       0.042       0.047\n",
      "Parameter3_3pm            -0.0143      0.002     -7.728      0.000      -0.018      -0.011\n",
      "IEl                       -0.6145      0.057    -10.767      0.000      -0.726      -0.503\n",
      "IEv                       -0.4461      0.061     -7.349      0.000      -0.565      -0.327\n",
      "==========================================================================================\n",
      "        Logit Marginal Effects       \n",
      "=====================================\n",
      "Dep. Variable:                   fail\n",
      "Method:                          dydx\n",
      "At:                           overall\n",
      "==========================================================================================\n",
      "                            dy/dx    std err          z      P>|z|      [0.025      0.975]\n",
      "------------------------------------------------------------------------------------------\n",
      "C(Parameter2_3pm)[T.N]     0.0040      0.005      0.803      0.422      -0.006       0.014\n",
      "C(Parameter2_3pm)[T.S]     0.0396      0.005      8.619      0.000       0.031       0.049\n",
      "C(Parameter2_3pm)[T.W]     0.0693      0.005     13.637      0.000       0.059       0.079\n",
      "C(Location)[T.4]           0.0518      0.017      2.991      0.003       0.018       0.086\n",
      "C(Location)[T.6]          -0.1766      0.013    -13.325      0.000      -0.203      -0.151\n",
      "C(Location)[T.7]          -0.1287      0.014     -9.218      0.000      -0.156      -0.101\n",
      "C(Location)[T.8]           0.1919      0.015     12.948      0.000       0.163       0.221\n",
      "C(Location)[T.9]           0.3077      0.015     20.503      0.000       0.278       0.337\n",
      "C(Location)[T.10]         -0.1113      0.015     -7.434      0.000      -0.141      -0.082\n",
      "C(Location)[T.11]         -0.0467      0.016     -2.992      0.003      -0.077      -0.016\n",
      "C(Location)[T.12]          0.0857      0.014      5.991      0.000       0.058       0.114\n",
      "C(Location)[T.14]          0.3263      0.016     20.946      0.000       0.296       0.357\n",
      "C(Location)[T.16]         -0.1862      0.015    -12.110      0.000      -0.216      -0.156\n",
      "C(Location)[T.20]         -0.1440      0.015     -9.923      0.000      -0.172      -0.116\n",
      "C(Location)[T.21]         -0.0779      0.016     -5.006      0.000      -0.108      -0.047\n",
      "C(Location)[T.22]          0.0504      0.016      3.223      0.001       0.020       0.081\n",
      "C(Location)[T.23]         -0.0907      0.014     -6.498      0.000      -0.118      -0.063\n",
      "C(Location)[T.28]          0.0398      0.014      2.846      0.004       0.012       0.067\n",
      "C(Location)[T.29]         -0.1020      0.015     -6.648      0.000      -0.132      -0.072\n",
      "C(Location)[T.30]          0.0190      0.016      1.181      0.237      -0.013       0.051\n",
      "C(Location)[T.32]          0.0715      0.015      4.829      0.000       0.042       0.100\n",
      "C(Location)[T.33]          0.0323      0.015      2.178      0.029       0.003       0.061\n",
      "C(Location)[T.34]         -0.0723      0.014     -5.163      0.000      -0.100      -0.045\n",
      "C(Location)[T.35]          0.0640      0.020      3.268      0.001       0.026       0.102\n",
      "C(Location)[T.36]         -0.1466      0.014    -10.510      0.000      -0.174      -0.119\n",
      "C(Location)[T.38]          0.0526      0.015      3.400      0.001       0.022       0.083\n",
      "C(Location)[T.39]          0.0175      0.015      1.202      0.229      -0.011       0.046\n",
      "C(Location)[T.40]          0.2318      0.016     14.668      0.000       0.201       0.263\n",
      "C(Location)[T.43]         -0.0484      0.015     -3.256      0.001      -0.078      -0.019\n",
      "C(Location)[T.45]         -0.0719      0.014     -4.959      0.000      -0.100      -0.043\n",
      "C(Location)[T.48]         -0.0571      0.015     -3.804      0.000      -0.087      -0.028\n",
      "C(Location)[T.49]         -0.0766      0.017     -4.427      0.000      -0.110      -0.043\n",
      "C(mes)[T.2]               -0.0068      0.008     -0.862      0.389      -0.022       0.009\n",
      "C(mes)[T.3]               -0.0579      0.007     -7.927      0.000      -0.072      -0.044\n",
      "C(mes)[T.4]               -0.1491      0.008    -19.470      0.000      -0.164      -0.134\n",
      "C(mes)[T.5]               -0.2600      0.008    -32.915      0.000      -0.275      -0.245\n",
      "C(mes)[T.6]               -0.3155      0.008    -37.632      0.000      -0.332      -0.299\n",
      "C(mes)[T.7]               -0.3245      0.009    -37.901      0.000      -0.341      -0.308\n",
      "C(mes)[T.8]               -0.2841      0.008    -33.860      0.000      -0.301      -0.268\n",
      "C(mes)[T.9]               -0.2320      0.008    -28.594      0.000      -0.248      -0.216\n",
      "C(mes)[T.10]              -0.1643      0.008    -20.630      0.000      -0.180      -0.149\n",
      "C(mes)[T.11]              -0.0736      0.008     -9.555      0.000      -0.089      -0.059\n",
      "C(mes)[T.12]              -0.0202      0.008     -2.539      0.011      -0.036      -0.005\n",
      "Max_Temp                  -0.0239      0.000    -48.230      0.000      -0.025      -0.023\n",
      "Evaporation               -0.0283      0.001    -36.271      0.000      -0.030      -0.027\n",
      "Electricity               -0.0189      0.000    -40.183      0.000      -0.020      -0.018\n",
      "Parameter1_Speed           0.0062      0.000     40.450      0.000       0.006       0.006\n",
      "Parameter3_3pm            -0.0020      0.000     -7.743      0.000      -0.002      -0.001\n",
      "IEl                       -0.0847      0.008    -10.806      0.000      -0.100      -0.069\n",
      "IEv                       -0.0615      0.008     -7.355      0.000      -0.078      -0.045\n",
      "==========================================================================================\n"
     ]
    }
   ],
   "source": [
    "logit = smf.logit(formula, data=df).fit()\n",
    "print(logit.summary())\n",
    "\n",
    "mfx = logit.get_margeff()\n",
    "print(mfx.summary())"
   ]
  },
  {
   "cell_type": "markdown",
   "metadata": {},
   "source": [
    "5. Comente los resultados obtenidos en 2, 3 y 4. ¿Cuáles y por qué existen las diferencias entre los resultados?. En su opinión, ¿Cuál sería el más adecuado para responder la pregunta de investgación y por qué? ¿Qué variables resultaron ser robustas a la especificación?\n",
    "\n",
    "R: Todo considerado, pueden optar por Probit o Logit (son equivalentes). Al parecer la direccion del viento es mas relevante que la velocidad, la temperatura maxima parece tambien ser relevante, asi como la evaporacion y electricidad (cambios importantes en probabilidad de falla por grado adicional o KW adicional). Asimismo, hay meses que tienen una significativa menor probabilidad de falla, particularmente entre mayo y septiembre."
   ]
  },
  {
   "cell_type": "markdown",
   "metadata": {},
   "source": [
    "6. Agregue la data a nivel mensual, usando la data promedio de las variables (ignorando aquellas categoricas, como la direccion del viento). En particular, genere una variable que cuente la cantidad de fallos observados en un mes, utilice un valor de 0 si en ese mes no se reporto fallos en ningun dia. Use un modelo Poisson para explicar el numero de fallas por mes. Seleccione las variables dependientes a incluir en el modelo final e interprete su significado. "
   ]
  },
  {
   "cell_type": "code",
   "execution_count": 76,
   "metadata": {},
   "outputs": [
    {
     "name": "stdout",
     "output_type": "stream",
     "text": [
      "Optimization terminated successfully.\n",
      "         Current function value: 2.532742\n",
      "         Iterations 6\n",
      "                          Poisson Regression Results                          \n",
      "==============================================================================\n",
      "Dep. Variable:                   fail   No. Observations:                 2796\n",
      "Model:                        Poisson   Df Residuals:                     2760\n",
      "Method:                           MLE   Df Model:                           35\n",
      "Date:                Tue, 29 Apr 2025   Pseudo R-squ.:                  0.2294\n",
      "Time:                        15:55:21   Log-Likelihood:                -7081.5\n",
      "converged:                       True   LL-Null:                       -9190.2\n",
      "Covariance Type:            nonrobust   LLR p-value:                     0.000\n",
      "=====================================================================================\n",
      "                        coef    std err          z      P>|z|      [0.025      0.975]\n",
      "-------------------------------------------------------------------------------------\n",
      "Intercept             2.3468      0.100     23.583      0.000       2.152       2.542\n",
      "C(Location)[T.4]     -0.2304      0.096     -2.402      0.016      -0.418      -0.042\n",
      "C(Location)[T.6]      0.3214      0.068      4.727      0.000       0.188       0.455\n",
      "C(Location)[T.7]      0.1332      0.074      1.798      0.072      -0.012       0.278\n",
      "C(Location)[T.8]      0.8369      0.080     10.449      0.000       0.680       0.994\n",
      "C(Location)[T.9]      0.9162      0.075     12.268      0.000       0.770       1.063\n",
      "C(Location)[T.10]    -0.3187      0.080     -3.990      0.000      -0.475      -0.162\n",
      "C(Location)[T.11]     0.1072      0.088      1.216      0.224      -0.066       0.280\n",
      "C(Location)[T.12]     0.4073      0.073      5.584      0.000       0.264       0.550\n",
      "C(Location)[T.14]     0.9585      0.079     12.202      0.000       0.805       1.112\n",
      "C(Location)[T.16]     0.0611      0.083      0.734      0.463      -0.102       0.224\n",
      "C(Location)[T.20]    -0.0234      0.078     -0.299      0.765      -0.176       0.130\n",
      "C(Location)[T.21]    -0.1557      0.087     -1.789      0.074      -0.326       0.015\n",
      "C(Location)[T.22]    -0.0335      0.085     -0.395      0.693      -0.200       0.133\n",
      "C(Location)[T.23]     0.3924      0.073      5.412      0.000       0.250       0.535\n",
      "C(Location)[T.28]     0.5912      0.073      8.076      0.000       0.448       0.735\n",
      "C(Location)[T.29]    -0.0265      0.083     -0.321      0.748      -0.188       0.135\n",
      "C(Location)[T.30]    -0.1232      0.087     -1.415      0.157      -0.294       0.047\n",
      "C(Location)[T.32]     0.6111      0.079      7.704      0.000       0.456       0.767\n",
      "C(Location)[T.33]     0.4211      0.079      5.327      0.000       0.266       0.576\n",
      "C(Location)[T.34]     0.3674      0.072      5.070      0.000       0.225       0.509\n",
      "C(Location)[T.35]     0.1680      0.103      1.631      0.103      -0.034       0.370\n",
      "C(Location)[T.36]     0.1007      0.074      1.366      0.172      -0.044       0.245\n",
      "C(Location)[T.38]     0.4856      0.081      5.964      0.000       0.326       0.645\n",
      "C(Location)[T.39]     0.3943      0.076      5.185      0.000       0.245       0.543\n",
      "C(Location)[T.40]     0.4279      0.081      5.266      0.000       0.269       0.587\n",
      "C(Location)[T.43]     0.2915      0.079      3.667      0.000       0.136       0.447\n",
      "C(Location)[T.45]     0.2335      0.076      3.059      0.002       0.084       0.383\n",
      "C(Location)[T.48]    -0.1122      0.074     -1.511      0.131      -0.258       0.033\n",
      "C(Location)[T.49]    -0.8783      0.104     -8.456      0.000      -1.082      -0.675\n",
      "Max_Temp             -0.0197      0.003     -7.063      0.000      -0.025      -0.014\n",
      "Evaporation          -0.0108      0.007     -1.663      0.096      -0.024       0.002\n",
      "Electricity          -0.1773      0.007    -27.119      0.000      -0.190      -0.164\n",
      "Parameter1_Speed      0.0220      0.002     14.136      0.000       0.019       0.025\n",
      "IEl                  -1.4726      0.065    -22.652      0.000      -1.600      -1.345\n",
      "IEv                  -0.0515      0.059     -0.868      0.385      -0.168       0.065\n",
      "=====================================================================================\n"
     ]
    },
    {
     "data": {
      "image/png": "[encoded data removed]",
      "text/plain": [
       "<Figure size 640x480 with 1 Axes>"
      ]
     },
     "metadata": {},
     "output_type": "display_data"
    }
   ],
   "source": [
    "dict = {col: 'mean' for col in dfa if col not in ['año', 'mes','Location', 'fail']}\n",
    "dict['fail'] = 'sum'\n",
    "\n",
    "dfa = df.groupby(['año', 'mes','Location'], as_index=False).agg(dict)\n",
    "dfa['IEl'] = np.where(dfa['Electricity'] == 0, 1, 0)\n",
    "dfa['IEv'] = np.where(dfa['Evaporation'] == 0, 1, 0)\n",
    "\n",
    "sns.histplot(data=dfa['fail'])\n",
    "formula='fail ~ Max_Temp + Evaporation + Electricity + Parameter1_Speed + IEl + IEv + C(Location)'\n",
    "\n",
    "poisson = smf.poisson(formula, data=dfa).fit()\n",
    "print(poisson.summary())"
   ]
  },
  {
   "cell_type": "markdown",
   "metadata": {},
   "source": [
    "7. Determine sobre dispersion en la data y posible valor optimo de alpha para un modelo Binomial Negativa."
   ]
  },
  {
   "cell_type": "code",
   "execution_count": 78,
   "metadata": {},
   "outputs": [
    {
     "name": "stdout",
     "output_type": "stream",
     "text": [
      "                                 OLS Regression Results                                \n",
      "=======================================================================================\n",
      "Dep. Variable:                      y   R-squared (uncentered):                   0.051\n",
      "Model:                            OLS   Adj. R-squared (uncentered):              0.051\n",
      "Method:                 Least Squares   F-statistic:                              150.3\n",
      "Date:                Tue, 29 Apr 2025   Prob (F-statistic):                    1.07e-33\n",
      "Time:                        15:57:00   Log-Likelihood:                         -6773.8\n",
      "No. Observations:                2796   AIC:                                  1.355e+04\n",
      "Df Residuals:                    2795   BIC:                                  1.356e+04\n",
      "Df Model:                           1                                                  \n",
      "Covariance Type:            nonrobust                                                  \n",
      "==============================================================================\n",
      "                 coef    std err          t      P>|t|      [0.025      0.975]\n",
      "------------------------------------------------------------------------------\n",
      "x1             0.1001      0.008     12.260      0.000       0.084       0.116\n",
      "==============================================================================\n",
      "Omnibus:                     2375.456   Durbin-Watson:                   1.920\n",
      "Prob(Omnibus):                  0.000   Jarque-Bera (JB):            77225.130\n",
      "Skew:                           3.921   Prob(JB):                         0.00\n",
      "Kurtosis:                      27.523   Cond. No.                         1.00\n",
      "==============================================================================\n",
      "\n",
      "Notes:\n",
      "[1] R² is computed without centering (uncentered) since the model does not contain a constant.\n",
      "[2] Standard Errors assume that the covariance matrix of the errors is correctly specified.\n"
     ]
    }
   ],
   "source": [
    "yhat = poisson.predict(dfa)\n",
    "aux=((dfa['fail']-yhat)**2-yhat)/yhat\n",
    "auxr=sm.OLS(aux,yhat).fit()\n",
    "print(auxr.summary())"
   ]
  },
  {
   "cell_type": "markdown",
   "metadata": {},
   "source": [
    "8. Usando la informacion anterior, ejecute un modelo Binomial Negativa para responder a la pregunta 6. Seleccione las variables dependientes a incluir en el modelo final e interprete su significado. "
   ]
  },
  {
   "cell_type": "code",
   "execution_count": 79,
   "metadata": {},
   "outputs": [
    {
     "name": "stdout",
     "output_type": "stream",
     "text": [
      "Warning: Maximum number of iterations has been exceeded.\n",
      "         Current function value: 2.445278\n",
      "         Iterations: 35\n",
      "         Function evaluations: 41\n",
      "         Gradient evaluations: 41\n",
      "                     NegativeBinomial Regression Results                      \n",
      "==============================================================================\n",
      "Dep. Variable:                   fail   No. Observations:                 2796\n",
      "Model:               NegativeBinomial   Df Residuals:                     2760\n",
      "Method:                           MLE   Df Model:                           35\n",
      "Date:                Tue, 29 Apr 2025   Pseudo R-squ.:                  0.1051\n",
      "Time:                        15:58:11   Log-Likelihood:                -6837.0\n",
      "converged:                      False   LL-Null:                       -7639.9\n",
      "Covariance Type:            nonrobust   LLR p-value:                     0.000\n",
      "=====================================================================================\n",
      "                        coef    std err          z      P>|z|      [0.025      0.975]\n",
      "-------------------------------------------------------------------------------------\n",
      "Intercept             2.4591      0.133     18.458      0.000       2.198       2.720\n",
      "C(Location)[T.4]     -0.2442      0.117     -2.091      0.037      -0.473      -0.015\n",
      "C(Location)[T.6]      0.3179      0.089      3.554      0.000       0.143       0.493\n",
      "C(Location)[T.7]      0.1443      0.094      1.531      0.126      -0.040       0.329\n",
      "C(Location)[T.8]      0.8172      0.105      7.781      0.000       0.611       1.023\n",
      "C(Location)[T.9]      0.8967      0.100      8.954      0.000       0.700       1.093\n",
      "C(Location)[T.10]    -0.2743      0.099     -2.760      0.006      -0.469      -0.079\n",
      "C(Location)[T.11]     0.1129      0.111      1.014      0.311      -0.105       0.331\n",
      "C(Location)[T.12]     0.4314      0.097      4.456      0.000       0.242       0.621\n",
      "C(Location)[T.14]     0.8612      0.106      8.157      0.000       0.654       1.068\n",
      "C(Location)[T.16]     0.0694      0.112      0.617      0.537      -0.151       0.290\n",
      "C(Location)[T.20]    -0.0089      0.104     -0.086      0.932      -0.212       0.194\n",
      "C(Location)[T.21]    -0.1439      0.110     -1.313      0.189      -0.359       0.071\n",
      "C(Location)[T.22]    -0.0209      0.107     -0.195      0.845      -0.231       0.189\n",
      "C(Location)[T.23]     0.3738      0.097      3.864      0.000       0.184       0.563\n",
      "C(Location)[T.28]     0.5788      0.098      5.918      0.000       0.387       0.770\n",
      "C(Location)[T.29]    -0.0376      0.107     -0.350      0.726      -0.248       0.173\n",
      "C(Location)[T.30]    -0.1480      0.112     -1.319      0.187      -0.368       0.072\n",
      "C(Location)[T.32]     0.5409      0.104      5.225      0.000       0.338       0.744\n",
      "C(Location)[T.33]     0.3534      0.104      3.398      0.001       0.150       0.557\n",
      "C(Location)[T.34]     0.3599      0.097      3.729      0.000       0.171       0.549\n",
      "C(Location)[T.35]     0.1912      0.130      1.474      0.140      -0.063       0.445\n",
      "C(Location)[T.36]     0.1157      0.095      1.212      0.226      -0.071       0.303\n",
      "C(Location)[T.38]     0.4664      0.109      4.275      0.000       0.253       0.680\n",
      "C(Location)[T.39]     0.3786      0.102      3.723      0.000       0.179       0.578\n",
      "C(Location)[T.40]     0.3852      0.105      3.656      0.000       0.179       0.592\n",
      "C(Location)[T.43]     0.2970      0.103      2.888      0.004       0.095       0.499\n",
      "C(Location)[T.45]     0.2312      0.101      2.294      0.022       0.034       0.429\n",
      "C(Location)[T.48]    -0.0789      0.094     -0.839      0.401      -0.263       0.105\n",
      "C(Location)[T.49]    -0.8818      0.125     -7.074      0.000      -1.126      -0.637\n",
      "Max_Temp             -0.0205      0.004     -5.464      0.000      -0.028      -0.013\n",
      "Evaporation          -0.0079      0.009     -0.917      0.359      -0.025       0.009\n",
      "Electricity          -0.1854      0.009    -19.690      0.000      -0.204      -0.167\n",
      "Parameter1_Speed      0.0213      0.002      9.180      0.000       0.017       0.026\n",
      "IEl                  -1.5575      0.090    -17.370      0.000      -1.733      -1.382\n",
      "IEv                  -0.0416      0.076     -0.551      0.582      -0.190       0.106\n",
      "alpha                 0.1459      0.010     14.437      0.000       0.126       0.166\n",
      "=====================================================================================\n"
     ]
    }
   ],
   "source": [
    "nbin = smf.negativebinomial(formula, data=dfa).fit(alpha=0.1)\n",
    "print(nbin.summary())"
   ]
  },
  {
   "cell_type": "markdown",
   "metadata": {},
   "source": [
    "9. Comente los resultados obtenidos en 6, 7 y 8. ¿Cuáles y por qué existen las diferencias entre los resultados?. En su opinión, ¿Cuál sería el más adecuado para responder la pregunta de investgación y por qué? ¿Qué variables resultaron ser robustas a la especificación?\n",
    "\n",
    "R: Segun los resultados, favoreceria el modelo Poisson, que muestra resultados similares a los modelos binarios, hay un impacto importante de la electricidad y la temperatura maxima."
   ]
  },
  {
   "cell_type": "markdown",
   "metadata": {},
   "source": []
  }
 ],
 "metadata": {
  "hide_input": false,
  "kernelspec": {
   "display_name": "base",
   "language": "python",
   "name": "python3"
  },
  "language_info": {
   "codemirror_mode": {
    "name": "ipython",
    "version": 3
   },
   "file_extension": ".py",
   "mimetype": "text/x-python",
   "name": "python",
   "nbconvert_exporter": "python",
   "pygments_lexer": "ipython3",
   "version": "3.9.18"
  },
  "latex_envs": {
   "LaTeX_envs_menu_present": true,
   "autoclose": true,
   "autocomplete": true,
   "bibliofile": "biblio.bib",
   "cite_by": "apalike",
   "current_citInitial": 1,
   "eqLabelWithNumbers": true,
   "eqNumInitial": 1,
   "hotkeys": {
    "equation": "Ctrl-E",
    "itemize": "Ctrl-I"
   },
   "labels_anchors": false,
   "latex_user_defs": false,
   "report_style_numbering": false,
   "user_envs_cfg": false
  },
  "toc": {
   "base_numbering": 1,
   "nav_menu": {},
   "number_sections": true,
   "sideBar": true,
   "skip_h1_title": true,
   "title_cell": "Table of Contents",
   "title_sidebar": "Contents",
   "toc_cell": false,
   "toc_position": {
    "height": "calc(100% - 180px)",
    "left": "10px",
    "top": "150px",
    "width": "165px"
   },
   "toc_section_display": true,
   "toc_window_display": true
  }
 },
 "nbformat": 4,
 "nbformat_minor": 2
}
