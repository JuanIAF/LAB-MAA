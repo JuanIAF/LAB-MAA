{
 "cells": [
  {
   "attachments": {},
   "cell_type": "markdown",
   "metadata": {},
   "source": [
    "# Section 3: Panel data & pseudo-experiments"
   ]
  },
  {
   "attachments": {},
   "cell_type": "markdown",
   "metadata": {},
   "source": [
    "### Housekeeping and Data"
   ]
  },
  {
   "cell_type": "code",
   "execution_count": 1,
   "metadata": {},
   "outputs": [],
   "source": [
    "import numpy as np\n",
    "import pandas as pd\n",
    "import matplotlib.pyplot as plt\n",
    "import statsmodels.api as sm\n",
    "import statsmodels.formula.api as smf\n",
    "import sklearn\n",
    "import scipy \n",
    "import linearmodels.panel as lmp\n",
    "import pytwoway as tw\n",
    "import bipartitepandas as bpd\n",
    "import seaborn as sns\n",
    "from linearmodels.iv import IV2SLS\n",
    "\n",
    "import warnings\n",
    "warnings.filterwarnings(\"ignore\")\n",
    "\n",
    "%matplotlib inline"
   ]
  },
  {
   "attachments": {},
   "cell_type": "markdown",
   "metadata": {},
   "source": [
    "We use data from the ELE panel survey. Variable description follows:  \n",
    "\n",
    "- *ID*: firm unique identifier  \n",
    "- *year*: survey year  \n",
    "- *tamano*: 1 large, 2 medium, 3 small, 4 micro (funcion de las ventas y el numero de trabajadores)  \n",
    "- *sales*: sales (in log of 1,000 CLP)  \n",
    "- *age*: firm age at time of survey  \n",
    "- *foreign*: non-domestic firm (binary)  \n",
    "- *export*: production for export (binary)  \n",
    "- *workers*: log of number of workers  \n",
    "- *fomento*: firm receives public incentives (binary)  \n",
    "- *iyd*: firm does I+D (binary)  \n",
    "- *impuestos*: taxes (in million US)  \n",
    "- *utilidades*: firm revenue (in million US)  \n"
   ]
  },
  {
   "cell_type": "code",
   "execution_count": 73,
   "metadata": {
    "scrolled": false
   },
   "outputs": [
    {
     "data": {
      "text/html": [
       "<div>\n",
       "<style scoped>\n",
       "    .dataframe tbody tr th:only-of-type {\n",
       "        vertical-align: middle;\n",
       "    }\n",
       "\n",
       "    .dataframe tbody tr th {\n",
       "        vertical-align: top;\n",
       "    }\n",
       "\n",
       "    .dataframe thead th {\n",
       "        text-align: right;\n",
       "    }\n",
       "</style>\n",
       "<table border=\"1\" class=\"dataframe\">\n",
       "  <thead>\n",
       "    <tr style=\"text-align: right;\">\n",
       "      <th></th>\n",
       "      <th>tamano</th>\n",
       "      <th>sales</th>\n",
       "      <th>age</th>\n",
       "      <th>foreign</th>\n",
       "      <th>export</th>\n",
       "      <th>workers</th>\n",
       "      <th>fomento</th>\n",
       "      <th>iyd</th>\n",
       "      <th>impuestos</th>\n",
       "      <th>utilidades</th>\n",
       "    </tr>\n",
       "  </thead>\n",
       "  <tbody>\n",
       "    <tr>\n",
       "      <th>count</th>\n",
       "      <td>39104.000000</td>\n",
       "      <td>39104.000000</td>\n",
       "      <td>39104.000000</td>\n",
       "      <td>39104.000000</td>\n",
       "      <td>39104.000000</td>\n",
       "      <td>39104.000000</td>\n",
       "      <td>39104.000000</td>\n",
       "      <td>39104.000000</td>\n",
       "      <td>39104.000000</td>\n",
       "      <td>39104.000000</td>\n",
       "    </tr>\n",
       "    <tr>\n",
       "      <th>mean</th>\n",
       "      <td>2.248773</td>\n",
       "      <td>3.574172</td>\n",
       "      <td>15.305084</td>\n",
       "      <td>0.081859</td>\n",
       "      <td>0.111191</td>\n",
       "      <td>1.757726</td>\n",
       "      <td>0.076105</td>\n",
       "      <td>0.224887</td>\n",
       "      <td>0.203856</td>\n",
       "      <td>5.500845</td>\n",
       "    </tr>\n",
       "    <tr>\n",
       "      <th>std</th>\n",
       "      <td>1.153089</td>\n",
       "      <td>1.692742</td>\n",
       "      <td>12.488330</td>\n",
       "      <td>0.274153</td>\n",
       "      <td>0.314372</td>\n",
       "      <td>1.186507</td>\n",
       "      <td>0.265169</td>\n",
       "      <td>0.417514</td>\n",
       "      <td>15.869466</td>\n",
       "      <td>0.060706</td>\n",
       "    </tr>\n",
       "    <tr>\n",
       "      <th>min</th>\n",
       "      <td>1.000000</td>\n",
       "      <td>0.000000</td>\n",
       "      <td>0.000000</td>\n",
       "      <td>0.000000</td>\n",
       "      <td>0.000000</td>\n",
       "      <td>0.000000</td>\n",
       "      <td>0.000000</td>\n",
       "      <td>0.000000</td>\n",
       "      <td>-180.992528</td>\n",
       "      <td>-2.302585</td>\n",
       "    </tr>\n",
       "    <tr>\n",
       "      <th>25%</th>\n",
       "      <td>1.000000</td>\n",
       "      <td>2.337643</td>\n",
       "      <td>7.000000</td>\n",
       "      <td>0.000000</td>\n",
       "      <td>0.000000</td>\n",
       "      <td>0.778151</td>\n",
       "      <td>0.000000</td>\n",
       "      <td>0.000000</td>\n",
       "      <td>0.000000</td>\n",
       "      <td>5.499092</td>\n",
       "    </tr>\n",
       "    <tr>\n",
       "      <th>50%</th>\n",
       "      <td>2.000000</td>\n",
       "      <td>3.553321</td>\n",
       "      <td>14.000000</td>\n",
       "      <td>0.000000</td>\n",
       "      <td>0.000000</td>\n",
       "      <td>1.785330</td>\n",
       "      <td>0.000000</td>\n",
       "      <td>0.000000</td>\n",
       "      <td>0.000007</td>\n",
       "      <td>5.499092</td>\n",
       "    </tr>\n",
       "    <tr>\n",
       "      <th>75%</th>\n",
       "      <td>3.000000</td>\n",
       "      <td>4.539098</td>\n",
       "      <td>20.000000</td>\n",
       "      <td>0.000000</td>\n",
       "      <td>0.000000</td>\n",
       "      <td>2.661813</td>\n",
       "      <td>0.000000</td>\n",
       "      <td>0.000000</td>\n",
       "      <td>0.000167</td>\n",
       "      <td>5.499097</td>\n",
       "    </tr>\n",
       "    <tr>\n",
       "      <th>max</th>\n",
       "      <td>4.000000</td>\n",
       "      <td>10.309005</td>\n",
       "      <td>190.000000</td>\n",
       "      <td>1.000000</td>\n",
       "      <td>1.000000</td>\n",
       "      <td>5.845915</td>\n",
       "      <td>1.000000</td>\n",
       "      <td>1.000000</td>\n",
       "      <td>2981.494528</td>\n",
       "      <td>10.729529</td>\n",
       "    </tr>\n",
       "  </tbody>\n",
       "</table>\n",
       "</div>"
      ],
      "text/plain": [
       "             tamano         sales           age       foreign        export  \\\n",
       "count  39104.000000  39104.000000  39104.000000  39104.000000  39104.000000   \n",
       "mean       2.248773      3.574172     15.305084      0.081859      0.111191   \n",
       "std        1.153089      1.692742     12.488330      0.274153      0.314372   \n",
       "min        1.000000      0.000000      0.000000      0.000000      0.000000   \n",
       "25%        1.000000      2.337643      7.000000      0.000000      0.000000   \n",
       "50%        2.000000      3.553321     14.000000      0.000000      0.000000   \n",
       "75%        3.000000      4.539098     20.000000      0.000000      0.000000   \n",
       "max        4.000000     10.309005    190.000000      1.000000      1.000000   \n",
       "\n",
       "            workers       fomento           iyd     impuestos    utilidades  \n",
       "count  39104.000000  39104.000000  39104.000000  39104.000000  39104.000000  \n",
       "mean       1.757726      0.076105      0.224887      0.203856      5.500845  \n",
       "std        1.186507      0.265169      0.417514     15.869466      0.060706  \n",
       "min        0.000000      0.000000      0.000000   -180.992528     -2.302585  \n",
       "25%        0.778151      0.000000      0.000000      0.000000      5.499092  \n",
       "50%        1.785330      0.000000      0.000000      0.000007      5.499092  \n",
       "75%        2.661813      0.000000      0.000000      0.000167      5.499097  \n",
       "max        5.845915      1.000000      1.000000   2981.494528     10.729529  "
      ]
     },
     "execution_count": 73,
     "metadata": {},
     "output_type": "execute_result"
    }
   ],
   "source": [
    "# example data\n",
    "enia=pd.read_csv('../data/enia.csv')\n",
    "enia.dropna(inplace=True)\n",
    "enia.export = enia.export.astype(int)\n",
    "Xa = enia\n",
    "bycount = enia['year'].groupby(enia['year']).count()\n",
    "bIDcount = enia['ID'].groupby(enia['ID']).count()\n",
    "enia['yr'] = enia['year'].astype(object)\n",
    "enia = pd.get_dummies(enia)\n",
    "enia = enia.set_index([\"ID\",\"year\"])\n",
    "enia['utilidades']=np.log(enia['utilidades']-enia['utilidades'].min()+0.1)\n",
    "enia = enia[enia[\"utilidades\"] < 10000]\n",
    "enia.describe()"
   ]
  },
  {
   "attachments": {},
   "cell_type": "markdown",
   "metadata": {},
   "source": [
    "## Pooled OLS"
   ]
  },
  {
   "cell_type": "code",
   "execution_count": 74,
   "metadata": {},
   "outputs": [
    {
     "name": "stdout",
     "output_type": "stream",
     "text": [
      "                          PanelOLS Estimation Summary                           \n",
      "================================================================================\n",
      "Dep. Variable:                workers   R-squared:                        0.6173\n",
      "Estimator:                   PanelOLS   R-squared (Between):              0.6323\n",
      "No. Observations:               39104   R-squared (Within):               0.4109\n",
      "Date:                Mon, May 06 2024   R-squared (Overall):              0.6173\n",
      "Time:                        12:00:21   Log-likelihood                -4.339e+04\n",
      "Cov. Estimator:            Unadjusted                                           \n",
      "                                        F-statistic:                      6306.1\n",
      "Entities:                       24128   P-value                           0.0000\n",
      "Avg Obs:                       1.6207   Distribution:                F(10,39093)\n",
      "Min Obs:                       1.0000                                           \n",
      "Max Obs:                       5.0000   F-statistic (robust):             6306.1\n",
      "                                        P-value                           0.0000\n",
      "Time periods:                       5   Distribution:                F(10,39093)\n",
      "Avg Obs:                       7820.8                                           \n",
      "Min Obs:                       6480.0                                           \n",
      "Max Obs:                    1.021e+04                                           \n",
      "                                                                                \n",
      "                             Parameter Estimates                              \n",
      "==============================================================================\n",
      "            Parameter  Std. Err.     T-stat    P-value    Lower CI    Upper CI\n",
      "------------------------------------------------------------------------------\n",
      "const          0.7255     0.3375     2.1498     0.0316      0.0641      1.3870\n",
      "sales          0.4535     0.0032     143.91     0.0000      0.4474      0.4597\n",
      "age            0.0077     0.0003     24.809     0.0000      0.0071      0.0083\n",
      "foreign        0.0616     0.0144     4.2934     0.0000      0.0335      0.0898\n",
      "export         0.0896     0.0127     7.0463     0.0000      0.0647      0.1145\n",
      "iyd            0.2465     0.0094     26.109     0.0000      0.2280      0.2650\n",
      "utilidades    -0.2059     0.0614    -3.3520     0.0008     -0.3262     -0.0855\n",
      "yr_2009       -1.0986     0.0157    -70.199     0.0000     -1.1293     -1.0679\n",
      "yr_2013        1.0897     0.0119     91.588     0.0000      1.0664      1.1130\n",
      "yr_2015        1.0346     0.0115     89.803     0.0000      1.0121      1.0572\n",
      "yr_2017        0.8317     0.0120     69.275     0.0000      0.8082      0.8552\n",
      "==============================================================================\n",
      "\n",
      "\n"
     ]
    }
   ],
   "source": [
    "#Minimo cuadrado agrupado\n",
    "y=enia['workers']\n",
    "X=enia[['sales','age','foreign','export','iyd','utilidades','yr_2009','yr_2013','yr_2015','yr_2017']]\n",
    "X=sm.add_constant(X)\n",
    "model = lmp.PanelOLS(y, X)\n",
    "mco = model.fit()\n",
    "print(mco)"
   ]
  },
  {
   "attachments": {},
   "cell_type": "markdown",
   "metadata": {},
   "source": [
    "## First differences"
   ]
  },
  {
   "cell_type": "code",
   "execution_count": 75,
   "metadata": {},
   "outputs": [
    {
     "name": "stdout",
     "output_type": "stream",
     "text": [
      "                     FirstDifferenceOLS Estimation Summary                      \n",
      "================================================================================\n",
      "Dep. Variable:                workers   R-squared:                        0.4409\n",
      "Estimator:         FirstDifferenceOLS   R-squared (Between):              0.7419\n",
      "No. Observations:               14188   R-squared (Within):               0.5529\n",
      "Date:                Mon, May 06 2024   R-squared (Overall):              0.7419\n",
      "Time:                        12:00:22   Log-likelihood                -1.194e+04\n",
      "Cov. Estimator:                Robust                                           \n",
      "                                        F-statistic:                      1117.9\n",
      "Entities:                       24128   P-value                           0.0000\n",
      "Avg Obs:                       1.6207   Distribution:                F(10,14178)\n",
      "Min Obs:                       1.0000                                           \n",
      "Max Obs:                       5.0000   F-statistic (robust):             794.92\n",
      "                                        P-value                           0.0000\n",
      "Time periods:                       5   Distribution:                F(10,14178)\n",
      "Avg Obs:                       7820.8                                           \n",
      "Min Obs:                       6480.0                                           \n",
      "Max Obs:                    1.021e+04                                           \n",
      "                                                                                \n",
      "                             Parameter Estimates                              \n",
      "==============================================================================\n",
      "            Parameter  Std. Err.     T-stat    P-value    Lower CI    Upper CI\n",
      "------------------------------------------------------------------------------\n",
      "sales          0.0779     0.0092     8.4873     0.0000      0.0599      0.0959\n",
      "age           -0.0005     0.0004    -1.2313     0.2182     -0.0014      0.0003\n",
      "foreign        0.0820     0.0266     3.0828     0.0021      0.0299      0.1342\n",
      "export         0.0050     0.0177     0.2812     0.7785     -0.0296      0.0396\n",
      "iyd            0.0417     0.0092     4.5492     0.0000      0.0238      0.0597\n",
      "utilidades     0.0829     0.0443     1.8732     0.0611     -0.0038      0.1697\n",
      "yr_2009       -0.2451     0.0264    -9.2667     0.0000     -0.2969     -0.1932\n",
      "yr_2013        0.9948     0.0152     65.240     0.0000      0.9649      1.0247\n",
      "yr_2015        0.9419     0.0178     53.001     0.0000      0.9071      0.9768\n",
      "yr_2017        0.9005     0.0196     45.852     0.0000      0.8620      0.9389\n",
      "==============================================================================\n"
     ]
    }
   ],
   "source": [
    "X=enia[['sales','age','foreign','export','iyd','utilidades','yr_2009','yr_2013','yr_2015','yr_2017']]\n",
    "model=lmp.FirstDifferenceOLS(y,X)\n",
    "fd=model.fit(cov_type=\"robust\")\n",
    "print(fd)"
   ]
  },
  {
   "attachments": {},
   "cell_type": "markdown",
   "metadata": {},
   "source": [
    "## Fixed Effects "
   ]
  },
  {
   "cell_type": "code",
   "execution_count": 76,
   "metadata": {},
   "outputs": [
    {
     "name": "stdout",
     "output_type": "stream",
     "text": [
      "                          PanelOLS Estimation Summary                           \n",
      "================================================================================\n",
      "Dep. Variable:                workers   R-squared:                        0.5559\n",
      "Estimator:                   PanelOLS   R-squared (Between):              0.4194\n",
      "No. Observations:               39104   R-squared (Within):               0.5559\n",
      "Date:                Mon, May 06 2024   R-squared (Overall):              0.4233\n",
      "Time:                        12:00:22   Log-likelihood                   -3479.8\n",
      "Cov. Estimator:                Robust                                           \n",
      "                                        F-statistic:                      1873.0\n",
      "Entities:                       24128   P-value                           0.0000\n",
      "Avg Obs:                       1.6207   Distribution:                F(10,14966)\n",
      "Min Obs:                       1.0000                                           \n",
      "Max Obs:                       5.0000   F-statistic (robust):             892.28\n",
      "                                        P-value                           0.0000\n",
      "Time periods:                       5   Distribution:                F(10,14966)\n",
      "Avg Obs:                       7820.8                                           \n",
      "Min Obs:                       6480.0                                           \n",
      "Max Obs:                    1.021e+04                                           \n",
      "                                                                                \n",
      "                             Parameter Estimates                              \n",
      "==============================================================================\n",
      "            Parameter  Std. Err.     T-stat    P-value    Lower CI    Upper CI\n",
      "------------------------------------------------------------------------------\n",
      "const          0.6579     0.2709     2.4284     0.0152      0.1269      1.1890\n",
      "sales          0.1209     0.0135     8.9257     0.0000      0.0943      0.1474\n",
      "age           -0.0011     0.0008    -1.4406     0.1497     -0.0026      0.0004\n",
      "foreign        0.0891     0.0357     2.4963     0.0126      0.0191      0.1591\n",
      "export         0.0295     0.0240     1.2254     0.2205     -0.0177      0.0766\n",
      "iyd            0.0460     0.0124     3.7064     0.0002      0.0217      0.0704\n",
      "utilidades     0.0305     0.0491     0.6201     0.5352     -0.0658      0.1268\n",
      "yr_2009       -0.3473     0.0404    -8.5986     0.0000     -0.4265     -0.2681\n",
      "yr_2013        1.0278     0.0152     67.827     0.0000      0.9981      1.0575\n",
      "yr_2015        1.0003     0.0164     61.007     0.0000      0.9681      1.0324\n",
      "yr_2017        0.9704     0.0188     51.488     0.0000      0.9335      1.0074\n",
      "==============================================================================\n",
      "\n",
      "F-test for Poolability: 4.1567\n",
      "P-value: 0.0000\n",
      "Distribution: F(24127,14966)\n",
      "\n",
      "Included effects: Entity\n"
     ]
    }
   ],
   "source": [
    "X=sm.add_constant(X)\n",
    "model=lmp.PanelOLS(y,X, entity_effects=True)\n",
    "fe=model.fit(cov_type=\"robust\")\n",
    "print(fe)"
   ]
  },
  {
   "attachments": {},
   "cell_type": "markdown",
   "metadata": {},
   "source": [
    "## Random Effects\n"
   ]
  },
  {
   "cell_type": "code",
   "execution_count": 77,
   "metadata": {},
   "outputs": [
    {
     "name": "stdout",
     "output_type": "stream",
     "text": [
      "                        RandomEffects Estimation Summary                        \n",
      "================================================================================\n",
      "Dep. Variable:                workers   R-squared:                        0.5343\n",
      "Estimator:              RandomEffects   R-squared (Between):              0.6196\n",
      "No. Observations:               39104   R-squared (Within):               0.4798\n",
      "Date:                Mon, May 06 2024   R-squared (Overall):              0.6036\n",
      "Time:                        12:00:22   Log-likelihood                -2.422e+04\n",
      "Cov. Estimator:                Robust                                           \n",
      "                                        F-statistic:                      4485.9\n",
      "Entities:                       24128   P-value                           0.0000\n",
      "Avg Obs:                       1.6207   Distribution:                F(10,39093)\n",
      "Min Obs:                       1.0000                                           \n",
      "Max Obs:                       5.0000   F-statistic (robust):             4874.1\n",
      "                                        P-value                           0.0000\n",
      "Time periods:                       5   Distribution:                F(10,39093)\n",
      "Avg Obs:                       7820.8                                           \n",
      "Min Obs:                       6480.0                                           \n",
      "Max Obs:                    1.021e+04                                           \n",
      "                                                                                \n",
      "                             Parameter Estimates                              \n",
      "==============================================================================\n",
      "            Parameter  Std. Err.     T-stat    P-value    Lower CI    Upper CI\n",
      "------------------------------------------------------------------------------\n",
      "const          0.3126     0.2771     1.1281     0.2593     -0.2305      0.8557\n",
      "sales          0.3677     0.0062     59.186     0.0000      0.3555      0.3799\n",
      "age            0.0056     0.0003     16.187     0.0000      0.0049      0.0062\n",
      "foreign        0.1446     0.0164     8.8244     0.0000      0.1125      0.1767\n",
      "export         0.1333     0.0124     10.771     0.0000      0.1091      0.1576\n",
      "iyd            0.1744     0.0076     23.020     0.0000      0.1596      0.1893\n",
      "utilidades    -0.0856     0.0504    -1.7001     0.0891     -0.1843      0.0131\n",
      "yr_2009       -0.9031     0.0246    -36.644     0.0000     -0.9514     -0.8548\n",
      "yr_2013        1.0897     0.0095     114.57     0.0000      1.0710      1.1083\n",
      "yr_2015        1.0348     0.0094     110.09     0.0000      1.0164      1.0532\n",
      "yr_2017        0.9163     0.0104     88.059     0.0000      0.8959      0.9367\n",
      "==============================================================================\n"
     ]
    }
   ],
   "source": [
    "model=lmp.RandomEffects(y,X)\n",
    "re=model.fit(cov_type=\"robust\")\n",
    "print(re)"
   ]
  },
  {
   "cell_type": "code",
   "execution_count": 78,
   "metadata": {
    "scrolled": true
   },
   "outputs": [
    {
     "data": {
      "text/plain": [
       "Effects                   0.314164\n",
       "Residual                  0.182783\n",
       "Percent due to Effects    0.632189\n",
       "Name: Variance Decomposition, dtype: float64"
      ]
     },
     "execution_count": 78,
     "metadata": {},
     "output_type": "execute_result"
    }
   ],
   "source": [
    "re.variance_decomposition"
   ]
  },
  {
   "attachments": {},
   "cell_type": "markdown",
   "metadata": {},
   "source": [
    "## Model comparison"
   ]
  },
  {
   "cell_type": "code",
   "execution_count": 79,
   "metadata": {},
   "outputs": [
    {
     "name": "stdout",
     "output_type": "stream",
     "text": [
      "                           Model Comparison                           \n",
      "======================================================================\n",
      "                                   FE                RE         Pooled\n",
      "----------------------------------------------------------------------\n",
      "Dep. Variable                 workers           workers        workers\n",
      "Estimator                    PanelOLS     RandomEffects       PanelOLS\n",
      "No. Observations                39104             39104          39104\n",
      "Cov. Est.                      Robust            Robust     Unadjusted\n",
      "R-squared                      0.5559            0.5343         0.6173\n",
      "R-Squared (Within)             0.5559            0.4798         0.4109\n",
      "R-Squared (Between)            0.4194            0.6196         0.6323\n",
      "R-Squared (Overall)            0.4233            0.6036         0.6173\n",
      "F-statistic                    1873.0            4485.9         6306.1\n",
      "P-value (F-stat)               0.0000            0.0000         0.0000\n",
      "=====================     ===========   ===============   ============\n",
      "const                          0.6579            0.3126         0.7255\n",
      "                             (2.4284)          (1.1281)       (2.1498)\n",
      "sales                          0.1209            0.3677         0.4535\n",
      "                             (8.9257)          (59.186)       (143.91)\n",
      "age                           -0.0011            0.0056         0.0077\n",
      "                            (-1.4406)          (16.187)       (24.809)\n",
      "foreign                        0.0891            0.1446         0.0616\n",
      "                             (2.4963)          (8.8244)       (4.2934)\n",
      "export                         0.0295            0.1333         0.0896\n",
      "                             (1.2254)          (10.771)       (7.0463)\n",
      "iyd                            0.0460            0.1744         0.2465\n",
      "                             (3.7064)          (23.020)       (26.109)\n",
      "utilidades                     0.0305           -0.0856        -0.2059\n",
      "                             (0.6201)         (-1.7001)      (-3.3520)\n",
      "yr_2009                       -0.3473           -0.9031        -1.0986\n",
      "                            (-8.5986)         (-36.644)      (-70.199)\n",
      "yr_2013                        1.0278            1.0897         1.0897\n",
      "                             (67.827)          (114.57)       (91.588)\n",
      "yr_2015                        1.0003            1.0348         1.0346\n",
      "                             (61.007)          (110.09)       (89.803)\n",
      "yr_2017                        0.9704            0.9163         0.8317\n",
      "                             (51.488)          (88.059)       (69.275)\n",
      "======================= ============= ================= ==============\n",
      "Effects                        Entity                                 \n",
      "----------------------------------------------------------------------\n",
      "\n",
      "T-stats reported in parentheses\n"
     ]
    }
   ],
   "source": [
    "print(lmp.compare({\"FE\": fe, \"RE\": re, \"Pooled\": mco}))"
   ]
  },
  {
   "attachments": {},
   "cell_type": "markdown",
   "metadata": {},
   "source": [
    "Hausman Test"
   ]
  },
  {
   "cell_type": "code",
   "execution_count": 80,
   "metadata": {},
   "outputs": [
    {
     "name": "stdout",
     "output_type": "stream",
     "text": [
      "Hausman Test: chi-2 = 816.8930431511317, df = 10, p-value = 4.814183310169493e-169\n"
     ]
    }
   ],
   "source": [
    "import numpy.linalg as la\n",
    "from scipy import stats\n",
    "\n",
    "def hausman(fe, re):\n",
    " diff = fe.params-re.params\n",
    " psi = fe.cov - re.cov\n",
    " dof = diff.size -1\n",
    " W = diff.dot(la.inv(psi)).dot(diff)\n",
    " pval = stats.chi2.sf(W, dof)\n",
    " return W, dof, pval\n",
    "\n",
    "htest = hausman(fe, re) \n",
    "print(\"Hausman Test: chi-2 = {0}, df = {1}, p-value = {2}\".format(htest[0], htest[1], htest[2]))"
   ]
  },
  {
   "attachments": {},
   "cell_type": "markdown",
   "metadata": {},
   "source": [
    "## Correlated Random Effects"
   ]
  },
  {
   "cell_type": "code",
   "execution_count": 81,
   "metadata": {},
   "outputs": [
    {
     "name": "stdout",
     "output_type": "stream",
     "text": [
      "                        RandomEffects Estimation Summary                        \n",
      "================================================================================\n",
      "Dep. Variable:                workers   R-squared:                        0.5622\n",
      "Estimator:              RandomEffects   R-squared (Between):              0.6252\n",
      "No. Observations:               39104   R-squared (Within):               0.5420\n",
      "Date:                Mon, May 06 2024   R-squared (Overall):              0.6229\n",
      "Time:                        12:00:23   Log-likelihood                -2.301e+04\n",
      "Cov. Estimator:                Robust                                           \n",
      "                                        F-statistic:                      3345.9\n",
      "Entities:                       24128   P-value                           0.0000\n",
      "Avg Obs:                       1.6207   Distribution:                F(15,39088)\n",
      "Min Obs:                       1.0000                                           \n",
      "Max Obs:                       5.0000   F-statistic (robust):             4340.1\n",
      "                                        P-value                           0.0000\n",
      "Time periods:                       5   Distribution:                F(15,39088)\n",
      "Avg Obs:                       7820.8                                           \n",
      "Min Obs:                       6480.0                                           \n",
      "Max Obs:                    1.021e+04                                           \n",
      "                                                                                \n",
      "                              Parameter Estimates                              \n",
      "===============================================================================\n",
      "             Parameter  Std. Err.     T-stat    P-value    Lower CI    Upper CI\n",
      "-------------------------------------------------------------------------------\n",
      "const           2.0545     0.8735     2.3520     0.0187      0.3424      3.7666\n",
      "sales           0.2164     0.0080     26.914     0.0000      0.2006      0.2322\n",
      "age            -0.0017     0.0005    -3.3925     0.0007     -0.0027     -0.0007\n",
      "foreign         0.0955     0.0159     6.0233     0.0000      0.0645      0.1266\n",
      "export          0.0216     0.0177     1.2228     0.2214     -0.0130      0.0562\n",
      "iyd             0.0323     0.0094     3.4233     0.0006      0.0138      0.0507\n",
      "utilidades      0.0312     0.0555     0.5611     0.5747     -0.0777      0.1400\n",
      "msales          0.1950     0.0058     33.699     0.0000      0.1837      0.2064\n",
      "mage            0.0106     0.0006     16.781     0.0000      0.0094      0.0118\n",
      "mexport         0.1316     0.0243     5.4124     0.0000      0.0840      0.1793\n",
      "miyd            0.3076     0.0145     21.166     0.0000      0.2791      0.3361\n",
      "mutilidades    -0.4798     0.1763    -2.7205     0.0065     -0.8254     -0.1341\n",
      "yr_2009        -0.6831     0.0240    -28.453     0.0000     -0.7301     -0.6360\n",
      "yr_2013         1.0381     0.0090     115.00     0.0000      1.0204      1.0557\n",
      "yr_2015         1.0154     0.0090     112.23     0.0000      0.9976      1.0331\n",
      "yr_2017         0.9139     0.0101     90.440     0.0000      0.8940      0.9337\n",
      "===============================================================================\n"
     ]
    }
   ],
   "source": [
    "X = enia.drop(['workers','tamano','fomento','yr_2009','yr_2013','yr_2015','yr_2017'], axis=1, inplace=False)\n",
    "Xm = X.groupby(by = 'ID').transform('mean')\n",
    "Xm.columns = ['m{}'.format(column) for column in Xm.columns]\n",
    "Xc = pd.merge(enia,Xm, left_index=True, right_index=True)\n",
    "Y = Xc['workers']\n",
    "X = Xc[['sales','age','foreign','export','iyd','utilidades','msales','mage','mexport','miyd','mutilidades','yr_2009','yr_2013','yr_2015','yr_2017']]\n",
    "X=sm.add_constant(X)\n",
    "\n",
    "model=lmp.RandomEffects(y,X)\n",
    "cre=model.fit(cov_type=\"robust\")\n",
    "print(cre)"
   ]
  },
  {
   "cell_type": "code",
   "execution_count": 82,
   "metadata": {},
   "outputs": [
    {
     "data": {
      "image/png": "[encoded data removed]",
      "text/plain": [
       "<Figure size 640x480 with 1 Axes>"
      ]
     },
     "metadata": {},
     "output_type": "display_data"
    }
   ],
   "source": [
    "Xpred = X\n",
    "Xpred['sales']=0\n",
    "Xpred['age']=0\n",
    "Xpred['export']=0\n",
    "Xpred['iyd']=0\n",
    "Xpred['utilidades']=0\n",
    "Xpred['foreign']=0\n",
    "Xpred['yr_2009']=0\n",
    "Xpred['yr_2013']=0\n",
    "Xpred['yr_2015']=0\n",
    "Xpred['yr_2017']=0\n",
    "yhat = cre.predict(Xpred)\n",
    "\n",
    "sns.histplot(data=y, color=\"skyblue\", label=\"log-workers (observed)\", kde=True)\n",
    "sns.histplot(data=yhat, color=\"red\", label=\"unobserved heterogeneity\", kde=True)\n",
    "\n",
    "plt.legend() \n",
    "plt.show()"
   ]
  },
  {
   "cell_type": "code",
   "execution_count": 83,
   "metadata": {},
   "outputs": [
    {
     "name": "stdout",
     "output_type": "stream",
     "text": [
      "                             Model Comparison                            \n",
      "=========================================================================\n",
      "                                   FE                RE               CRE\n",
      "-------------------------------------------------------------------------\n",
      "Dep. Variable                 workers           workers           workers\n",
      "Estimator                    PanelOLS     RandomEffects     RandomEffects\n",
      "No. Observations                39104             39104             39104\n",
      "Cov. Est.                      Robust            Robust            Robust\n",
      "R-squared                      0.5559            0.5343            0.5622\n",
      "R-Squared (Within)             0.5559            0.4798            0.5420\n",
      "R-Squared (Between)            0.4194            0.6196            0.6252\n",
      "R-Squared (Overall)            0.4233            0.6036            0.6229\n",
      "F-statistic                    1873.0            4485.9            3345.9\n",
      "P-value (F-stat)               0.0000            0.0000            0.0000\n",
      "=====================     ===========   ===============   ===============\n",
      "const                          0.6579            0.3126            2.0545\n",
      "                             (2.4284)          (1.1281)          (2.3520)\n",
      "sales                          0.1209            0.3677            0.2164\n",
      "                             (8.9257)          (59.186)          (26.914)\n",
      "age                           -0.0011            0.0056           -0.0017\n",
      "                            (-1.4406)          (16.187)         (-3.3925)\n",
      "foreign                        0.0891            0.1446            0.0955\n",
      "                             (2.4963)          (8.8244)          (6.0233)\n",
      "export                         0.0295            0.1333            0.0216\n",
      "                             (1.2254)          (10.771)          (1.2228)\n",
      "iyd                            0.0460            0.1744            0.0323\n",
      "                             (3.7064)          (23.020)          (3.4233)\n",
      "utilidades                     0.0305           -0.0856            0.0312\n",
      "                             (0.6201)         (-1.7001)          (0.5611)\n",
      "yr_2009                       -0.3473           -0.9031           -0.6831\n",
      "                            (-8.5986)         (-36.644)         (-28.453)\n",
      "yr_2013                        1.0278            1.0897            1.0381\n",
      "                             (67.827)          (114.57)          (115.00)\n",
      "yr_2015                        1.0003            1.0348            1.0154\n",
      "                             (61.007)          (110.09)          (112.23)\n",
      "yr_2017                        0.9704            0.9163            0.9139\n",
      "                             (51.488)          (88.059)          (90.440)\n",
      "msales                                                             0.1950\n",
      "                                                                 (33.699)\n",
      "mage                                                               0.0106\n",
      "                                                                 (16.781)\n",
      "mexport                                                            0.1316\n",
      "                                                                 (5.4124)\n",
      "miyd                                                               0.3076\n",
      "                                                                 (21.166)\n",
      "mutilidades                                                       -0.4798\n",
      "                                                                (-2.7205)\n",
      "======================= ============= ================= =================\n",
      "Effects                        Entity                                    \n",
      "-------------------------------------------------------------------------\n",
      "\n",
      "T-stats reported in parentheses\n"
     ]
    }
   ],
   "source": [
    "print(lmp.compare({\"FE\": fe, \"RE\": re, \"CRE\": cre}))"
   ]
  },
  {
   "cell_type": "markdown",
   "metadata": {},
   "source": [
    "### Instrumental Variables\n",
    "\n",
    "*I&D* es una variable endogena, y podemos considerar a *fomento* y *age* como instrumentos (exogenos) para poder estimar correctamente el efecto de la investigacion y desarrollo sobre el numero de trabajadores (modelo estatico sin considerar efectos temporales)."
   ]
  },
  {
   "cell_type": "code",
   "execution_count": 84,
   "metadata": {},
   "outputs": [
    {
     "name": "stdout",
     "output_type": "stream",
     "text": [
      "                 Model Comparison                 \n",
      "==================================================\n",
      "                                OLS           2SLS\n",
      "--------------------------------------------------\n",
      "Dep. Variable               workers        workers\n",
      "Estimator                       OLS        IV-2SLS\n",
      "No. Observations              39104          39104\n",
      "Cov. Est.                unadjusted     unadjusted\n",
      "R-squared                    0.2132         0.0800\n",
      "Adj. R-squared               0.2131         0.0799\n",
      "F-statistic                1.06e+04         8729.8\n",
      "P-value (F-stat)             0.0000         0.0000\n",
      "==================     ============   ============\n",
      "sales                        0.2529         0.2408\n",
      "                           (77.191)       (65.328)\n",
      "foreign                      0.4031         0.3700\n",
      "                           (19.791)       (16.668)\n",
      "export                       0.4124         0.2006\n",
      "                           (22.856)       (7.6043)\n",
      "utilidades                  -0.5363        -0.6523\n",
      "                          (-6.0932)      (-6.8177)\n",
      "iyd                          0.3355         1.3893\n",
      "                           (25.907)       (15.540)\n",
      "const                        3.6496         4.1200\n",
      "                           (7.5502)       (7.8600)\n",
      "==================== ============== ==============\n",
      "Instruments                                fomento\n",
      "                                               age\n",
      "--------------------------------------------------\n",
      "\n",
      "T-stats reported in parentheses\n"
     ]
    }
   ],
   "source": [
    "from statsmodels.api import add_constant\n",
    "enia = sm.add_constant(enia)\n",
    "res_ols = IV2SLS(enia.workers, enia[['sales','foreign','export','utilidades','iyd','const']], None, None).fit(\n",
    "    cov_type=\"unadjusted\")\n",
    "res_IV = IV2SLS(enia.workers, enia[['sales','foreign','export','utilidades','const']], enia['iyd'], enia[['fomento','age']]).fit(\n",
    "    cov_type=\"unadjusted\")\n",
    "\n",
    "from linearmodels.iv import compare\n",
    "print(compare({\"OLS\": res_ols, \"2SLS\": res_IV}))"
   ]
  },
  {
   "cell_type": "markdown",
   "metadata": {},
   "source": [
    "#### Instrumental variables with panel data"
   ]
  },
  {
   "cell_type": "markdown",
   "metadata": {},
   "source": [
    "Primero replicar resultados de arriba pero en modelo de panel (comparar resultados con modelo FE). La libreria tambien permite realizar test de identificacion y exogeneidad (pero presenta problemas computacionales, por eso se aplica en una muestra restringida)."
   ]
  },
  {
   "cell_type": "code",
   "execution_count": 85,
   "metadata": {},
   "outputs": [
    {
     "data": {
      "text/html": [
       "<div>\n",
       "<style scoped>\n",
       "    .dataframe tbody tr th:only-of-type {\n",
       "        vertical-align: middle;\n",
       "    }\n",
       "\n",
       "    .dataframe tbody tr th {\n",
       "        vertical-align: top;\n",
       "    }\n",
       "\n",
       "    .dataframe thead th {\n",
       "        text-align: right;\n",
       "    }\n",
       "</style>\n",
       "<table border=\"1\" class=\"dataframe\">\n",
       "  <thead>\n",
       "    <tr style=\"text-align: right;\">\n",
       "      <th></th>\n",
       "      <th>ID</th>\n",
       "      <th>year</th>\n",
       "      <th>tamano</th>\n",
       "      <th>sales</th>\n",
       "      <th>age</th>\n",
       "      <th>foreign</th>\n",
       "      <th>export</th>\n",
       "      <th>workers</th>\n",
       "      <th>fomento</th>\n",
       "      <th>iyd</th>\n",
       "      <th>impuestos</th>\n",
       "      <th>utilidades</th>\n",
       "    </tr>\n",
       "  </thead>\n",
       "  <tbody>\n",
       "    <tr>\n",
       "      <th>count</th>\n",
       "      <td>25328.000000</td>\n",
       "      <td>25328.000000</td>\n",
       "      <td>25328.000000</td>\n",
       "      <td>25328.000000</td>\n",
       "      <td>25328.000000</td>\n",
       "      <td>25328.000000</td>\n",
       "      <td>25328.000000</td>\n",
       "      <td>25328.000000</td>\n",
       "      <td>25328.000000</td>\n",
       "      <td>25328.000000</td>\n",
       "      <td>25328.000000</td>\n",
       "      <td>2.532800e+04</td>\n",
       "    </tr>\n",
       "    <tr>\n",
       "      <th>mean</th>\n",
       "      <td>133179.169259</td>\n",
       "      <td>2.152993</td>\n",
       "      <td>2.359484</td>\n",
       "      <td>3.762184</td>\n",
       "      <td>15.465256</td>\n",
       "      <td>0.076358</td>\n",
       "      <td>0.106483</td>\n",
       "      <td>1.537945</td>\n",
       "      <td>0.092388</td>\n",
       "      <td>0.237642</td>\n",
       "      <td>0.314562</td>\n",
       "      <td>2.896482e+00</td>\n",
       "    </tr>\n",
       "    <tr>\n",
       "      <th>std</th>\n",
       "      <td>44225.531697</td>\n",
       "      <td>1.239448</td>\n",
       "      <td>1.157920</td>\n",
       "      <td>1.933458</td>\n",
       "      <td>12.912701</td>\n",
       "      <td>0.265576</td>\n",
       "      <td>0.308461</td>\n",
       "      <td>1.174144</td>\n",
       "      <td>0.289578</td>\n",
       "      <td>0.425647</td>\n",
       "      <td>19.717691</td>\n",
       "      <td>2.866379e+02</td>\n",
       "    </tr>\n",
       "    <tr>\n",
       "      <th>min</th>\n",
       "      <td>100000.000000</td>\n",
       "      <td>1.000000</td>\n",
       "      <td>1.000000</td>\n",
       "      <td>0.000000</td>\n",
       "      <td>0.000000</td>\n",
       "      <td>0.000000</td>\n",
       "      <td>0.000000</td>\n",
       "      <td>0.000000</td>\n",
       "      <td>0.000000</td>\n",
       "      <td>0.000000</td>\n",
       "      <td>-180.992528</td>\n",
       "      <td>-2.443698e+02</td>\n",
       "    </tr>\n",
       "    <tr>\n",
       "      <th>25%</th>\n",
       "      <td>103250.000000</td>\n",
       "      <td>1.000000</td>\n",
       "      <td>1.000000</td>\n",
       "      <td>2.274441</td>\n",
       "      <td>7.000000</td>\n",
       "      <td>0.000000</td>\n",
       "      <td>0.000000</td>\n",
       "      <td>0.602060</td>\n",
       "      <td>0.000000</td>\n",
       "      <td>0.000000</td>\n",
       "      <td>0.000000</td>\n",
       "      <td>7.197500e-08</td>\n",
       "    </tr>\n",
       "    <tr>\n",
       "      <th>50%</th>\n",
       "      <td>107235.500000</td>\n",
       "      <td>2.000000</td>\n",
       "      <td>2.000000</td>\n",
       "      <td>3.665193</td>\n",
       "      <td>14.000000</td>\n",
       "      <td>0.000000</td>\n",
       "      <td>0.000000</td>\n",
       "      <td>1.380211</td>\n",
       "      <td>0.000000</td>\n",
       "      <td>0.000000</td>\n",
       "      <td>0.000005</td>\n",
       "      <td>8.880000e-05</td>\n",
       "    </tr>\n",
       "    <tr>\n",
       "      <th>75%</th>\n",
       "      <td>200660.250000</td>\n",
       "      <td>3.000000</td>\n",
       "      <td>3.000000</td>\n",
       "      <td>5.182868</td>\n",
       "      <td>20.000000</td>\n",
       "      <td>0.000000</td>\n",
       "      <td>0.000000</td>\n",
       "      <td>2.392697</td>\n",
       "      <td>0.000000</td>\n",
       "      <td>0.000000</td>\n",
       "      <td>0.000326</td>\n",
       "      <td>5.034424e-03</td>\n",
       "    </tr>\n",
       "    <tr>\n",
       "      <th>max</th>\n",
       "      <td>204399.000000</td>\n",
       "      <td>5.000000</td>\n",
       "      <td>4.000000</td>\n",
       "      <td>10.309005</td>\n",
       "      <td>190.000000</td>\n",
       "      <td>1.000000</td>\n",
       "      <td>1.000000</td>\n",
       "      <td>5.814677</td>\n",
       "      <td>1.000000</td>\n",
       "      <td>1.000000</td>\n",
       "      <td>2981.494528</td>\n",
       "      <td>4.544069e+04</td>\n",
       "    </tr>\n",
       "  </tbody>\n",
       "</table>\n",
       "</div>"
      ],
      "text/plain": [
       "                  ID          year        tamano         sales           age  \\\n",
       "count   25328.000000  25328.000000  25328.000000  25328.000000  25328.000000   \n",
       "mean   133179.169259      2.152993      2.359484      3.762184     15.465256   \n",
       "std     44225.531697      1.239448      1.157920      1.933458     12.912701   \n",
       "min    100000.000000      1.000000      1.000000      0.000000      0.000000   \n",
       "25%    103250.000000      1.000000      1.000000      2.274441      7.000000   \n",
       "50%    107235.500000      2.000000      2.000000      3.665193     14.000000   \n",
       "75%    200660.250000      3.000000      3.000000      5.182868     20.000000   \n",
       "max    204399.000000      5.000000      4.000000     10.309005    190.000000   \n",
       "\n",
       "            foreign        export       workers       fomento           iyd  \\\n",
       "count  25328.000000  25328.000000  25328.000000  25328.000000  25328.000000   \n",
       "mean       0.076358      0.106483      1.537945      0.092388      0.237642   \n",
       "std        0.265576      0.308461      1.174144      0.289578      0.425647   \n",
       "min        0.000000      0.000000      0.000000      0.000000      0.000000   \n",
       "25%        0.000000      0.000000      0.602060      0.000000      0.000000   \n",
       "50%        0.000000      0.000000      1.380211      0.000000      0.000000   \n",
       "75%        0.000000      0.000000      2.392697      0.000000      0.000000   \n",
       "max        1.000000      1.000000      5.814677      1.000000      1.000000   \n",
       "\n",
       "          impuestos    utilidades  \n",
       "count  25328.000000  2.532800e+04  \n",
       "mean       0.314562  2.896482e+00  \n",
       "std       19.717691  2.866379e+02  \n",
       "min     -180.992528 -2.443698e+02  \n",
       "25%        0.000000  7.197500e-08  \n",
       "50%        0.000005  8.880000e-05  \n",
       "75%        0.000326  5.034424e-03  \n",
       "max     2981.494528  4.544069e+04  "
      ]
     },
     "execution_count": 85,
     "metadata": {},
     "output_type": "execute_result"
    }
   ],
   "source": [
    "from fixedeffect.iv import iv2sls, ivgmm, ivtest\n",
    "Xa.loc[Xa[\"year\"] > 2012, \"year\"] = Xa[\"year\"] - 2\n",
    "Xa['year'] = (Xa['year'] - 2005)/2\n",
    "Xa = Xa.loc[Xa[\"ID\"] < 200000,] \n",
    "Xa.describe()"
   ]
  },
  {
   "cell_type": "code",
   "execution_count": 92,
   "metadata": {},
   "outputs": [
    {
     "name": "stdout",
     "output_type": "stream",
     "text": [
      "const         1.209717\n",
      "sales         0.081553\n",
      "foreign       0.108999\n",
      "export        0.028028\n",
      "utilidades    0.000017\n",
      "iyd           0.042300\n",
      "dtype: float64\n",
      "const         0.031051\n",
      "sales         0.007607\n",
      "foreign       0.048345\n",
      "export        0.024935\n",
      "utilidades    0.000002\n",
      "iyd           0.007133\n",
      "Name: bse, dtype: float64\n"
     ]
    }
   ],
   "source": [
    "formula = 'workers ~ sales + foreign + export + utilidades + iyd|ID+year|ID+year|0'\n",
    "\n",
    "model_fe = fixedeffect(data_df = Xa,\n",
    "                       formula = formula,\n",
    "                       no_print=True)\n",
    "result = model_fe.fit()\n",
    "print(result.params)\n",
    "print(result.bse)"
   ]
  },
  {
   "cell_type": "code",
   "execution_count": 94,
   "metadata": {},
   "outputs": [
    {
     "name": "stdout",
     "output_type": "stream",
     "text": [
      "dependent variable(s): ['workers']\n",
      "independent(exogenous): ['sales', 'foreign', 'export', 'utilidades']\n",
      "category variables(fixed effects): ['ID', 'year']\n",
      "cluster variables: ['0']\n",
      "endogenous variables: ['iyd']\n",
      "instruments: ['fomento', 'age']\n",
      "const         1.249024\n",
      "sales         0.082538\n",
      "foreign       0.100414\n",
      "export        0.031528\n",
      "utilidades    0.000018\n",
      "hat_iyd      -0.137505\n",
      "dtype: float64\n",
      "const         0.050952\n",
      "sales         0.006129\n",
      "foreign       0.028662\n",
      "export        0.020474\n",
      "utilidades    0.000012\n",
      "hat_iyd       0.208132\n",
      "dtype: float64\n"
     ]
    }
   ],
   "source": [
    "formula = 'workers ~ sales + foreign + export + utilidades|ID+year|0|(iyd~fomento + age)'\n",
    "model_iv2sls = iv2sls(data_df = Xa,\n",
    "                      formula = formula)\n",
    "result = model_iv2sls.fit()\n",
    "print(result.params)\n",
    "print(result.bse)"
   ]
  },
  {
   "cell_type": "code",
   "execution_count": 95,
   "metadata": {},
   "outputs": [
    {
     "name": "stdout",
     "output_type": "stream",
     "text": [
      "Weak IV test with critical values based on 2SLS size\n",
      "=================================================\n",
      "  Cragg-Donald Statistics:            39.868516  \n",
      "  number of instrumental variables:           2  \n",
      "  number of endogenous variables:             1  \n",
      "=============================================================================\n",
      "                                      5%        10%        20%        30%    \n",
      "-----------------------------------------------------------------------------\n",
      "2SLS Size of nominal 5% Wald test    19.9300    11.5900     8.7500     7.2500\n",
      "-----------------------------------------------------------------------------\n",
      "H0: Instruments are weak\n",
      "\n",
      "     Over identification test - nonrobust     \n",
      "==============================================\n",
      "                    test statistics  p values \n",
      "----------------------------------------------\n",
      "Sargan Statistics:           9.8898     0.0195\n",
      "Basmann Statistics:          3.2970     0.3481\n",
      "----------------------------------------------\n",
      "\n",
      "             Tests of endogeneity            \n",
      "=============================================\n",
      "                   test statistics  p values \n",
      "---------------------------------------------\n",
      "Durbin Statistics:          1.7721     0.1831\n",
      "---------------------------------------------\n",
      "H0: variables are exogenous\n"
     ]
    }
   ],
   "source": [
    "ivtest(result)"
   ]
  },
  {
   "attachments": {},
   "cell_type": "markdown",
   "metadata": {},
   "source": [
    "<font size=\"3\">**Tarea 2**</font>\n",
    "\n",
    "<u> *Instrucciones* </u>\n",
    "\n",
    "Los resultados de los ejericicios propuestos se deben entregar como un notebook por correo electronico a *juancaros@udec.cl* el dia 20/5 hasta las 21:00. Es importante considerar que el código debe poder ejecutarse en cualquier computadora con la data original del repositorio. Recordar la convencion para el nombre de archivo ademas de incluir en su documento titulos y encabezados por seccion. \n",
    "\n",
    "El archivo a utilizar es *panel_eps.csv*, que contiene un resumen de la Encuesta de Proteccion Social, en particular la caracterizacion de los individuos en distintas rondas, su situacion laboral y de salud. "
   ]
  },
  {
   "cell_type": "markdown",
   "metadata": {},
   "source": [
    "**Variable dictionary**\n",
    "\n",
    "- folio_n20:\tidentificacion individuo\n",
    "- year:\tanio 20xx\n",
    "- time:\ttiempo lineal (1-7)\n",
    "- age:\tedad\n",
    "- hombre:\t1 si hombre, 0 mujer\n",
    "- edu:\teducacion medida en anios completados\n",
    "- region:\tregion (1-16)\n",
    "- status:\t1 casado 2 convive 3 divorciado 4 viudo 5 soltero\n",
    "- kids:\t1 if has kids, 0 ow\n",
    "- children:\t# of children under 18 years old, 18 included\n",
    "- situation:\t1 otro, 2 cesante, 3 trabajando, 4 inactivo\n",
    "- lmp:\t1 part-time worker, 2 full-time worker, 0 not working\n",
    "- exp:\tyears of labor experience\n",
    "- size:\ttamanio de la firma\n",
    "- occupation:\tcodigo ocupacion\n",
    "- wage:\tsalario mensual en pesos del anio encuesta\n",
    "- hours:\thoras semanales trabajadas\n",
    "- informal:\t1 if no work contract, 0 ow\n",
    "- selfemp:\t1 if self employed, 0 ow\n",
    "- publicemp:\t1 if worker in public sector, 0 ow\n",
    "- sistema:\t1 if in AFP system, 0 ow\n",
    "- cotizando:\t1 if contributor, 0 ow\n",
    "- assets:\taccumulated wealth in pension system, pesos of each year\n",
    "- exp_sist:\tyears of experience in pension system\n",
    "- expectancy:\texpectativa de vida autorreportada\n",
    "- illness:\t1 si tiene una enferdad, 0 si no\n",
    "- cronica:\tSi tiene enfermedad cronica 1, 0 eoc\n",
    "- nocronica:\tSi tiene enfermedad no cronica 1, 0 eoc\n",
    "- mental:\tSi tiene enfermedad mental 1, 0 eoc\n"
   ]
  },
  {
   "attachments": {},
   "cell_type": "markdown",
   "metadata": {},
   "source": [
    "Preguntas:\n",
    "\n",
    "1. Cargar la base de datos en el ambiente. Identifique los tipos de datos que se encuentran en la base, realice estadisticas descriptivas sobre las variables importantes (Hint: Revisar la distribuciones, datos faltantes, outliers, etc.) y limpie las variables cuando sea necesario. "
   ]
  },
  {
   "attachments": {},
   "cell_type": "markdown",
   "metadata": {},
   "source": [
    "\n",
    "2. Ejecute un modelo Pooled OLS para estimar la relacion entre los anios de educacion y la expectativa de vida. Seleccione las variables independientes a incluir en el modelo final e interprete su significado."
   ]
  },
  {
   "attachments": {},
   "cell_type": "markdown",
   "metadata": {},
   "source": [
    "\n",
    "3. Ejecute un modelo efectos fijos para estimar la misma relacion anterior. Seleccione las variables independientes a incluir en el modelo final e interprete su significado."
   ]
  },
  {
   "attachments": {},
   "cell_type": "markdown",
   "metadata": {},
   "source": [
    "\n",
    "4. Ejecute un modelo de efectos aleatorios para estimar la misma relacion anterior. Seleccione las variables independientes a incluir en el modelo final e interprete su significado. "
   ]
  },
  {
   "attachments": {},
   "cell_type": "markdown",
   "metadata": {},
   "source": [
    "\n",
    "5. Comente los resultados obtenidos en 2, 3 y 4. ¿Cuáles y por qué existen las diferencias entre los resultados?. En su opinión, ¿Cuál sería el más adecuado para responder la pregunta de investgación y por qué? ¿Qué variables resultaron ser robustas a la especificación?"
   ]
  },
  {
   "attachments": {},
   "cell_type": "markdown",
   "metadata": {},
   "source": [
    "\n",
    "6. Ejecute un modelo de efectos aleatorios correlacionados (CRE) para estimar la misma relacion anterior. Seleccione las variables independientes a incluir en el modelo final e interprete su significado. Es este modelo adecuado, dada la data disponible, para modelar el componente no observado?"
   ]
  },
  {
   "attachments": {},
   "cell_type": "markdown",
   "metadata": {},
   "source": [
    "\n",
    "7. Usando el modelo CRE, prediga la distribucion del componente no observado. Que puede inferir respecto de la heterogeneidad fija en el tiempo y su impacto en la expectativa de vida?"
   ]
  },
  {
   "attachments": {},
   "cell_type": "markdown",
   "metadata": {},
   "source": [
    "8. Usando sus respuestas anteriores, que modelo prefiere? que se puede inferir en general respecto del efecto de las variables explicativas sobre el numero de trabajadores?"
   ]
  },
  {
   "attachments": {},
   "cell_type": "markdown",
   "metadata": {},
   "source": [
    "9. Bonus track (optativo): Es posible que sus resultados anteriores tengan sesgo dado que quienes esperan vivir mas pueden estar incentivados a adquirir mas educacion. Proponga AL MENOS DOS instrumentos posibles para predecir el nivel de educacion de forma exogena, tal que se pueda corregir el sesgo y entender el efecto causal de las educacion en la expectativa de vida. Realice su estimacion considerando un modelo agrupado (ignorando el tiempo), y el modelo de panel."
   ]
  }
 ],
 "metadata": {
  "hide_input": false,
  "kernelspec": {
   "display_name": "base",
   "language": "python",
   "name": "python3"
  },
  "language_info": {
   "codemirror_mode": {
    "name": "ipython",
    "version": 3
   },
   "file_extension": ".py",
   "mimetype": "text/x-python",
   "name": "python",
   "nbconvert_exporter": "python",
   "pygments_lexer": "ipython3",
   "version": "3.9.18"
  },
  "latex_envs": {
   "LaTeX_envs_menu_present": true,
   "autoclose": true,
   "autocomplete": true,
   "bibliofile": "biblio.bib",
   "cite_by": "apalike",
   "current_citInitial": 1,
   "eqLabelWithNumbers": true,
   "eqNumInitial": 1,
   "hotkeys": {
    "equation": "Ctrl-E",
    "itemize": "Ctrl-I"
   },
   "labels_anchors": false,
   "latex_user_defs": false,
   "report_style_numbering": false,
   "user_envs_cfg": false
  },
  "toc": {
   "base_numbering": 1,
   "nav_menu": {},
   "number_sections": true,
   "sideBar": true,
   "skip_h1_title": true,
   "title_cell": "Table of Contents",
   "title_sidebar": "Contents",
   "toc_cell": false,
   "toc_position": {
    "height": "calc(100% - 180px)",
    "left": "10px",
    "top": "150px",
    "width": "165px"
   },
   "toc_section_display": true,
   "toc_window_display": true
  }
 },
 "nbformat": 4,
 "nbformat_minor": 2
}
