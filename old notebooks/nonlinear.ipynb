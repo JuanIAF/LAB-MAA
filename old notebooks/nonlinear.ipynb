{
 "cells": [
  {
   "cell_type": "markdown",
   "metadata": {},
   "source": [
    "<font size=\"5\">Section 2: non linear models</font>"
   ]
  },
  {
   "cell_type": "markdown",
   "metadata": {},
   "source": [
    "### Housekeeping\n",
    "\n",
    "#### import libraries\n",
    "\n",
    "Pandas for data management, statsmodels, numpy and sklearn for analysis, matplotlib for visualization. Other libraries as needed for specific tasks (e.g. semopy for SEM). Remember to use the bash terminal or the enviroment manager to add libraries.\n",
    "\n",
    "#### read data\n",
    "\n",
    "Read data files using pandas as noted below. We can clean and organize data in many ways (for example, using the **dropna** command over a dataset).\n",
    "\n",
    "#### describe data\n",
    "\n",
    "There are many was to analyze data and do descriptive statistics. A good command to start is ***head***, to describe a section of the data.\n"
   ]
  },
  {
   "cell_type": "code",
   "execution_count": 1,
   "metadata": {},
   "outputs": [],
   "source": [
    "import numpy as np\n",
    "import pandas as pd\n",
    "import matplotlib.pyplot as plt\n",
    "import statsmodels.api as sm\n",
    "import statsmodels.formula.api as smf\n",
    "import sklearn\n",
    "import scipy \n",
    "from scipy.stats import nbinom\n",
    "import seaborn as sns\n",
    "\n",
    "%matplotlib inline"
   ]
  },
  {
   "cell_type": "code",
   "execution_count": 2,
   "metadata": {},
   "outputs": [],
   "source": [
    "# higher ed data\n",
    "cned = pd.read_csv('../data/cned.csv')\n",
    "cned.dropna(inplace=True)\n"
   ]
  },
  {
   "cell_type": "code",
   "execution_count": 3,
   "metadata": {},
   "outputs": [
    {
     "data": {
      "text/html": [
       "<div>\n",
       "<style scoped>\n",
       "    .dataframe tbody tr th:only-of-type {\n",
       "        vertical-align: middle;\n",
       "    }\n",
       "\n",
       "    .dataframe tbody tr th {\n",
       "        vertical-align: top;\n",
       "    }\n",
       "\n",
       "    .dataframe thead th {\n",
       "        text-align: right;\n",
       "    }\n",
       "</style>\n",
       "<table border=\"1\" class=\"dataframe\">\n",
       "  <thead>\n",
       "    <tr style=\"text-align: right;\">\n",
       "      <th></th>\n",
       "      <th>region</th>\n",
       "      <th>idc</th>\n",
       "      <th>puntaje</th>\n",
       "      <th>nem</th>\n",
       "      <th>ingreso2</th>\n",
       "      <th>vacantes</th>\n",
       "      <th>ingreso</th>\n",
       "      <th>year</th>\n",
       "      <th>stem</th>\n",
       "      <th>area</th>\n",
       "    </tr>\n",
       "  </thead>\n",
       "  <tbody>\n",
       "    <tr>\n",
       "      <th>0</th>\n",
       "      <td>7</td>\n",
       "      <td>7404</td>\n",
       "      <td>713.0</td>\n",
       "      <td>645.0</td>\n",
       "      <td>26.0</td>\n",
       "      <td>38.0</td>\n",
       "      <td>138</td>\n",
       "      <td>2019</td>\n",
       "      <td>0</td>\n",
       "      <td>Art/Humanities</td>\n",
       "    </tr>\n",
       "    <tr>\n",
       "      <th>1</th>\n",
       "      <td>7</td>\n",
       "      <td>7405</td>\n",
       "      <td>643.0</td>\n",
       "      <td>637.0</td>\n",
       "      <td>28.0</td>\n",
       "      <td>39.0</td>\n",
       "      <td>104</td>\n",
       "      <td>2019</td>\n",
       "      <td>0</td>\n",
       "      <td>Art/Humanities</td>\n",
       "    </tr>\n",
       "    <tr>\n",
       "      <th>2</th>\n",
       "      <td>7</td>\n",
       "      <td>7402</td>\n",
       "      <td>674.0</td>\n",
       "      <td>692.0</td>\n",
       "      <td>278.0</td>\n",
       "      <td>314.0</td>\n",
       "      <td>1318</td>\n",
       "      <td>2019</td>\n",
       "      <td>0</td>\n",
       "      <td>Art/Humanities</td>\n",
       "    </tr>\n",
       "    <tr>\n",
       "      <th>3</th>\n",
       "      <td>7</td>\n",
       "      <td>7406</td>\n",
       "      <td>663.0</td>\n",
       "      <td>655.0</td>\n",
       "      <td>79.0</td>\n",
       "      <td>103.0</td>\n",
       "      <td>438</td>\n",
       "      <td>2019</td>\n",
       "      <td>0</td>\n",
       "      <td>Art/Humanities</td>\n",
       "    </tr>\n",
       "    <tr>\n",
       "      <th>4</th>\n",
       "      <td>7</td>\n",
       "      <td>7408</td>\n",
       "      <td>642.0</td>\n",
       "      <td>610.0</td>\n",
       "      <td>41.0</td>\n",
       "      <td>59.0</td>\n",
       "      <td>148</td>\n",
       "      <td>2019</td>\n",
       "      <td>0</td>\n",
       "      <td>Art/Humanities</td>\n",
       "    </tr>\n",
       "  </tbody>\n",
       "</table>\n",
       "</div>"
      ],
      "text/plain": [
       "   region   idc  puntaje    nem  ingreso2  vacantes  ingreso  year  stem  \\\n",
       "0       7  7404    713.0  645.0      26.0      38.0      138  2019     0   \n",
       "1       7  7405    643.0  637.0      28.0      39.0      104  2019     0   \n",
       "2       7  7402    674.0  692.0     278.0     314.0     1318  2019     0   \n",
       "3       7  7406    663.0  655.0      79.0     103.0      438  2019     0   \n",
       "4       7  7408    642.0  610.0      41.0      59.0      148  2019     0   \n",
       "\n",
       "             area  \n",
       "0  Art/Humanities  \n",
       "1  Art/Humanities  \n",
       "2  Art/Humanities  \n",
       "3  Art/Humanities  \n",
       "4  Art/Humanities  "
      ]
     },
     "execution_count": 3,
     "metadata": {},
     "output_type": "execute_result"
    }
   ],
   "source": [
    "cned.reset_index(drop=True, inplace=True)\n",
    "cned.head()"
   ]
  },
  {
   "cell_type": "code",
   "execution_count": 6,
   "metadata": {},
   "outputs": [
    {
     "data": {
      "text/plain": [
       "<matplotlib.collections.PathCollection at 0x1fc5b0d9d48>"
      ]
     },
     "execution_count": 6,
     "metadata": {},
     "output_type": "execute_result"
    },
    {
     "data": {
      "image/png": "[encoded data removed]",
      "text/plain": [
       "<Figure size 432x288 with 1 Axes>"
      ]
     },
     "metadata": {
      "needs_background": "light"
     },
     "output_type": "display_data"
    }
   ],
   "source": [
    "plt.scatter(cned['nem'],cned['ingreso'])"
   ]
  },
  {
   "cell_type": "markdown",
   "metadata": {},
   "source": [
    "### OLS\n",
    "\n",
    "We can use statsmodels to estimate a simple OLS regression (linear probability model). "
   ]
  },
  {
   "cell_type": "code",
   "execution_count": 10,
   "metadata": {},
   "outputs": [
    {
     "name": "stdout",
     "output_type": "stream",
     "text": [
      "                            OLS Regression Results                            \n",
      "==============================================================================\n",
      "Dep. Variable:                   stem   R-squared:                       0.002\n",
      "Model:                            OLS   Adj. R-squared:                  0.002\n",
      "Method:                 Least Squares   F-statistic:                     5.016\n",
      "Date:                Wed, 31 Aug 2022   Prob (F-statistic):           0.000490\n",
      "Time:                        14:47:41   Log-Likelihood:                -5919.4\n",
      "No. Observations:                9065   AIC:                         1.185e+04\n",
      "Df Residuals:                    9060   BIC:                         1.188e+04\n",
      "Df Model:                           4                                         \n",
      "Covariance Type:            nonrobust                                         \n",
      "==============================================================================\n",
      "                 coef    std err          t      P>|t|      [0.025      0.975]\n",
      "------------------------------------------------------------------------------\n",
      "const          9.9501      4.999      1.990      0.047       0.151      19.749\n",
      "puntaje        0.0003      0.000      1.600      0.110   -7.38e-05       0.001\n",
      "nem           -0.0002      0.000     -1.289      0.198      -0.001       0.000\n",
      "vacantes      -0.0004      0.000     -3.732      0.000      -0.001      -0.000\n",
      "year          -0.0048      0.002     -1.934      0.053      -0.010    6.47e-05\n",
      "==============================================================================\n",
      "Omnibus:                   107523.746   Durbin-Watson:                   0.003\n",
      "Prob(Omnibus):                  0.000   Jarque-Bera (JB):             1641.860\n",
      "Skew:                           0.782   Prob(JB):                         0.00\n",
      "Kurtosis:                       1.622   Cond. No.                     2.23e+06\n",
      "==============================================================================\n",
      "\n",
      "Notes:\n",
      "[1] Standard Errors assume that the covariance matrix of the errors is correctly specified.\n",
      "[2] The condition number is large, 2.23e+06. This might indicate that there are\n",
      "strong multicollinearity or other numerical problems.\n"
     ]
    }
   ],
   "source": [
    "y=cned['stem']\n",
    "X=cned[['puntaje','nem','vacantes','year']]\n",
    "X=sm.add_constant(X)\n",
    "model = sm.OLS(y, X)\n",
    "results = model.fit()\n",
    "print(results.summary())"
   ]
  },
  {
   "cell_type": "markdown",
   "metadata": {},
   "source": [
    "### Probit\n",
    "\n"
   ]
  },
  {
   "cell_type": "code",
   "execution_count": 11,
   "metadata": {},
   "outputs": [
    {
     "name": "stdout",
     "output_type": "stream",
     "text": [
      "Optimization terminated successfully.\n",
      "         Current function value: 0.623654\n",
      "         Iterations 5\n",
      "                          Probit Regression Results                           \n",
      "==============================================================================\n",
      "Dep. Variable:                   stem   No. Observations:                 9065\n",
      "Model:                         Probit   Df Residuals:                     9060\n",
      "Method:                           MLE   Df Model:                            4\n",
      "Date:                Thu, 21 Jul 2022   Pseudo R-squ.:                0.001818\n",
      "Time:                        22:34:51   Log-Likelihood:                -5653.4\n",
      "converged:                       True   LL-Null:                       -5663.7\n",
      "Covariance Type:            nonrobust   LLR p-value:                 0.0003804\n",
      "==============================================================================\n",
      "                 coef    std err          z      P>|z|      [0.025      0.975]\n",
      "------------------------------------------------------------------------------\n",
      "const         26.6035     14.039      1.895      0.058      -0.912      54.119\n",
      "puntaje        0.0010      0.001      1.646      0.100      -0.000       0.002\n",
      "nem           -0.0007      0.001     -1.321      0.187      -0.002       0.000\n",
      "vacantes      -0.0013      0.000     -3.763      0.000      -0.002      -0.001\n",
      "year          -0.0135      0.007     -1.936      0.053      -0.027       0.000\n",
      "==============================================================================\n",
      "       Probit Marginal Effects       \n",
      "=====================================\n",
      "Dep. Variable:                   stem\n",
      "Method:                          dydx\n",
      "At:                           overall\n",
      "==============================================================================\n",
      "                dy/dx    std err          z      P>|z|      [0.025      0.975]\n",
      "------------------------------------------------------------------------------\n",
      "puntaje        0.0003      0.000      1.647      0.100    -6.5e-05       0.001\n",
      "nem           -0.0002      0.000     -1.321      0.186      -0.001       0.000\n",
      "vacantes      -0.0005      0.000     -3.771      0.000      -0.001      -0.000\n",
      "year          -0.0048      0.002     -1.938      0.053      -0.010    5.55e-05\n",
      "==============================================================================\n"
     ]
    }
   ],
   "source": [
    "model = sm.Probit(y, X)\n",
    "probit_model = model.fit()\n",
    "print(probit_model.summary())\n",
    "\n",
    "mfx = probit_model.get_margeff()\n",
    "print(mfx.summary())"
   ]
  },
  {
   "cell_type": "markdown",
   "metadata": {},
   "source": [
    "### Logit"
   ]
  },
  {
   "cell_type": "code",
   "execution_count": 12,
   "metadata": {},
   "outputs": [
    {
     "name": "stdout",
     "output_type": "stream",
     "text": [
      "Optimization terminated successfully.\n",
      "         Current function value: 0.623656\n",
      "         Iterations 6\n",
      "                           Logit Regression Results                           \n",
      "==============================================================================\n",
      "Dep. Variable:                   stem   No. Observations:                 9065\n",
      "Model:                          Logit   Df Residuals:                     9060\n",
      "Method:                           MLE   Df Model:                            4\n",
      "Date:                Thu, 21 Jul 2022   Pseudo R-squ.:                0.001816\n",
      "Time:                        22:34:57   Log-Likelihood:                -5653.4\n",
      "converged:                       True   LL-Null:                       -5663.7\n",
      "Covariance Type:            nonrobust   LLR p-value:                 0.0003859\n",
      "==============================================================================\n",
      "                 coef    std err          z      P>|z|      [0.025      0.975]\n",
      "------------------------------------------------------------------------------\n",
      "const         43.8868     23.134      1.897      0.058      -1.455      89.229\n",
      "puntaje        0.0015      0.001      1.602      0.109      -0.000       0.003\n",
      "nem           -0.0010      0.001     -1.278      0.201      -0.003       0.001\n",
      "vacantes      -0.0021      0.001     -3.712      0.000      -0.003      -0.001\n",
      "year          -0.0222      0.011     -1.937      0.053      -0.045       0.000\n",
      "==============================================================================\n",
      "        Logit Marginal Effects       \n",
      "=====================================\n",
      "Dep. Variable:                   stem\n",
      "Method:                          dydx\n",
      "At:                           overall\n",
      "==============================================================================\n",
      "                dy/dx    std err          z      P>|z|      [0.025      0.975]\n",
      "------------------------------------------------------------------------------\n",
      "puntaje        0.0003      0.000      1.603      0.109   -7.27e-05       0.001\n",
      "nem           -0.0002      0.000     -1.279      0.201      -0.001       0.000\n",
      "vacantes      -0.0005      0.000     -3.721      0.000      -0.001      -0.000\n",
      "year          -0.0048      0.002     -1.939      0.053      -0.010    5.29e-05\n",
      "==============================================================================\n"
     ]
    }
   ],
   "source": [
    "model = sm.Logit(y, X)\n",
    "logit_model = model.fit()\n",
    "print(logit_model.summary())\n",
    "\n",
    "mfx = logit_model.get_margeff()\n",
    "print(mfx.summary())"
   ]
  },
  {
   "cell_type": "markdown",
   "metadata": {},
   "source": [
    "### Poisson"
   ]
  },
  {
   "cell_type": "code",
   "execution_count": 6,
   "metadata": {},
   "outputs": [
    {
     "data": {
      "text/plain": [
       "0    138\n",
       "1    104\n",
       "3    438\n",
       "4    148\n",
       "5    383\n",
       "Name: ingreso, dtype: int64"
      ]
     },
     "execution_count": 6,
     "metadata": {},
     "output_type": "execute_result"
    },
    {
     "data": {
      "image/png": "[encoded data removed]",
      "text/plain": [
       "<Figure size 640x480 with 1 Axes>"
      ]
     },
     "metadata": {},
     "output_type": "display_data"
    }
   ],
   "source": [
    "subset=cned.loc[cned['ingreso']<500]\n",
    "y=subset['ingreso']\n",
    "X=subset[['puntaje','nem','vacantes','year']]\n",
    "plt.hist(subset.ingreso)\n",
    "subset.ingreso.head()"
   ]
  },
  {
   "cell_type": "code",
   "execution_count": 7,
   "metadata": {},
   "outputs": [
    {
     "name": "stdout",
     "output_type": "stream",
     "text": [
      "                 Generalized Linear Model Regression Results                  \n",
      "==============================================================================\n",
      "Dep. Variable:                ingreso   No. Observations:                 8041\n",
      "Model:                            GLM   Df Residuals:                     8037\n",
      "Model Family:                 Poisson   Df Model:                            3\n",
      "Link Function:                    Log   Scale:                          1.0000\n",
      "Method:                          IRLS   Log-Likelihood:            -2.0395e+05\n",
      "Date:                Mon, 26 Sep 2022   Deviance:                   3.5249e+05\n",
      "Time:                        10:16:58   Pearson chi2:                 3.16e+05\n",
      "No. Iterations:                     6   Pseudo R-squ. (CS):              1.000\n",
      "Covariance Type:            nonrobust                                         \n",
      "==============================================================================\n",
      "                 coef    std err          z      P>|z|      [0.025      0.975]\n",
      "------------------------------------------------------------------------------\n",
      "puntaje        0.0002   3.49e-05      5.285      0.000       0.000       0.000\n",
      "nem            0.0031   3.05e-05    100.611      0.000       0.003       0.003\n",
      "vacantes       0.0111   2.13e-05    518.682      0.000       0.011       0.011\n",
      "year           0.0014      4e-06    348.067      0.000       0.001       0.001\n",
      "==============================================================================\n"
     ]
    }
   ],
   "source": [
    "poisson=sm.GLM(y,X,family=sm.families.Poisson()).fit()\n",
    "print(poisson.summary())"
   ]
  },
  {
   "cell_type": "code",
   "execution_count": 8,
   "metadata": {},
   "outputs": [
    {
     "name": "stdout",
     "output_type": "stream",
     "text": [
      "fitted lambda\n",
      "[208.98645684 203.53777853 438.06479834 ...  81.22697075  96.58979789\n",
      "  95.13085338]\n"
     ]
    }
   ],
   "source": [
    "print(\"fitted lambda\")\n",
    "print(poisson.mu)"
   ]
  },
  {
   "cell_type": "markdown",
   "metadata": {},
   "source": [
    "### Negative Binomial"
   ]
  },
  {
   "cell_type": "code",
   "execution_count": 10,
   "metadata": {},
   "outputs": [
    {
     "name": "stdout",
     "output_type": "stream",
     "text": [
      "                 Generalized Linear Model Regression Results                  \n",
      "==============================================================================\n",
      "Dep. Variable:                ingreso   No. Observations:                 8041\n",
      "Model:                            GLM   Df Residuals:                     8037\n",
      "Model Family:        NegativeBinomial   Df Model:                            3\n",
      "Link Function:                    Log   Scale:                          1.0000\n",
      "Method:                          IRLS   Log-Likelihood:                -49790.\n",
      "Date:                Mon, 26 Sep 2022   Deviance:                       2200.2\n",
      "Time:                        10:49:21   Pearson chi2:                 1.56e+03\n",
      "No. Iterations:                    12   Pseudo R-squ. (CS):             0.2119\n",
      "Covariance Type:            nonrobust                                         \n",
      "==============================================================================\n",
      "                 coef    std err          z      P>|z|      [0.025      0.975]\n",
      "------------------------------------------------------------------------------\n",
      "puntaje        0.0002      0.000      0.355      0.723      -0.001       0.001\n",
      "nem            0.0030      0.000      7.527      0.000       0.002       0.004\n",
      "vacantes       0.0184      0.000     43.479      0.000       0.018       0.019\n",
      "year           0.0012   5.85e-05     20.824      0.000       0.001       0.001\n",
      "==============================================================================\n"
     ]
    }
   ],
   "source": [
    "negbin=sm.GLM(y,X,family=sm.families.NegativeBinomial()).fit()\n",
    "print(negbin.summary())"
   ]
  },
  {
   "cell_type": "code",
   "execution_count": 10,
   "metadata": {},
   "outputs": [
    {
     "name": "stdout",
     "output_type": "stream",
     "text": [
      "fitted lambda\n",
      "[124.73205222 121.41207007 154.07280363 ...  68.35326312  73.99860129\n",
      "  71.20441307]\n"
     ]
    }
   ],
   "source": [
    "print(\"fitted lambda\")\n",
    "print(negbin.mu)"
   ]
  },
  {
   "cell_type": "markdown",
   "metadata": {},
   "source": [
    "### Test overdispersion\n",
    "\n",
    "A simple test for overdispersion can be determined with the results of the Poisson model, using the ratio of Pearson chi2 / Df Residuals. A value larger than 1 indicates overdispersion. In the case above (6), data suggets overdispersion.\n",
    "\n",
    "The Negative Binomial model estimated above is using a value of $\\theta$ (or $\\alpha=1/\\theta$) equal to 1. In order to determine the appropiate value of $\\alpha$, you can estimate a simple regression using the output of the Poisson model:\n",
    "\n",
    "1. Construct the following variable aux=$[(y-\\lambda)^2-\\lambda]/\\lambda$\n",
    "2. Regress the variable aux with $\\lambda$ as the only explanatory variable (no constant)\n",
    "3. The estimated value is an appropiate guess for $\\alpha=1/\\theta$\n",
    "\n",
    "In the model of the previous section, just use the options on sm.families.NegativeBinomial, in order to manually enter the value of alpha. See example below."
   ]
  },
  {
   "cell_type": "code",
   "execution_count": 9,
   "metadata": {},
   "outputs": [
    {
     "name": "stdout",
     "output_type": "stream",
     "text": [
      "                                 OLS Regression Results                                \n",
      "=======================================================================================\n",
      "Dep. Variable:                ingreso   R-squared (uncentered):                   0.396\n",
      "Model:                            OLS   Adj. R-squared (uncentered):              0.396\n",
      "Method:                 Least Squares   F-statistic:                              5275.\n",
      "Date:                Mon, 26 Sep 2022   Prob (F-statistic):                        0.00\n",
      "Time:                        10:17:03   Log-Likelihood:                         -44571.\n",
      "No. Observations:                8041   AIC:                                  8.914e+04\n",
      "Df Residuals:                    8040   BIC:                                  8.915e+04\n",
      "Df Model:                           1                                                  \n",
      "Covariance Type:            nonrobust                                                  \n",
      "==============================================================================\n",
      "                 coef    std err          t      P>|t|      [0.025      0.975]\n",
      "------------------------------------------------------------------------------\n",
      "x1             0.2208      0.003     72.631      0.000       0.215       0.227\n",
      "==============================================================================\n",
      "Omnibus:                    10267.981   Durbin-Watson:                   1.652\n",
      "Prob(Omnibus):                  0.000   Jarque-Bera (JB):          4810468.508\n",
      "Skew:                           6.647   Prob(JB):                         0.00\n",
      "Kurtosis:                     122.084   Cond. No.                         1.00\n",
      "==============================================================================\n",
      "\n",
      "Notes:\n",
      "[1] R² is computed without centering (uncentered) since the model does not contain a constant.\n",
      "[2] Standard Errors assume that the covariance matrix of the errors is correctly specified.\n"
     ]
    }
   ],
   "source": [
    "aux=((y-poisson.mu)**2-poisson.mu)/poisson.mu\n",
    "auxr=sm.OLS(aux,poisson.mu).fit()\n",
    "print(auxr.summary())"
   ]
  },
  {
   "cell_type": "code",
   "execution_count": 29,
   "metadata": {},
   "outputs": [
    {
     "name": "stdout",
     "output_type": "stream",
     "text": [
      "                 Generalized Linear Model Regression Results                  \n",
      "==============================================================================\n",
      "Dep. Variable:                ingreso   No. Observations:                 8041\n",
      "Model:                            GLM   Df Residuals:                     8037\n",
      "Model Family:        NegativeBinomial   Df Model:                            3\n",
      "Link Function:                    Log   Scale:                          1.0000\n",
      "Method:                          IRLS   Log-Likelihood:                -47029.\n",
      "Date:                Thu, 08 Sep 2022   Deviance:                       9596.2\n",
      "Time:                        21:53:44   Pearson chi2:                 6.89e+03\n",
      "No. Iterations:                    13   Pseudo R-squ. (CS):             0.6530\n",
      "Covariance Type:            nonrobust                                         \n",
      "==============================================================================\n",
      "                 coef    std err          z      P>|z|      [0.025      0.975]\n",
      "------------------------------------------------------------------------------\n",
      "puntaje        0.0001      0.000      0.649      0.516      -0.000       0.001\n",
      "nem            0.0030      0.000     15.906      0.000       0.003       0.003\n",
      "vacantes       0.0183      0.000     91.448      0.000       0.018       0.019\n",
      "year           0.0012   2.78e-05     44.007      0.000       0.001       0.001\n",
      "==============================================================================\n"
     ]
    }
   ],
   "source": [
    "negbin=sm.GLM(y,X,family=sm.families.NegativeBinomial(alpha=0.22)).fit()\n",
    "print(negbin.summary())"
   ]
  },
  {
   "cell_type": "markdown",
   "metadata": {},
   "source": [
    "<font size=\"3\">**Tarea 1**</font>\n",
    "\n",
    "<u> *Instrucciones* </u>\n",
    "\n",
    "Los resultados de los ejericicios propuestos se deben entregar como un notebook por correo electronico a *juancaros@udec.cl* a mas tardar el dia 11/04/23 hasta las 21:00. \n",
    "\n",
    "Es importante considerar que el código debe poder ejecutarse en cualquier computadora con la data original del repositorio. Recordar la convencion para el nombre de archivo ademas de incluir en su documento titulos y encabezados por seccion. La data a utilizar es **charls2.csv**.\n",
    "\n",
    "Las variables tienen la siguiente descripcion:\n",
    "\n",
    "- retin: 1 si planea planea retirarse\n",
    "- retage: cuando planea retirarse, medido en años desde la fecha de encuesta (0 implica retirado/a o no planea retirarse)\n",
    "- cesd: puntaje en la escala de salud mental (0-30)\n",
    "- child: numero de hijos\n",
    "- drinly: bebio el ultimo mes (binario)\n",
    "- hrsusu: horas promedio trabajo diario\n",
    "- hsize: tamano del hogar\n",
    "- female: 1 si es mujer, 0 si es hombre\n",
    "- intmonth: mes en que fue encuestado/a (1-12)\n",
    "- married: si esta casado/a (binario)\n",
    "- retired: 1 si esta retirado/a (binario)\n",
    "- schadj: años de escolaridad\n",
    "- urban: zona urbana (binario)\n",
    "- wealth: riqueza neta (miles RMB)\n",
    "- age: edad al entrar a la encuesta\n",
    "\n",
    "\n",
    "Preguntas:\n",
    "\n"
   ]
  },
  {
   "cell_type": "markdown",
   "metadata": {},
   "source": [
    "1. Cargar la base de datos *charls2.csv* en el ambiente. Identifique los tipos de datos que se encuentran en la base, realice estadisticas descriptivas sobre las variables importantes (Hint: Revisar la distribuciones, datos faltantes, outliers, etc.) y limpie las variables cuando sea necesario. \n",
    "\n",
    "**R:**  Se ajusto drinkly como variable numerica y se paso wealth a logs, ademas de agregar una variable que indica cuando wealth no existe, dwealth (se podria haber hecho lo mismo con cesd). En general solo se ven valores extremos en wealth, pero no amerita clasificarlos como outliers."
   ]
  },
  {
   "cell_type": "code",
   "execution_count": 100,
   "metadata": {},
   "outputs": [
    {
     "data": {
      "text/html": [
       "<div>\n",
       "<style scoped>\n",
       "    .dataframe tbody tr th:only-of-type {\n",
       "        vertical-align: middle;\n",
       "    }\n",
       "\n",
       "    .dataframe tbody tr th {\n",
       "        vertical-align: top;\n",
       "    }\n",
       "\n",
       "    .dataframe thead th {\n",
       "        text-align: right;\n",
       "    }\n",
       "</style>\n",
       "<table border=\"1\" class=\"dataframe\">\n",
       "  <thead>\n",
       "    <tr style=\"text-align: right;\">\n",
       "      <th></th>\n",
       "      <th>age</th>\n",
       "      <th>cesd</th>\n",
       "      <th>child</th>\n",
       "      <th>drinkly</th>\n",
       "      <th>female</th>\n",
       "      <th>hrsusu</th>\n",
       "      <th>hsize</th>\n",
       "      <th>intmonth</th>\n",
       "      <th>married</th>\n",
       "      <th>retage</th>\n",
       "      <th>retin</th>\n",
       "      <th>retired</th>\n",
       "      <th>schadj</th>\n",
       "      <th>urban</th>\n",
       "      <th>wealth</th>\n",
       "      <th>dwealth</th>\n",
       "      <th>lwealth</th>\n",
       "    </tr>\n",
       "  </thead>\n",
       "  <tbody>\n",
       "    <tr>\n",
       "      <th>count</th>\n",
       "      <td>9456.000000</td>\n",
       "      <td>8802.000000</td>\n",
       "      <td>9456.000000</td>\n",
       "      <td>9418.000000</td>\n",
       "      <td>9456.000000</td>\n",
       "      <td>9456.000000</td>\n",
       "      <td>9456.000000</td>\n",
       "      <td>9456.000000</td>\n",
       "      <td>9456.000000</td>\n",
       "      <td>9456.000000</td>\n",
       "      <td>9456.000000</td>\n",
       "      <td>9456.000000</td>\n",
       "      <td>9456.000000</td>\n",
       "      <td>9456.000000</td>\n",
       "      <td>8590.000000</td>\n",
       "      <td>9456.000000</td>\n",
       "      <td>9456.000000</td>\n",
       "    </tr>\n",
       "    <tr>\n",
       "      <th>mean</th>\n",
       "      <td>58.087035</td>\n",
       "      <td>9.034992</td>\n",
       "      <td>2.751586</td>\n",
       "      <td>0.334678</td>\n",
       "      <td>0.525275</td>\n",
       "      <td>2.552777</td>\n",
       "      <td>3.758249</td>\n",
       "      <td>7.495347</td>\n",
       "      <td>0.885364</td>\n",
       "      <td>1.390969</td>\n",
       "      <td>0.152602</td>\n",
       "      <td>0.183376</td>\n",
       "      <td>4.100888</td>\n",
       "      <td>0.213832</td>\n",
       "      <td>0.013671</td>\n",
       "      <td>0.091582</td>\n",
       "      <td>2.100429</td>\n",
       "    </tr>\n",
       "    <tr>\n",
       "      <th>std</th>\n",
       "      <td>9.462629</td>\n",
       "      <td>6.462808</td>\n",
       "      <td>1.400139</td>\n",
       "      <td>0.471903</td>\n",
       "      <td>0.499387</td>\n",
       "      <td>1.802885</td>\n",
       "      <td>1.823791</td>\n",
       "      <td>1.009306</td>\n",
       "      <td>0.318599</td>\n",
       "      <td>4.102102</td>\n",
       "      <td>0.359622</td>\n",
       "      <td>0.386995</td>\n",
       "      <td>3.574570</td>\n",
       "      <td>0.410032</td>\n",
       "      <td>0.431023</td>\n",
       "      <td>0.288450</td>\n",
       "      <td>0.671585</td>\n",
       "    </tr>\n",
       "    <tr>\n",
       "      <th>min</th>\n",
       "      <td>21.000000</td>\n",
       "      <td>0.000000</td>\n",
       "      <td>0.000000</td>\n",
       "      <td>0.000000</td>\n",
       "      <td>0.000000</td>\n",
       "      <td>0.000000</td>\n",
       "      <td>1.000000</td>\n",
       "      <td>1.000000</td>\n",
       "      <td>0.000000</td>\n",
       "      <td>0.000000</td>\n",
       "      <td>0.000000</td>\n",
       "      <td>0.000000</td>\n",
       "      <td>0.000000</td>\n",
       "      <td>0.000000</td>\n",
       "      <td>-10.000000</td>\n",
       "      <td>0.000000</td>\n",
       "      <td>-2.302585</td>\n",
       "    </tr>\n",
       "    <tr>\n",
       "      <th>25%</th>\n",
       "      <td>50.000000</td>\n",
       "      <td>4.000000</td>\n",
       "      <td>2.000000</td>\n",
       "      <td>0.000000</td>\n",
       "      <td>0.000000</td>\n",
       "      <td>0.000000</td>\n",
       "      <td>2.000000</td>\n",
       "      <td>7.000000</td>\n",
       "      <td>1.000000</td>\n",
       "      <td>0.000000</td>\n",
       "      <td>0.000000</td>\n",
       "      <td>0.000000</td>\n",
       "      <td>0.000000</td>\n",
       "      <td>0.000000</td>\n",
       "      <td>0.000000</td>\n",
       "      <td>0.000000</td>\n",
       "      <td>2.312535</td>\n",
       "    </tr>\n",
       "    <tr>\n",
       "      <th>50%</th>\n",
       "      <td>57.000000</td>\n",
       "      <td>8.000000</td>\n",
       "      <td>2.000000</td>\n",
       "      <td>0.000000</td>\n",
       "      <td>1.000000</td>\n",
       "      <td>3.555348</td>\n",
       "      <td>3.000000</td>\n",
       "      <td>7.000000</td>\n",
       "      <td>1.000000</td>\n",
       "      <td>0.000000</td>\n",
       "      <td>0.000000</td>\n",
       "      <td>0.000000</td>\n",
       "      <td>4.000000</td>\n",
       "      <td>0.000000</td>\n",
       "      <td>0.004000</td>\n",
       "      <td>0.000000</td>\n",
       "      <td>2.312832</td>\n",
       "    </tr>\n",
       "    <tr>\n",
       "      <th>75%</th>\n",
       "      <td>64.000000</td>\n",
       "      <td>13.000000</td>\n",
       "      <td>3.000000</td>\n",
       "      <td>1.000000</td>\n",
       "      <td>1.000000</td>\n",
       "      <td>4.025352</td>\n",
       "      <td>5.000000</td>\n",
       "      <td>8.000000</td>\n",
       "      <td>1.000000</td>\n",
       "      <td>0.000000</td>\n",
       "      <td>0.000000</td>\n",
       "      <td>0.000000</td>\n",
       "      <td>8.000000</td>\n",
       "      <td>0.000000</td>\n",
       "      <td>0.021875</td>\n",
       "      <td>0.000000</td>\n",
       "      <td>2.314514</td>\n",
       "    </tr>\n",
       "    <tr>\n",
       "      <th>max</th>\n",
       "      <td>100.000000</td>\n",
       "      <td>30.000000</td>\n",
       "      <td>10.000000</td>\n",
       "      <td>1.000000</td>\n",
       "      <td>1.000000</td>\n",
       "      <td>5.123964</td>\n",
       "      <td>16.000000</td>\n",
       "      <td>12.000000</td>\n",
       "      <td>1.000000</td>\n",
       "      <td>37.000000</td>\n",
       "      <td>1.000000</td>\n",
       "      <td>1.000000</td>\n",
       "      <td>16.000000</td>\n",
       "      <td>1.000000</td>\n",
       "      <td>9.001000</td>\n",
       "      <td>1.000000</td>\n",
       "      <td>2.949741</td>\n",
       "    </tr>\n",
       "  </tbody>\n",
       "</table>\n",
       "</div>"
      ],
      "text/plain": [
       "               age         cesd        child      drinkly       female  \\\n",
       "count  9456.000000  8802.000000  9456.000000  9418.000000  9456.000000   \n",
       "mean     58.087035     9.034992     2.751586     0.334678     0.525275   \n",
       "std       9.462629     6.462808     1.400139     0.471903     0.499387   \n",
       "min      21.000000     0.000000     0.000000     0.000000     0.000000   \n",
       "25%      50.000000     4.000000     2.000000     0.000000     0.000000   \n",
       "50%      57.000000     8.000000     2.000000     0.000000     1.000000   \n",
       "75%      64.000000    13.000000     3.000000     1.000000     1.000000   \n",
       "max     100.000000    30.000000    10.000000     1.000000     1.000000   \n",
       "\n",
       "            hrsusu        hsize     intmonth      married       retage  \\\n",
       "count  9456.000000  9456.000000  9456.000000  9456.000000  9456.000000   \n",
       "mean      2.552777     3.758249     7.495347     0.885364     1.390969   \n",
       "std       1.802885     1.823791     1.009306     0.318599     4.102102   \n",
       "min       0.000000     1.000000     1.000000     0.000000     0.000000   \n",
       "25%       0.000000     2.000000     7.000000     1.000000     0.000000   \n",
       "50%       3.555348     3.000000     7.000000     1.000000     0.000000   \n",
       "75%       4.025352     5.000000     8.000000     1.000000     0.000000   \n",
       "max       5.123964    16.000000    12.000000     1.000000    37.000000   \n",
       "\n",
       "             retin      retired       schadj        urban       wealth  \\\n",
       "count  9456.000000  9456.000000  9456.000000  9456.000000  8590.000000   \n",
       "mean      0.152602     0.183376     4.100888     0.213832     0.013671   \n",
       "std       0.359622     0.386995     3.574570     0.410032     0.431023   \n",
       "min       0.000000     0.000000     0.000000     0.000000   -10.000000   \n",
       "25%       0.000000     0.000000     0.000000     0.000000     0.000000   \n",
       "50%       0.000000     0.000000     4.000000     0.000000     0.004000   \n",
       "75%       0.000000     0.000000     8.000000     0.000000     0.021875   \n",
       "max       1.000000     1.000000    16.000000     1.000000     9.001000   \n",
       "\n",
       "           dwealth      lwealth  \n",
       "count  9456.000000  9456.000000  \n",
       "mean      0.091582     2.100429  \n",
       "std       0.288450     0.671585  \n",
       "min       0.000000    -2.302585  \n",
       "25%       0.000000     2.312535  \n",
       "50%       0.000000     2.312832  \n",
       "75%       0.000000     2.314514  \n",
       "max       1.000000     2.949741  "
      ]
     },
     "execution_count": 100,
     "metadata": {},
     "output_type": "execute_result"
    }
   ],
   "source": [
    "charls = pd.read_csv('../data/charls2.csv')\n",
    "charls = charls.replace({'.r': np.nan, '.m': np.nan, '.d': np.nan})\n",
    "charls['drinkly'] = charls['drinkly'].astype(float)\n",
    "charls['wealth']=charls['wealth']/100000\n",
    "charls['dwealth']=0\n",
    "charls.loc[charls['wealth'].isnull(), 'dwealth'] = 1\n",
    "charls['lwealth']=np.log(charls['wealth']-charls['wealth'].min()+0.1)\n",
    "charls.loc[charls['lwealth'].isnull(), 'lwealth'] = 0\n",
    "charls.reset_index(drop=True, inplace=True)\n",
    "charls.describe()"
   ]
  },
  {
   "cell_type": "code",
   "execution_count": 101,
   "metadata": {},
   "outputs": [
    {
     "data": {
      "text/plain": [
       "<Axes: >"
      ]
     },
     "execution_count": 101,
     "metadata": {},
     "output_type": "execute_result"
    },
    {
     "data": {
      "image/png": "[encoded data removed]",
      "text/plain": [
       "<Figure size 640x480 with 1 Axes>"
      ]
     },
     "metadata": {},
     "output_type": "display_data"
    }
   ],
   "source": [
    "sns.boxplot(data=charls, orient='h')"
   ]
  },
  {
   "cell_type": "markdown",
   "metadata": {},
   "source": [
    "\n",
    "2. Ejecute un modelo de probabilidad lineal (*MCO*) que permita explicar la probabilidad de que una persona que aun trabaja quiera retirarse (*retin*). Seleccione las variables dependientes a incluir en el modelo final e interprete su significado. \n",
    "\n",
    "**R:** Se excluye intmonth por ser irrelevante, y se excluyen aquellas observaciones que no tienen valor en wealth (al tratar de agregarlas con una variable dummy dwealth, se encuentra el mismo resultado, por lo cual no aportan al analisis). En vista de lo estimado, Aspectos socioeconomicos y de genero influyen en la probabilidad de querer retirarse (condicional en estar trabajando). Por ejemplo, mujeres tienen 4% menor probabilidad de querer retirarse, y la probabilidad incrementa en 0,78% por año de escolaridad. Otros aspectos demograficos no son relevantes, sin embargo aquellos que declaran beber en el mes pasado tambien son mas probables de querer retirarse (2,3%). "
   ]
  },
  {
   "cell_type": "code",
   "execution_count": 102,
   "metadata": {},
   "outputs": [
    {
     "name": "stdout",
     "output_type": "stream",
     "text": [
      "                            OLS Regression Results                            \n",
      "==============================================================================\n",
      "Dep. Variable:                  retin   R-squared:                       0.019\n",
      "Model:                            OLS   Adj. R-squared:                  0.017\n",
      "Method:                 Least Squares   F-statistic:                     12.25\n",
      "Date:                Mon, 24 Apr 2023   Prob (F-statistic):           3.33e-23\n",
      "Time:                        12:33:26   Log-Likelihood:                -3541.6\n",
      "No. Observations:                7194   AIC:                             7107.\n",
      "Df Residuals:                    7182   BIC:                             7190.\n",
      "Df Model:                          11                                         \n",
      "Covariance Type:                  HC0                                         \n",
      "==============================================================================\n",
      "                 coef    std err          z      P>|z|      [0.025      0.975]\n",
      "------------------------------------------------------------------------------\n",
      "const          0.1719      0.052      3.274      0.001       0.069       0.275\n",
      "age           -0.0006      0.001     -0.963      0.336      -0.002       0.001\n",
      "cesd          -0.0010      0.001     -1.420      0.156      -0.002       0.000\n",
      "child         -0.0064      0.004     -1.652      0.099      -0.014       0.001\n",
      "drinkly        0.0232      0.012      2.008      0.045       0.001       0.046\n",
      "female        -0.0386      0.012     -3.293      0.001      -0.062      -0.016\n",
      "hsize          0.0014      0.003      0.556      0.578      -0.004       0.007\n",
      "married        0.0117      0.016      0.720      0.471      -0.020       0.044\n",
      "hrsusu         0.0097      0.003      3.237      0.001       0.004       0.016\n",
      "schadj         0.0078      0.002      4.995      0.000       0.005       0.011\n",
      "urban          0.0065      0.012      0.551      0.581      -0.017       0.030\n",
      "lwealth        0.0095      0.007      1.366      0.172      -0.004       0.023\n",
      "==============================================================================\n",
      "Omnibus:                     1470.173   Durbin-Watson:                   1.489\n",
      "Prob(Omnibus):                  0.000   Jarque-Bera (JB):             2587.357\n",
      "Skew:                           1.463   Prob(JB):                         0.00\n",
      "Kurtosis:                       3.256   Cond. No.                         672.\n",
      "==============================================================================\n",
      "\n",
      "Notes:\n",
      "[1] Standard Errors are heteroscedasticity robust (HC0)\n"
     ]
    }
   ],
   "source": [
    "charls.reset_index(drop=True, inplace=True)\n",
    "X=charls[charls['retired'] == 0].reset_index(drop=True)\n",
    "X=X[['retin','age', 'cesd', 'child', 'drinkly', 'female', 'hsize','married', 'hrsusu', 'schadj', 'urban','lwealth']]\n",
    "X.dropna(inplace=True)\n",
    "y=X['retin']\n",
    "X=X[['age', 'cesd', 'child', 'drinkly', 'female', 'hsize','married', 'hrsusu', 'schadj', 'urban','lwealth']]\n",
    "X=sm.add_constant(X)\n",
    "model = sm.OLS(y, X)\n",
    "results = model.fit(cov_type='HC0')\n",
    "print(results.summary())"
   ]
  },
  {
   "cell_type": "markdown",
   "metadata": {},
   "source": [
    "3. Ejecute un modelo *probit* para responder a la pregunta 2. Seleccione las variables dependientes a incluir en el modelo final e interprete su significado. \n",
    "\n",
    "**R:** Notar que los resultados son bastante similares a OLS, aunque la precision en algunas variables es menor, como drinkly. Al mirar los efectos marginales, los resultados son arbitrariamente identicos."
   ]
  },
  {
   "cell_type": "code",
   "execution_count": 82,
   "metadata": {},
   "outputs": [
    {
     "name": "stdout",
     "output_type": "stream",
     "text": [
      "Optimization terminated successfully.\n",
      "         Current function value: 0.490314\n",
      "         Iterations 6\n",
      "                           Logit Regression Results                           \n",
      "==============================================================================\n",
      "Dep. Variable:                  retin   No. Observations:                 7194\n",
      "Model:                          Logit   Df Residuals:                     7182\n",
      "Method:                           MLE   Df Model:                           11\n",
      "Date:                Mon, 24 Apr 2023   Pseudo R-squ.:                 0.01872\n",
      "Time:                        12:22:13   Log-Likelihood:                -3527.3\n",
      "converged:                       True   LL-Null:                       -3594.6\n",
      "Covariance Type:                  HC0   LLR p-value:                 2.027e-23\n",
      "==============================================================================\n",
      "                 coef    std err          z      P>|z|      [0.025      0.975]\n",
      "------------------------------------------------------------------------------\n",
      "const         -1.5935      0.346     -4.604      0.000      -2.272      -0.915\n",
      "age           -0.0044      0.004     -1.001      0.317      -0.013       0.004\n",
      "cesd          -0.0068      0.005     -1.363      0.173      -0.016       0.003\n",
      "child         -0.0452      0.027     -1.702      0.089      -0.097       0.007\n",
      "drinkly        0.1369      0.070      1.954      0.051      -0.000       0.274\n",
      "female        -0.2539      0.075     -3.391      0.001      -0.401      -0.107\n",
      "hsize          0.0096      0.017      0.567      0.571      -0.024       0.043\n",
      "married        0.0961      0.119      0.809      0.418      -0.137       0.329\n",
      "hrsusu         0.0670      0.021      3.129      0.002       0.025       0.109\n",
      "schadj         0.0473      0.009      5.034      0.000       0.029       0.066\n",
      "urban          0.0393      0.073      0.535      0.592      -0.105       0.183\n",
      "lwealth        0.0629      0.047      1.339      0.180      -0.029       0.155\n",
      "==============================================================================\n",
      "        Logit Marginal Effects       \n",
      "=====================================\n",
      "Dep. Variable:                  retin\n",
      "Method:                          dydx\n",
      "At:                           overall\n",
      "==============================================================================\n",
      "                dy/dx    std err          z      P>|z|      [0.025      0.975]\n",
      "------------------------------------------------------------------------------\n",
      "age           -0.0007      0.001     -1.001      0.317      -0.002       0.001\n",
      "cesd          -0.0011      0.001     -1.363      0.173      -0.003       0.000\n",
      "child         -0.0071      0.004     -1.703      0.089      -0.015       0.001\n",
      "drinkly        0.0214      0.011      1.955      0.051    -5.2e-05       0.043\n",
      "female        -0.0398      0.012     -3.394      0.001      -0.063      -0.017\n",
      "hsize          0.0015      0.003      0.567      0.571      -0.004       0.007\n",
      "married        0.0151      0.019      0.809      0.418      -0.021       0.052\n",
      "hrsusu         0.0105      0.003      3.131      0.002       0.004       0.017\n",
      "schadj         0.0074      0.001      5.062      0.000       0.005       0.010\n",
      "urban          0.0062      0.011      0.535      0.592      -0.016       0.029\n",
      "lwealth        0.0099      0.007      1.339      0.181      -0.005       0.024\n",
      "==============================================================================\n"
     ]
    }
   ],
   "source": [
    "model = sm.Logit(y, X)\n",
    "results = model.fit(cov_type='HC0')\n",
    "print(results.summary())\n",
    "mfx = results.get_margeff()\n",
    "print(mfx.summary())"
   ]
  },
  {
   "cell_type": "markdown",
   "metadata": {},
   "source": [
    "4. Ejecute un modelo *logit*  para responder a la pregunta 2. Seleccione las variables dependientes a incluir en el modelo final e interprete su significado. \n",
    "\n",
    "**R:** Nuevamente hay diferencias numericas minimas entre cada modelo, pero los resultados son virtualmente identicos entre LPM, Probit y Logit."
   ]
  },
  {
   "cell_type": "code",
   "execution_count": 103,
   "metadata": {},
   "outputs": [
    {
     "name": "stdout",
     "output_type": "stream",
     "text": [
      "Optimization terminated successfully.\n",
      "         Current function value: 0.490366\n",
      "         Iterations 5\n",
      "                          Probit Regression Results                           \n",
      "==============================================================================\n",
      "Dep. Variable:                  retin   No. Observations:                 7194\n",
      "Model:                         Probit   Df Residuals:                     7182\n",
      "Method:                           MLE   Df Model:                           11\n",
      "Date:                Mon, 24 Apr 2023   Pseudo R-squ.:                 0.01862\n",
      "Time:                        12:33:51   Log-Likelihood:                -3527.7\n",
      "converged:                       True   LL-Null:                       -3594.6\n",
      "Covariance Type:                  HC0   LLR p-value:                 2.886e-23\n",
      "==============================================================================\n",
      "                 coef    std err          z      P>|z|      [0.025      0.975]\n",
      "------------------------------------------------------------------------------\n",
      "const         -0.9547      0.196     -4.880      0.000      -1.338      -0.571\n",
      "age           -0.0026      0.002     -1.056      0.291      -0.008       0.002\n",
      "cesd          -0.0037      0.003     -1.310      0.190      -0.009       0.002\n",
      "child         -0.0245      0.015     -1.633      0.103      -0.054       0.005\n",
      "drinkly        0.0796      0.040      1.985      0.047       0.001       0.158\n",
      "female        -0.1454      0.042     -3.426      0.001      -0.229      -0.062\n",
      "hsize          0.0049      0.010      0.504      0.614      -0.014       0.024\n",
      "married        0.0529      0.066      0.802      0.423      -0.076       0.182\n",
      "hrsusu         0.0383      0.012      3.167      0.002       0.015       0.062\n",
      "schadj         0.0266      0.005      4.927      0.000       0.016       0.037\n",
      "urban          0.0195      0.042      0.461      0.645      -0.063       0.102\n",
      "lwealth        0.0389      0.027      1.459      0.145      -0.013       0.091\n",
      "==============================================================================\n",
      "       Probit Marginal Effects       \n",
      "=====================================\n",
      "Dep. Variable:                  retin\n",
      "Method:                          dydx\n",
      "At:                           overall\n",
      "==============================================================================\n",
      "                dy/dx    std err          z      P>|z|      [0.025      0.975]\n",
      "------------------------------------------------------------------------------\n",
      "age           -0.0007      0.001     -1.057      0.291      -0.002       0.001\n",
      "cesd          -0.0010      0.001     -1.310      0.190      -0.003       0.001\n",
      "child         -0.0067      0.004     -1.633      0.102      -0.015       0.001\n",
      "drinkly        0.0218      0.011      1.986      0.047       0.000       0.043\n",
      "female        -0.0399      0.012     -3.430      0.001      -0.063      -0.017\n",
      "hsize          0.0013      0.003      0.504      0.614      -0.004       0.007\n",
      "married        0.0145      0.018      0.802      0.423      -0.021       0.050\n",
      "hrsusu         0.0105      0.003      3.170      0.002       0.004       0.017\n",
      "schadj         0.0073      0.001      4.948      0.000       0.004       0.010\n",
      "urban          0.0053      0.012      0.461      0.645      -0.017       0.028\n",
      "lwealth        0.0107      0.007      1.459      0.145      -0.004       0.025\n",
      "==============================================================================\n"
     ]
    }
   ],
   "source": [
    "model = sm.Probit(y, X)\n",
    "results = model.fit(cov_type='HC0')\n",
    "print(results.summary())\n",
    "mfx = results.get_margeff()\n",
    "print(mfx.summary())"
   ]
  },
  {
   "cell_type": "markdown",
   "metadata": {},
   "source": [
    "5. Comente los resultados obtenidos en 2, 3 y 4. ¿Cuáles y por qué existen las diferencias entre los resultados?. En su opinión, ¿Cuál sería el más adecuado para responder la pregunta de investgación y por qué? ¿Qué variables resultaron ser robustas a la especificación?\n",
    "\n",
    "**R**: Ante las minimas diferencias entre los distintos metodos, no hay preferencia entre Probit y Logit, pero LPM es inferior dado que producira predicciones fuera del intervalo de interes. En cualquier caso, dado que el modelo no es causal, podemos inferir que el set de variables disponibles explica una fraccion muy menor de la intencion de retirarse, y en virtud de aquello, las predicciones del modelo seran poco confiables."
   ]
  },
  {
   "cell_type": "markdown",
   "metadata": {},
   "source": [
    "6. Ejecute un modelo Poisson para explicar cuando planea retirarse las personas que planean hacerlo. Seleccione las variables dependientes a incluir en el modelo final e interprete su significado. \n",
    "\n",
    "**R**: Nos quedamos solo con aquellos que desean retirarse (retin=1), y luego usamos el mismo set de datos de las preguntas anteriores. A diferencia de la probabilidad de querer retirarse, multiples factores tienen impacto en la edad esperada de retiro, algunos obvios como edad y caracteristicas laborales, y otros menos obvios como la zona urbana y tamano del hogar. Por ejemplo, la edad esperada de retiro (en años) se reduce en 0.17 (años) si las personas viven en zona rural, y disminuye 0.05 anios por cada anio que el individuo es mayor (que el promedio)."
   ]
  },
  {
   "cell_type": "code",
   "execution_count": 110,
   "metadata": {},
   "outputs": [
    {
     "data": {
      "text/plain": [
       "count    1435.000000\n",
       "mean        9.108711\n",
       "std         6.325825\n",
       "min         1.000000\n",
       "25%         4.000000\n",
       "50%         8.000000\n",
       "75%        13.000000\n",
       "max        37.000000\n",
       "Name: retage, dtype: float64"
      ]
     },
     "execution_count": 110,
     "metadata": {},
     "output_type": "execute_result"
    },
    {
     "data": {
      "image/png": "[encoded data removed]",
      "text/plain": [
       "<Figure size 640x480 with 1 Axes>"
      ]
     },
     "metadata": {},
     "output_type": "display_data"
    }
   ],
   "source": [
    "charls.reset_index(drop=True, inplace=True)\n",
    "X=charls[charls['retired'] == 0].reset_index(drop=True)\n",
    "X=charls[charls['retin'] != 0].reset_index(drop=True)\n",
    "X=X[['retage','age', 'cesd', 'child', 'drinkly', 'female', 'hsize','married', 'hrsusu', 'schadj', 'urban','lwealth']]\n",
    "X.dropna(inplace=True)\n",
    "y=X['retage']\n",
    "X=X[['age', 'cesd', 'child', 'drinkly', 'female', 'hsize','married', 'hrsusu', 'schadj', 'urban','lwealth']]\n",
    "X=sm.add_constant(X)\n",
    "plt.hist(y)\n",
    "y.describe()"
   ]
  },
  {
   "cell_type": "code",
   "execution_count": 107,
   "metadata": {},
   "outputs": [
    {
     "name": "stdout",
     "output_type": "stream",
     "text": [
      "                 Generalized Linear Model Regression Results                  \n",
      "==============================================================================\n",
      "Dep. Variable:                 retage   No. Observations:                 1435\n",
      "Model:                            GLM   Df Residuals:                     1423\n",
      "Model Family:                 Poisson   Df Model:                           11\n",
      "Link Function:                    Log   Scale:                          1.0000\n",
      "Method:                          IRLS   Log-Likelihood:                -4816.1\n",
      "Date:                Mon, 24 Apr 2023   Deviance:                       4188.1\n",
      "Time:                        13:50:19   Pearson chi2:                 4.22e+03\n",
      "No. Iterations:                     5   Pseudo R-squ. (CS):             0.7425\n",
      "Covariance Type:            nonrobust                                         \n",
      "==============================================================================\n",
      "                 coef    std err          z      P>|z|      [0.025      0.975]\n",
      "------------------------------------------------------------------------------\n",
      "const          4.9125      0.102     48.327      0.000       4.713       5.112\n",
      "age           -0.0503      0.001    -36.603      0.000      -0.053      -0.048\n",
      "cesd          -0.0029      0.002     -1.854      0.064      -0.006       0.000\n",
      "child          0.0123      0.009      1.398      0.162      -0.005       0.030\n",
      "drinkly        0.0528      0.020      2.626      0.009       0.013       0.092\n",
      "female         0.0296      0.022      1.357      0.175      -0.013       0.072\n",
      "hsize          0.0164      0.005      3.074      0.002       0.006       0.027\n",
      "married       -0.0332      0.040     -0.830      0.407      -0.112       0.045\n",
      "hrsusu         0.0186      0.007      2.610      0.009       0.005       0.032\n",
      "schadj        -0.0028      0.003     -1.059      0.290      -0.008       0.002\n",
      "urban         -0.1706      0.023     -7.576      0.000      -0.215      -0.126\n",
      "lwealth       -0.0284      0.014     -2.082      0.037      -0.055      -0.002\n",
      "==============================================================================\n"
     ]
    }
   ],
   "source": [
    "poisson=sm.GLM(y,X,family=sm.families.Poisson()).fit()\n",
    "print(poisson.summary())"
   ]
  },
  {
   "cell_type": "markdown",
   "metadata": {},
   "source": [
    "7. Determine sobre dispersion y posible valor optimo de alpha para un modelo Binomial Negativa.\n",
    "\n",
    "**R**: En virtud de los resultados, podemos ver que existe cierta evidencia de sobredispersion (Pearson Chi2 sobre los Df residuos da un valor de 2.96). Al correr el test de sobredispersion vemos que el valor es estadisticamente distinto de 1, confirmando lo anterior."
   ]
  },
  {
   "cell_type": "code",
   "execution_count": 112,
   "metadata": {},
   "outputs": [
    {
     "name": "stdout",
     "output_type": "stream",
     "text": [
      "                                 OLS Regression Results                                \n",
      "=======================================================================================\n",
      "Dep. Variable:                 retage   R-squared (uncentered):                   0.127\n",
      "Model:                            OLS   Adj. R-squared (uncentered):              0.126\n",
      "Method:                 Least Squares   F-statistic:                              208.8\n",
      "Date:                Mon, 24 Apr 2023   Prob (F-statistic):                    2.76e-44\n",
      "Time:                        14:01:56   Log-Likelihood:                         -4375.3\n",
      "No. Observations:                1435   AIC:                                      8753.\n",
      "Df Residuals:                    1434   BIC:                                      8758.\n",
      "Df Model:                           1                                                  \n",
      "Covariance Type:            nonrobust                                                  \n",
      "==============================================================================\n",
      "                 coef    std err          t      P>|t|      [0.025      0.975]\n",
      "------------------------------------------------------------------------------\n",
      "x1             0.1995      0.014     14.450      0.000       0.172       0.227\n",
      "==============================================================================\n",
      "Omnibus:                     1335.800   Durbin-Watson:                   1.762\n",
      "Prob(Omnibus):                  0.000   Jarque-Bera (JB):            52368.658\n",
      "Skew:                           4.355   Prob(JB):                         0.00\n",
      "Kurtosis:                      31.284   Cond. No.                         1.00\n",
      "==============================================================================\n",
      "\n",
      "Notes:\n",
      "[1] R² is computed without centering (uncentered) since the model does not contain a constant.\n",
      "[2] Standard Errors assume that the covariance matrix of the errors is correctly specified.\n"
     ]
    }
   ],
   "source": [
    "aux=((y-poisson.mu)**2-poisson.mu)/poisson.mu\n",
    "auxr=sm.OLS(aux,poisson.mu).fit()\n",
    "print(auxr.summary())"
   ]
  },
  {
   "cell_type": "markdown",
   "metadata": {},
   "source": [
    "8. Usando la informacion anterior, ejecute un modelo Binomial Negativa para explicar cuando las personas desean retirarse, de querer hacerlo. Seleccione las variables dependientes a incluir en el modelo final e interprete su significado. \n",
    "\n",
    "**R**: El modelo de Binomial Negativa entrega resultados en general muy similares a Poisson, sin embargo hay diferencias significativas en algunas variables como (log) wealth, drinkly y hrsusu. Dados los resultados, se observa que las variables demograficas son aquellas que influencian la decision de edad de retiro."
   ]
  },
  {
   "cell_type": "code",
   "execution_count": 113,
   "metadata": {},
   "outputs": [
    {
     "name": "stdout",
     "output_type": "stream",
     "text": [
      "                 Generalized Linear Model Regression Results                  \n",
      "==============================================================================\n",
      "Dep. Variable:                 retage   No. Observations:                 1435\n",
      "Model:                            GLM   Df Residuals:                     1423\n",
      "Model Family:        NegativeBinomial   Df Model:                           11\n",
      "Link Function:                    Log   Scale:                          1.0000\n",
      "Method:                          IRLS   Log-Likelihood:                -4206.9\n",
      "Date:                Mon, 24 Apr 2023   Deviance:                       1590.6\n",
      "Time:                        14:02:13   Pearson chi2:                 1.53e+03\n",
      "No. Iterations:                     6   Pseudo R-squ. (CS):             0.3977\n",
      "Covariance Type:            nonrobust                                         \n",
      "==============================================================================\n",
      "                 coef    std err          z      P>|z|      [0.025      0.975]\n",
      "------------------------------------------------------------------------------\n",
      "const          5.0289      0.173     29.065      0.000       4.690       5.368\n",
      "age           -0.0513      0.002    -22.465      0.000      -0.056      -0.047\n",
      "cesd          -0.0039      0.003     -1.467      0.142      -0.009       0.001\n",
      "child          0.0042      0.014      0.289      0.773      -0.024       0.032\n",
      "drinkly        0.0619      0.034      1.811      0.070      -0.005       0.129\n",
      "female         0.0244      0.037      0.656      0.512      -0.048       0.097\n",
      "hsize          0.0224      0.009      2.533      0.011       0.005       0.040\n",
      "married       -0.0655      0.064     -1.028      0.304      -0.190       0.059\n",
      "hrsusu         0.0152      0.012      1.268      0.205      -0.008       0.039\n",
      "schadj        -0.0043      0.005     -0.949      0.343      -0.013       0.005\n",
      "urban         -0.1643      0.038     -4.357      0.000      -0.238      -0.090\n",
      "lwealth       -0.0324      0.024     -1.350      0.177      -0.079       0.015\n",
      "==============================================================================\n"
     ]
    }
   ],
   "source": [
    "negbin=sm.GLM(y,X,family=sm.families.NegativeBinomial(alpha=0.2)).fit()\n",
    "print(negbin.summary())"
   ]
  },
  {
   "cell_type": "markdown",
   "metadata": {},
   "source": [
    "9. Comente los resultados obtenidos en 6, 7 y 8. ¿Cuáles y por qué existen las diferencias entre los resultados?. En su opinión, ¿Cuál sería el más adecuado para responder la pregunta de investgación y por qué? ¿Qué variables resultaron ser robustas a la especificación?\n",
    "\n",
    "**R**: Dada la sobredispersion, los modelos Poisson y Binomial Negativa producen diferencias importantes, afectando la significancia de algunos parametros. En virtud de aquello, se favorece la Binomial Negativa, ya que el supuesto de media igual a a varianza no se cumpliria. En cualquier caso, las variables de edad, tamano de hogar y zona urbana son robustas a la especificacion (significativas en ambos modelos). "
   ]
  },
  {
   "cell_type": "markdown",
   "metadata": {},
   "source": [
    "<font size=\"3\">**Tarea 1 2024 (Pauta)**</font>\n",
    "\n",
    "<u> *Instrucciones* </u>\n",
    "\n",
    "Es importante considerar que el código debe poder ejecutarse en cualquier computadora con la data original del repositorio. Recordar la convencion para el nombre de archivo ademas de incluir en su documento titulos y encabezados por seccion. La data a utilizar es **disease.csv**.\n",
    "\n",
    "Las variables tienen la siguiente descripcion:\n",
    "\n",
    "Glucose: This is the level of glucose in the blood, measured in milligrams per deciliter (mg/dL)\n",
    "\n",
    "Cholesterol: This is the level of cholesterol in the blood, measured in milligrams per deciliter (mg/dL)\n",
    "\n",
    "Hemoglobin: This is the protein in red blood cells that carries oxygen from the lungs to the rest of the body\n",
    "\n",
    "Platelets: Platelets are blood cells that help with clotting\n",
    "\n",
    "White Blood Cells (WBC): These are cells of the immune system that help fight infections\n",
    "\n",
    "Red Blood Cells (RBC): These are the cells that carry oxygen from the lungs to the rest of the body\n",
    "\n",
    "Hematocrit: This is the percentage of blood volume that is occupied by red blood cells\n",
    "\n",
    "Mean Corpuscular Volume (MCV): This is the average volume of red blood cells\n",
    "\n",
    "Mean Corpuscular Hemoglobin (MCH): This is the average amount of hemoglobin in a red blood cell\n",
    "\n",
    "Insulin: This is a hormone that helps regulate blood sugar levels\n",
    "\n",
    "BMI (Body Mass Index): This is a measure of body fat based on height and weight\n",
    "\n",
    "Systolic Blood Pressure (SBP): This is the pressure in the arteries when the heart beats\n",
    "\n",
    "Diastolic Blood Pressure (BP): This is the pressure in the arteries when the heart is at rest between beats\n",
    "\n",
    "Triglycerides: These are a type of fat found in the blood, measured in milligrams per deciliter (mg/dL)\n",
    "\n",
    "HbA1c (Glycated Hemoglobin): This is a measure of average blood sugar levels over the past two to three months\n",
    "\n",
    "LDL (Low-Density Lipoprotein) Cholesterol: This is the \"bad\" cholesterol that can build up in the arteries\n",
    "\n",
    "HDL (High-Density Lipoprotein) Cholesterol: This is the \"good\" cholesterol that helps remove LDL cholesterol from the arteries\n",
    "\n",
    "Heart Rate: This is the number of heartbeats per minute (bpm)\n",
    "\n",
    "Creatinine: This is a waste product produced by muscles and filtered out of the blood by the kidneys\n",
    "\n",
    "C-reactive Protein (CRP): This is a marker of inflammation in the body\n",
    "\n",
    "Disease: This indicates the number of diseases (0 indicates healthy)"
   ]
  },
  {
   "cell_type": "markdown",
   "metadata": {},
   "source": [
    "Preguntas:\n",
    "\n",
    "1. Cargar la base de datos *disease.csv* en el ambiente. Identifique los tipos de datos que se encuentran en la base, realice estadisticas descriptivas sobre las variables importantes (Hint: Revisar la distribuciones, datos faltantes, outliers, etc.) y limpie las variables cuando sea necesario.\n",
    "\n",
    "**R**: En este caso particular solo era necesario generar una variable binaria a partir de *Disease*, mientras que la matriz de correlaciones permite analizar que variables podrian excluirse del modelo."
   ]
  },
  {
   "cell_type": "code",
   "execution_count": null,
   "metadata": {},
   "outputs": [
    {
     "data": {
      "application/vnd.microsoft.datawrangler.viewer.v0+json": {
       "columns": [
        {
         "name": "index",
         "rawType": "object",
         "type": "string"
        },
        {
         "name": "Glucose",
         "rawType": "float64",
         "type": "float"
        },
        {
         "name": "Cholesterol",
         "rawType": "float64",
         "type": "float"
        },
        {
         "name": "Hemoglobin",
         "rawType": "float64",
         "type": "float"
        },
        {
         "name": "Platelets",
         "rawType": "float64",
         "type": "float"
        },
        {
         "name": "White Blood Cells",
         "rawType": "float64",
         "type": "float"
        },
        {
         "name": "Red Blood Cells",
         "rawType": "float64",
         "type": "float"
        },
        {
         "name": "Hematocrit",
         "rawType": "float64",
         "type": "float"
        },
        {
         "name": "MCV",
         "rawType": "float64",
         "type": "float"
        },
        {
         "name": "MCH",
         "rawType": "float64",
         "type": "float"
        },
        {
         "name": "Insulin",
         "rawType": "float64",
         "type": "float"
        },
        {
         "name": "BMI",
         "rawType": "float64",
         "type": "float"
        },
        {
         "name": "Systolic Blood Pressure",
         "rawType": "float64",
         "type": "float"
        },
        {
         "name": "BP",
         "rawType": "float64",
         "type": "float"
        },
        {
         "name": "Triglycerides",
         "rawType": "float64",
         "type": "float"
        },
        {
         "name": "HbA1c",
         "rawType": "float64",
         "type": "float"
        },
        {
         "name": "LDL Chol",
         "rawType": "float64",
         "type": "float"
        },
        {
         "name": "HDL Chol",
         "rawType": "float64",
         "type": "float"
        },
        {
         "name": "Heart Rate",
         "rawType": "float64",
         "type": "float"
        },
        {
         "name": "Creatinine",
         "rawType": "float64",
         "type": "float"
        },
        {
         "name": "C-reactive Protein",
         "rawType": "float64",
         "type": "float"
        },
        {
         "name": "Disease",
         "rawType": "float64",
         "type": "float"
        },
        {
         "name": "dd",
         "rawType": "float64",
         "type": "float"
        }
       ],
       "conversionMethod": "pd.DataFrame",
       "ref": "a134977e-82e9-4b64-992d-342bdb11d190",
       "rows": [
        [
         "count",
         "2351.0",
         "2351.0",
         "2351.0",
         "2351.0",
         "2351.0",
         "2351.0",
         "2351.0",
         "2351.0",
         "2351.0",
         "2351.0",
         "2351.0",
         "2351.0",
         "2351.0",
         "2351.0",
         "2351.0",
         "2351.0",
         "2351.0",
         "2351.0",
         "2351.0",
         "2351.0",
         "2351.0",
         "2351.0"
        ],
        [
         "mean",
         "0.3628277316444067",
         "0.3936481181616333",
         "0.5861895365954912",
         "0.5040269813755849",
         "0.5110861761246279",
         "0.5065896643781369",
         "0.5071523494223734",
         "0.49220045801105916",
         "0.48445894177243726",
         "0.44706244561718417",
         "0.43667910959123774",
         "0.3812113590510421",
         "0.42170845328413437",
         "0.37437285769544876",
         "0.4391118338945129",
         "0.42177713455423227",
         "0.5460788392058699",
         "0.5822551373449596",
         "0.42507455662101234",
         "0.4303077941578052",
         "1.5831561037856232",
         "0.7635048915355168"
        ],
        [
         "std",
         "0.25188912833395066",
         "0.2394494458717594",
         "0.27149799174013833",
         "0.3033466696034973",
         "0.27726979780184435",
         "0.26656471983106794",
         "0.2855373948783104",
         "0.2757351238855925",
         "0.31561805522236763",
         "0.24286103248429122",
         "0.2428654872177035",
         "0.23278487081923707",
         "0.24876821379877925",
         "0.25698056706655087",
         "0.2637794006539903",
         "0.2521236730589504",
         "0.2695105303750008",
         "0.25091539837159915",
         "0.22929821062168512",
         "0.24303377679193752",
         "1.209799171255368",
         "0.42502000938816753"
        ],
        [
         "min",
         "0.010993928",
         "0.012139386",
         "0.003021347",
         "0.012593787",
         "0.010138508",
         "0.044565078",
         "0.011771723",
         "0.046941527",
         "0.000553627",
         "0.034129122",
         "0.014595608",
         "0.005988262",
         "0.005578648",
         "0.00521692",
         "0.01625564",
         "0.033037314",
         "0.039505311",
         "0.114550348",
         "0.021239415",
         "0.004867322",
         "0.0",
         "0.0"
        ],
        [
         "25%",
         "0.1291977865",
         "0.195817742",
         "0.3460916545",
         "0.200864919",
         "0.259467107",
         "0.263588938",
         "0.288132085",
         "0.287531761",
         "0.207938382",
         "0.219111116",
         "0.246885489",
         "0.179950841",
         "0.175469125",
         "0.184604276",
         "0.18875007",
         "0.217756967",
         "0.307131896",
         "0.339124698",
         "0.21302641",
         "0.196192403",
         "1.0",
         "1.0"
        ],
        [
         "50%",
         "0.351722183",
         "0.397082597",
         "0.609835989",
         "0.533962383",
         "0.527381352",
         "0.467430932",
         "0.493427618",
         "0.453051972",
         "0.420723118",
         "0.444806014",
         "0.443724771",
         "0.359064087",
         "0.474378211",
         "0.317856634",
         "0.466375172",
         "0.413071117",
         "0.512940563",
         "0.610860336",
         "0.417294725",
         "0.481600872",
         "1.0",
         "1.0"
        ],
        [
         "75%",
         "0.582277746",
         "0.58217786",
         "0.791215479",
         "0.754841064",
         "0.74316413",
         "0.743670141",
         "0.753657237",
         "0.722293206",
         "0.778160262",
         "0.654440623",
         "0.601662335",
         "0.580902575",
         "0.663382492",
         "0.57233026",
         "0.652513614",
         "0.604752717",
         "0.77937823",
         "0.800665778",
         "0.606718792",
         "0.631425586",
         "3.0",
         "1.0"
        ],
        [
         "max",
         "0.968460209",
         "0.905026423",
         "0.983305786",
         "0.99939313",
         "0.990785703",
         "1.0",
         "0.977520304",
         "0.995262949",
         "0.963234773",
         "0.966783624",
         "0.89820995",
         "0.829099634",
         "0.934617481",
         "0.973679405",
         "0.95021811",
         "0.983826476",
         "0.989411294",
         "0.996872806",
         "0.925924262",
         "0.797905872",
         "4.0",
         "1.0"
        ]
       ],
       "shape": {
        "columns": 22,
        "rows": 8
       }
      },
      "text/html": [
       "<div>\n",
       "<style scoped>\n",
       "    .dataframe tbody tr th:only-of-type {\n",
       "        vertical-align: middle;\n",
       "    }\n",
       "\n",
       "    .dataframe tbody tr th {\n",
       "        vertical-align: top;\n",
       "    }\n",
       "\n",
       "    .dataframe thead th {\n",
       "        text-align: right;\n",
       "    }\n",
       "</style>\n",
       "<table border=\"1\" class=\"dataframe\">\n",
       "  <thead>\n",
       "    <tr style=\"text-align: right;\">\n",
       "      <th></th>\n",
       "      <th>Glucose</th>\n",
       "      <th>Cholesterol</th>\n",
       "      <th>Hemoglobin</th>\n",
       "      <th>Platelets</th>\n",
       "      <th>White Blood Cells</th>\n",
       "      <th>Red Blood Cells</th>\n",
       "      <th>Hematocrit</th>\n",
       "      <th>MCV</th>\n",
       "      <th>MCH</th>\n",
       "      <th>Insulin</th>\n",
       "      <th>...</th>\n",
       "      <th>BP</th>\n",
       "      <th>Triglycerides</th>\n",
       "      <th>HbA1c</th>\n",
       "      <th>LDL Chol</th>\n",
       "      <th>HDL Chol</th>\n",
       "      <th>Heart Rate</th>\n",
       "      <th>Creatinine</th>\n",
       "      <th>C-reactive Protein</th>\n",
       "      <th>Disease</th>\n",
       "      <th>dd</th>\n",
       "    </tr>\n",
       "  </thead>\n",
       "  <tbody>\n",
       "    <tr>\n",
       "      <th>count</th>\n",
       "      <td>2351.000000</td>\n",
       "      <td>2351.000000</td>\n",
       "      <td>2351.000000</td>\n",
       "      <td>2351.000000</td>\n",
       "      <td>2351.000000</td>\n",
       "      <td>2351.000000</td>\n",
       "      <td>2351.000000</td>\n",
       "      <td>2351.000000</td>\n",
       "      <td>2351.000000</td>\n",
       "      <td>2351.000000</td>\n",
       "      <td>...</td>\n",
       "      <td>2351.000000</td>\n",
       "      <td>2351.000000</td>\n",
       "      <td>2351.000000</td>\n",
       "      <td>2351.000000</td>\n",
       "      <td>2351.000000</td>\n",
       "      <td>2351.000000</td>\n",
       "      <td>2351.000000</td>\n",
       "      <td>2351.000000</td>\n",
       "      <td>2351.000000</td>\n",
       "      <td>2351.000000</td>\n",
       "    </tr>\n",
       "    <tr>\n",
       "      <th>mean</th>\n",
       "      <td>0.362828</td>\n",
       "      <td>0.393648</td>\n",
       "      <td>0.586190</td>\n",
       "      <td>0.504027</td>\n",
       "      <td>0.511086</td>\n",
       "      <td>0.506590</td>\n",
       "      <td>0.507152</td>\n",
       "      <td>0.492200</td>\n",
       "      <td>0.484459</td>\n",
       "      <td>0.447062</td>\n",
       "      <td>...</td>\n",
       "      <td>0.421708</td>\n",
       "      <td>0.374373</td>\n",
       "      <td>0.439112</td>\n",
       "      <td>0.421777</td>\n",
       "      <td>0.546079</td>\n",
       "      <td>0.582255</td>\n",
       "      <td>0.425075</td>\n",
       "      <td>0.430308</td>\n",
       "      <td>1.583156</td>\n",
       "      <td>0.763505</td>\n",
       "    </tr>\n",
       "    <tr>\n",
       "      <th>std</th>\n",
       "      <td>0.251889</td>\n",
       "      <td>0.239449</td>\n",
       "      <td>0.271498</td>\n",
       "      <td>0.303347</td>\n",
       "      <td>0.277270</td>\n",
       "      <td>0.266565</td>\n",
       "      <td>0.285537</td>\n",
       "      <td>0.275735</td>\n",
       "      <td>0.315618</td>\n",
       "      <td>0.242861</td>\n",
       "      <td>...</td>\n",
       "      <td>0.248768</td>\n",
       "      <td>0.256981</td>\n",
       "      <td>0.263779</td>\n",
       "      <td>0.252124</td>\n",
       "      <td>0.269511</td>\n",
       "      <td>0.250915</td>\n",
       "      <td>0.229298</td>\n",
       "      <td>0.243034</td>\n",
       "      <td>1.209799</td>\n",
       "      <td>0.425020</td>\n",
       "    </tr>\n",
       "    <tr>\n",
       "      <th>min</th>\n",
       "      <td>0.010994</td>\n",
       "      <td>0.012139</td>\n",
       "      <td>0.003021</td>\n",
       "      <td>0.012594</td>\n",
       "      <td>0.010139</td>\n",
       "      <td>0.044565</td>\n",
       "      <td>0.011772</td>\n",
       "      <td>0.046942</td>\n",
       "      <td>0.000554</td>\n",
       "      <td>0.034129</td>\n",
       "      <td>...</td>\n",
       "      <td>0.005579</td>\n",
       "      <td>0.005217</td>\n",
       "      <td>0.016256</td>\n",
       "      <td>0.033037</td>\n",
       "      <td>0.039505</td>\n",
       "      <td>0.114550</td>\n",
       "      <td>0.021239</td>\n",
       "      <td>0.004867</td>\n",
       "      <td>0.000000</td>\n",
       "      <td>0.000000</td>\n",
       "    </tr>\n",
       "    <tr>\n",
       "      <th>25%</th>\n",
       "      <td>0.129198</td>\n",
       "      <td>0.195818</td>\n",
       "      <td>0.346092</td>\n",
       "      <td>0.200865</td>\n",
       "      <td>0.259467</td>\n",
       "      <td>0.263589</td>\n",
       "      <td>0.288132</td>\n",
       "      <td>0.287532</td>\n",
       "      <td>0.207938</td>\n",
       "      <td>0.219111</td>\n",
       "      <td>...</td>\n",
       "      <td>0.175469</td>\n",
       "      <td>0.184604</td>\n",
       "      <td>0.188750</td>\n",
       "      <td>0.217757</td>\n",
       "      <td>0.307132</td>\n",
       "      <td>0.339125</td>\n",
       "      <td>0.213026</td>\n",
       "      <td>0.196192</td>\n",
       "      <td>1.000000</td>\n",
       "      <td>1.000000</td>\n",
       "    </tr>\n",
       "    <tr>\n",
       "      <th>50%</th>\n",
       "      <td>0.351722</td>\n",
       "      <td>0.397083</td>\n",
       "      <td>0.609836</td>\n",
       "      <td>0.533962</td>\n",
       "      <td>0.527381</td>\n",
       "      <td>0.467431</td>\n",
       "      <td>0.493428</td>\n",
       "      <td>0.453052</td>\n",
       "      <td>0.420723</td>\n",
       "      <td>0.444806</td>\n",
       "      <td>...</td>\n",
       "      <td>0.474378</td>\n",
       "      <td>0.317857</td>\n",
       "      <td>0.466375</td>\n",
       "      <td>0.413071</td>\n",
       "      <td>0.512941</td>\n",
       "      <td>0.610860</td>\n",
       "      <td>0.417295</td>\n",
       "      <td>0.481601</td>\n",
       "      <td>1.000000</td>\n",
       "      <td>1.000000</td>\n",
       "    </tr>\n",
       "    <tr>\n",
       "      <th>75%</th>\n",
       "      <td>0.582278</td>\n",
       "      <td>0.582178</td>\n",
       "      <td>0.791215</td>\n",
       "      <td>0.754841</td>\n",
       "      <td>0.743164</td>\n",
       "      <td>0.743670</td>\n",
       "      <td>0.753657</td>\n",
       "      <td>0.722293</td>\n",
       "      <td>0.778160</td>\n",
       "      <td>0.654441</td>\n",
       "      <td>...</td>\n",
       "      <td>0.663382</td>\n",
       "      <td>0.572330</td>\n",
       "      <td>0.652514</td>\n",
       "      <td>0.604753</td>\n",
       "      <td>0.779378</td>\n",
       "      <td>0.800666</td>\n",
       "      <td>0.606719</td>\n",
       "      <td>0.631426</td>\n",
       "      <td>3.000000</td>\n",
       "      <td>1.000000</td>\n",
       "    </tr>\n",
       "    <tr>\n",
       "      <th>max</th>\n",
       "      <td>0.968460</td>\n",
       "      <td>0.905026</td>\n",
       "      <td>0.983306</td>\n",
       "      <td>0.999393</td>\n",
       "      <td>0.990786</td>\n",
       "      <td>1.000000</td>\n",
       "      <td>0.977520</td>\n",
       "      <td>0.995263</td>\n",
       "      <td>0.963235</td>\n",
       "      <td>0.966784</td>\n",
       "      <td>...</td>\n",
       "      <td>0.934617</td>\n",
       "      <td>0.973679</td>\n",
       "      <td>0.950218</td>\n",
       "      <td>0.983826</td>\n",
       "      <td>0.989411</td>\n",
       "      <td>0.996873</td>\n",
       "      <td>0.925924</td>\n",
       "      <td>0.797906</td>\n",
       "      <td>4.000000</td>\n",
       "      <td>1.000000</td>\n",
       "    </tr>\n",
       "  </tbody>\n",
       "</table>\n",
       "<p>8 rows × 22 columns</p>\n",
       "</div>"
      ],
      "text/plain": [
       "           Glucose  Cholesterol   Hemoglobin    Platelets  White Blood Cells  \\\n",
       "count  2351.000000  2351.000000  2351.000000  2351.000000        2351.000000   \n",
       "mean      0.362828     0.393648     0.586190     0.504027           0.511086   \n",
       "std       0.251889     0.239449     0.271498     0.303347           0.277270   \n",
       "min       0.010994     0.012139     0.003021     0.012594           0.010139   \n",
       "25%       0.129198     0.195818     0.346092     0.200865           0.259467   \n",
       "50%       0.351722     0.397083     0.609836     0.533962           0.527381   \n",
       "75%       0.582278     0.582178     0.791215     0.754841           0.743164   \n",
       "max       0.968460     0.905026     0.983306     0.999393           0.990786   \n",
       "\n",
       "       Red Blood Cells   Hematocrit          MCV          MCH      Insulin  \\\n",
       "count      2351.000000  2351.000000  2351.000000  2351.000000  2351.000000   \n",
       "mean          0.506590     0.507152     0.492200     0.484459     0.447062   \n",
       "std           0.266565     0.285537     0.275735     0.315618     0.242861   \n",
       "min           0.044565     0.011772     0.046942     0.000554     0.034129   \n",
       "25%           0.263589     0.288132     0.287532     0.207938     0.219111   \n",
       "50%           0.467431     0.493428     0.453052     0.420723     0.444806   \n",
       "75%           0.743670     0.753657     0.722293     0.778160     0.654441   \n",
       "max           1.000000     0.977520     0.995263     0.963235     0.966784   \n",
       "\n",
       "       ...           BP  Triglycerides        HbA1c     LDL Chol     HDL Chol  \\\n",
       "count  ...  2351.000000    2351.000000  2351.000000  2351.000000  2351.000000   \n",
       "mean   ...     0.421708       0.374373     0.439112     0.421777     0.546079   \n",
       "std    ...     0.248768       0.256981     0.263779     0.252124     0.269511   \n",
       "min    ...     0.005579       0.005217     0.016256     0.033037     0.039505   \n",
       "25%    ...     0.175469       0.184604     0.188750     0.217757     0.307132   \n",
       "50%    ...     0.474378       0.317857     0.466375     0.413071     0.512941   \n",
       "75%    ...     0.663382       0.572330     0.652514     0.604753     0.779378   \n",
       "max    ...     0.934617       0.973679     0.950218     0.983826     0.989411   \n",
       "\n",
       "        Heart Rate   Creatinine  C-reactive Protein      Disease           dd  \n",
       "count  2351.000000  2351.000000         2351.000000  2351.000000  2351.000000  \n",
       "mean      0.582255     0.425075            0.430308     1.583156     0.763505  \n",
       "std       0.250915     0.229298            0.243034     1.209799     0.425020  \n",
       "min       0.114550     0.021239            0.004867     0.000000     0.000000  \n",
       "25%       0.339125     0.213026            0.196192     1.000000     1.000000  \n",
       "50%       0.610860     0.417295            0.481601     1.000000     1.000000  \n",
       "75%       0.800666     0.606719            0.631426     3.000000     1.000000  \n",
       "max       0.996873     0.925924            0.797906     4.000000     1.000000  \n",
       "\n",
       "[8 rows x 22 columns]"
      ]
     },
     "metadata": {},
     "output_type": "display_data"
    }
   ],
   "source": [
    "df = pd.read_csv('../data/disease.csv')\n",
    "df['dd'] = df['Disease'].apply(lambda x: 1 if x > 0 else 0)\n",
    "df = df.rename(columns={\"Mean Corpuscular Volume\": \"MCV\", \n",
    "                        \"Mean Corpuscular Hemoglobin\": \"MCH\",\n",
    "                        \"Diastolic Blood Pressure\": \"BP\",\n",
    "                        \"HDL Cholesterol\": \"HDL Chol\",\n",
    "                        \"LDL Cholesterol\": \"LDL Chol\"})\n",
    "df.dropna(inplace=True)\n",
    "df.describe()"
   ]
  },
  {
   "cell_type": "code",
   "execution_count": null,
   "metadata": {},
   "outputs": [
    {
     "data": {
      "text/plain": [
       "<Axes: >"
      ]
     },
     "metadata": {},
     "output_type": "display_data"
    },
    {
     "data": {
      "image/png": "[encoded data removed]",
      "text/plain": [
       "<Figure size 1100x900 with 2 Axes>"
      ]
     },
     "metadata": {},
     "output_type": "display_data"
    }
   ],
   "source": [
    "corr = df.corr()\n",
    "\n",
    "mask = np.triu(np.ones_like(corr, dtype=bool))\n",
    "f, ax = plt.subplots(figsize=(11, 9))\n",
    "cmap = sns.diverging_palette(230, 20, as_cmap=True)\n",
    "sns.heatmap(corr, mask=mask, cmap=cmap, vmax=.3, center=0,\n",
    "            square=True, linewidths=.5, cbar_kws={\"shrink\": .5})"
   ]
  },
  {
   "cell_type": "markdown",
   "metadata": {},
   "source": [
    "\n",
    "2. Ejecute un modelo de probabilidad lineal (*MCO*) que permita explicar la probabilidad de que una persona tenga al menos una enfermedad. Seleccione las variables dependientes a incluir en el modelo final e interprete su significado.\n",
    "\n",
    "**R**: Segun el modelo, excluyendo las variables que no contribuyen dada alta correlacion, el BMI y ritmo cardiaco se asocian positivamente de forma importante a la probabilidad de tener alguna morbilidad, asi como el colesterol total y ciertas caracteristicas de la sangre (MCV, MCH). De la misma manera, otros marcadores bioquimicos indican una asociacion negativa, tales como la glucosa, los trigliceridos y la insulina. Los resultados se interpretan como cambio en puntos porcentuales por cambio de una unidad en la variable (escala de 0 a 100). Por ejemplo, un cambio de una unidad en colesterol total indica un cambio de 0.5 puntos porcentuales en la probabilidad de tener al menos una enfermedad. "
   ]
  },
  {
   "cell_type": "code",
   "execution_count": null,
   "metadata": {},
   "outputs": [
    {
     "name": "stdout",
     "output_type": "stream",
     "text": [
      "                            OLS Regression Results                            \n",
      "==============================================================================\n",
      "Dep. Variable:                     dd   R-squared:                       0.487\n",
      "Model:                            OLS   Adj. R-squared:                  0.483\n",
      "Method:                 Least Squares   F-statistic:                     236.2\n",
      "Date:                Thu, 24 Apr 2025   Prob (F-statistic):               0.00\n",
      "Time:                        14:47:44   Log-Likelihood:                -539.42\n",
      "No. Observations:                2351   AIC:                             1117.\n",
      "Df Residuals:                    2332   BIC:                             1226.\n",
      "Df Model:                          18                                         \n",
      "Covariance Type:                  HC0                                         \n",
      "======================================================================================\n",
      "                         coef    std err          z      P>|z|      [0.025      0.975]\n",
      "--------------------------------------------------------------------------------------\n",
      "const                  0.7573      0.044     17.136      0.000       0.671       0.844\n",
      "Glucose               -0.0036      0.000    -13.196      0.000      -0.004      -0.003\n",
      "Cholesterol            0.0052      0.000     17.836      0.000       0.005       0.006\n",
      "Hemoglobin             0.0020      0.000      7.071      0.000       0.001       0.003\n",
      "Platelets             -0.0044      0.000    -20.314      0.000      -0.005      -0.004\n",
      "White Blood Cells     -0.0043      0.000    -20.011      0.000      -0.005      -0.004\n",
      "Red Blood Cells       -0.0037      0.000    -15.924      0.000      -0.004      -0.003\n",
      "Hematocrit            -0.0023      0.000     -8.921      0.000      -0.003      -0.002\n",
      "MCV                    0.0063      0.000     24.897      0.000       0.006       0.007\n",
      "MCH                    0.0029      0.000     13.634      0.000       0.003       0.003\n",
      "Insulin               -0.0010      0.000     -3.317      0.001      -0.002      -0.000\n",
      "BMI                    0.0034      0.000     10.476      0.000       0.003       0.004\n",
      "BP                    -0.0013      0.000     -4.715      0.000      -0.002      -0.001\n",
      "Triglycerides         -0.0026      0.000     -8.228      0.000      -0.003      -0.002\n",
      "HbA1c                  0.0012      0.000      5.479      0.000       0.001       0.002\n",
      "LDL Chol              -0.0020      0.000     -6.363      0.000      -0.003      -0.001\n",
      "HDL Chol              -0.0014      0.000     -6.112      0.000      -0.002      -0.001\n",
      "Heart Rate             0.0041      0.000     12.544      0.000       0.003       0.005\n",
      "C-reactive Protein     0.0007      0.000      2.141      0.032    5.58e-05       0.001\n",
      "==============================================================================\n",
      "Omnibus:                      121.515   Durbin-Watson:                   0.963\n",
      "Prob(Omnibus):                  0.000   Jarque-Bera (JB):              133.124\n",
      "Skew:                          -0.562   Prob(JB):                     1.24e-29\n",
      "Kurtosis:                       2.692   Cond. No.                     1.82e+03\n",
      "==============================================================================\n",
      "\n",
      "Notes:\n",
      "[1] Standard Errors are heteroscedasticity robust (HC0)\n",
      "[2] The condition number is large, 1.82e+03. This might indicate that there are\n",
      "strong multicollinearity or other numerical problems.\n"
     ]
    }
   ],
   "source": [
    "#Regresion excluyendo variables de alta correlacion\n",
    "y=df['dd']\n",
    "X=df.drop(['Disease', 'dd','Systolic Blood Pressure','Creatinine'], axis=1)\n",
    "X=X*100\n",
    "X=sm.add_constant(X)\n",
    "model = sm.OLS(y, X)\n",
    "results = model.fit(cov_type='HC0')\n",
    "print(results.summary())"
   ]
  },
  {
   "cell_type": "markdown",
   "metadata": {},
   "source": [
    "3. Ejecute un modelo *probit* para responder a la pregunta 2. Seleccione las variables dependientes a incluir en el modelo final e interprete su significado. \n",
    "\n",
    "**R**: Hay cambios importantes de magnitud en los efectos marginales (considerando a OLS), las asociaciones aumentan (en valor absoluto), en particular para variables como glucosa, colesterol y plaquetas. Un cambio de una unidad, en torno al promedio (en otras palabras un percentil en la distribucion), se traduce en cambios de una un punto porcentual, en promedio. Esta interpretacion permite entender de mejor manera un incremento relativo (en torno a la media) de un percentil sobre el riesgo (medido en porcentaje)."
   ]
  },
  {
   "cell_type": "code",
   "execution_count": null,
   "metadata": {},
   "outputs": [
    {
     "name": "stdout",
     "output_type": "stream",
     "text": [
      "Optimization terminated successfully.\n",
      "         Current function value: 0.169501\n",
      "         Iterations 12\n",
      "                          Probit Regression Results                           \n",
      "==============================================================================\n",
      "Dep. Variable:                     dd   No. Observations:                 2351\n",
      "Model:                         Probit   Df Residuals:                     2334\n",
      "Method:                           MLE   Df Model:                           16\n",
      "Date:                Thu, 24 Apr 2025   Pseudo R-squ.:                  0.6901\n",
      "Time:                        14:47:44   Log-Likelihood:                -398.50\n",
      "converged:                       True   LL-Null:                       -1286.0\n",
      "Covariance Type:                  HC0   LLR p-value:                     0.000\n",
      "======================================================================================\n",
      "                         coef    std err          z      P>|z|      [0.025      0.975]\n",
      "--------------------------------------------------------------------------------------\n",
      "const                  7.2068      0.671     10.745      0.000       5.892       8.521\n",
      "Glucose               -0.1102      0.006    -17.013      0.000      -0.123      -0.097\n",
      "Cholesterol            0.1077      0.006     16.576      0.000       0.095       0.120\n",
      "Hemoglobin             0.0089      0.002      4.782      0.000       0.005       0.013\n",
      "Platelets             -0.1061      0.006    -16.481      0.000      -0.119      -0.093\n",
      "White Blood Cells     -0.0844      0.006    -14.745      0.000      -0.096      -0.073\n",
      "Red Blood Cells       -0.0886      0.004    -19.938      0.000      -0.097      -0.080\n",
      "Hematocrit            -0.0704      0.005    -15.222      0.000      -0.079      -0.061\n",
      "MCV                    0.1123      0.006     19.122      0.000       0.101       0.124\n",
      "MCH                    0.0564      0.004     15.722      0.000       0.049       0.063\n",
      "BMI                    0.0750      0.004     18.611      0.000       0.067       0.083\n",
      "BP                    -0.0478      0.003    -14.658      0.000      -0.054      -0.041\n",
      "Triglycerides         -0.0697      0.004    -18.543      0.000      -0.077      -0.062\n",
      "HbA1c                 -0.0124      0.003     -4.036      0.000      -0.018      -0.006\n",
      "HDL Chol              -0.0100      0.003     -3.517      0.000      -0.016      -0.004\n",
      "Heart Rate             0.0923      0.006     16.763      0.000       0.082       0.103\n",
      "C-reactive Protein     0.0538      0.004     14.054      0.000       0.046       0.061\n",
      "======================================================================================\n",
      "\n",
      "Possibly complete quasi-separation: A fraction 0.56 of observations can be\n",
      "perfectly predicted. This might indicate that there is complete\n",
      "quasi-separation. In this case some parameters will not be identified.\n",
      "       Probit Marginal Effects       \n",
      "=====================================\n",
      "Dep. Variable:                     dd\n",
      "Method:                          dydx\n",
      "At:                           overall\n",
      "======================================================================================\n",
      "                        dy/dx    std err          z      P>|z|      [0.025      0.975]\n",
      "--------------------------------------------------------------------------------------\n",
      "Glucose               -0.0105      0.000    -24.741      0.000      -0.011      -0.010\n",
      "Cholesterol            0.0103      0.001     20.090      0.000       0.009       0.011\n",
      "Hemoglobin             0.0008      0.000      4.732      0.000       0.000       0.001\n",
      "Platelets             -0.0101      0.000    -22.300      0.000      -0.011      -0.009\n",
      "White Blood Cells     -0.0080      0.000    -16.467      0.000      -0.009      -0.007\n",
      "Red Blood Cells       -0.0084      0.000    -26.038      0.000      -0.009      -0.008\n",
      "Hematocrit            -0.0067      0.000    -16.600      0.000      -0.008      -0.006\n",
      "MCV                    0.0107      0.000     30.718      0.000       0.010       0.011\n",
      "MCH                    0.0054      0.000     19.323      0.000       0.005       0.006\n",
      "BMI                    0.0071      0.000     27.174      0.000       0.007       0.008\n",
      "BP                    -0.0046      0.000    -14.164      0.000      -0.005      -0.004\n",
      "Triglycerides         -0.0066      0.000    -21.844      0.000      -0.007      -0.006\n",
      "HbA1c                 -0.0012      0.000     -4.114      0.000      -0.002      -0.001\n",
      "HDL Chol              -0.0010      0.000     -3.732      0.000      -0.001      -0.000\n",
      "Heart Rate             0.0088      0.000     23.990      0.000       0.008       0.010\n",
      "C-reactive Protein     0.0051      0.000     20.053      0.000       0.005       0.006\n",
      "======================================================================================\n"
     ]
    }
   ],
   "source": [
    "X1 = X.drop(['LDL Chol','Insulin'], axis=1)\n",
    "model = sm.Probit(y, X1)\n",
    "probit_model = model.fit(cov_type='HC0')\n",
    "print(probit_model.summary())\n",
    "\n",
    "mfxp = probit_model.get_margeff()\n",
    "print(mfxp.summary())"
   ]
  },
  {
   "cell_type": "markdown",
   "metadata": {},
   "source": [
    "4. Ejecute un modelo *logit*  para responder a la pregunta 2. Seleccione las variables dependientes a incluir en el modelo final e interprete su significado. \n",
    "\n",
    "**R**: Los cambios en los coeficientes estimados con Probit (en terminos de efectos marginales) no son estadisticamente significativos, lo cual es esperado. Sin embargo, logit permite entender tambien los cambios en riesgo relativo (odds ratio) de tener al menos una enfermadad (reportado en la ultima tabla)."
   ]
  },
  {
   "cell_type": "code",
   "execution_count": null,
   "metadata": {},
   "outputs": [
    {
     "name": "stdout",
     "output_type": "stream",
     "text": [
      "Optimization terminated successfully.\n",
      "         Current function value: 0.168140\n",
      "         Iterations 12\n",
      "                           Logit Regression Results                           \n",
      "==============================================================================\n",
      "Dep. Variable:                     dd   No. Observations:                 2351\n",
      "Model:                          Logit   Df Residuals:                     2334\n",
      "Method:                           MLE   Df Model:                           16\n",
      "Date:                Thu, 24 Apr 2025   Pseudo R-squ.:                  0.6926\n",
      "Time:                        14:47:45   Log-Likelihood:                -395.30\n",
      "converged:                       True   LL-Null:                       -1286.0\n",
      "Covariance Type:                  HC0   LLR p-value:                     0.000\n",
      "======================================================================================\n",
      "                         coef    std err          z      P>|z|      [0.025      0.975]\n",
      "--------------------------------------------------------------------------------------\n",
      "const                 12.6531      1.048     12.069      0.000      10.598      14.708\n",
      "Glucose               -0.2044      0.022     -9.182      0.000      -0.248      -0.161\n",
      "Cholesterol            0.1965      0.015     12.994      0.000       0.167       0.226\n",
      "Hemoglobin             0.0152      0.004      4.238      0.000       0.008       0.022\n",
      "Platelets             -0.1921      0.015    -12.903      0.000      -0.221      -0.163\n",
      "White Blood Cells     -0.1475      0.010    -14.827      0.000      -0.167      -0.128\n",
      "Red Blood Cells       -0.1573      0.011    -14.192      0.000      -0.179      -0.136\n",
      "Hematocrit            -0.1241      0.008    -15.174      0.000      -0.140      -0.108\n",
      "MCV                    0.2015      0.015     13.228      0.000       0.172       0.231\n",
      "MCH                    0.1036      0.009     11.039      0.000       0.085       0.122\n",
      "BMI                    0.1325      0.009     13.975      0.000       0.114       0.151\n",
      "BP                    -0.0811      0.005    -15.891      0.000      -0.091      -0.071\n",
      "Triglycerides         -0.1248      0.009    -14.258      0.000      -0.142      -0.108\n",
      "HbA1c                 -0.0247      0.011     -2.352      0.019      -0.045      -0.004\n",
      "HDL Chol              -0.0252      0.009     -2.738      0.006      -0.043      -0.007\n",
      "Heart Rate             0.1717      0.018      9.739      0.000       0.137       0.206\n",
      "C-reactive Protein     0.0988      0.011      8.659      0.000       0.076       0.121\n",
      "======================================================================================\n",
      "\n",
      "Possibly complete quasi-separation: A fraction 0.53 of observations can be\n",
      "perfectly predicted. This might indicate that there is complete\n",
      "quasi-separation. In this case some parameters will not be identified.\n",
      "        Logit Marginal Effects       \n",
      "=====================================\n",
      "Dep. Variable:                     dd\n",
      "Method:                          dydx\n",
      "At:                           overall\n",
      "======================================================================================\n",
      "                        dy/dx    std err          z      P>|z|      [0.025      0.975]\n",
      "--------------------------------------------------------------------------------------\n",
      "Glucose               -0.0110      0.001    -15.740      0.000      -0.012      -0.010\n",
      "Cholesterol            0.0106      0.000     23.977      0.000       0.010       0.011\n",
      "Hemoglobin             0.0008      0.000      4.445      0.000       0.000       0.001\n",
      "Platelets             -0.0104      0.000    -27.334      0.000      -0.011      -0.010\n",
      "White Blood Cells     -0.0080      0.001    -14.799      0.000      -0.009      -0.007\n",
      "Red Blood Cells       -0.0085      0.000    -28.729      0.000      -0.009      -0.008\n",
      "Hematocrit            -0.0067      0.000    -17.813      0.000      -0.007      -0.006\n",
      "MCV                    0.0109      0.000     34.225      0.000       0.010       0.012\n",
      "MCH                    0.0056      0.000     19.680      0.000       0.005       0.006\n",
      "BMI                    0.0072      0.000     31.697      0.000       0.007       0.008\n",
      "BP                    -0.0044      0.000    -12.872      0.000      -0.005      -0.004\n",
      "Triglycerides         -0.0067      0.000    -24.245      0.000      -0.007      -0.006\n",
      "HbA1c                 -0.0013      0.001     -2.534      0.011      -0.002      -0.000\n",
      "HDL Chol              -0.0014      0.000     -3.133      0.002      -0.002      -0.001\n",
      "Heart Rate             0.0093      0.001     18.168      0.000       0.008       0.010\n",
      "C-reactive Protein     0.0053      0.000     14.792      0.000       0.005       0.006\n",
      "======================================================================================\n",
      "Odds Ratios\n",
      "                    Odds Ratio        5%       95%\n",
      "Glucose               0.780333  0.851485  0.815133\n",
      "Cholesterol           1.181553  1.253701  1.217092\n",
      "Hemoglobin            1.008204  1.022479  1.015317\n",
      "Platelets             0.801461  0.849636  0.825197\n",
      "White Blood Cells     0.846248  0.879887  0.862904\n",
      "Red Blood Cells       0.836061  0.873193  0.854425\n",
      "Hematocrit            0.869205  0.897531  0.883255\n",
      "MCV                   1.187241  1.260289  1.223220\n",
      "MCH                   1.088910  1.129701  1.109118\n",
      "BMI                   1.120630  1.163054  1.141645\n",
      "BP                    0.912877  0.931334  0.922060\n",
      "Triglycerides         0.867703  0.897980  0.882711\n",
      "HbA1c                 0.955712  0.995886  0.975593\n",
      "HDL Chol              0.957723  0.992873  0.975139\n",
      "Heart Rate            1.147008  1.229087  1.187339\n",
      "C-reactive Protein    1.079460  1.128850  1.103879\n"
     ]
    }
   ],
   "source": [
    "X1 = X.drop(['LDL Chol','Insulin'], axis=1)\n",
    "model = sm.Logit(y, X1)\n",
    "logit_model = model.fit(cov_type='HC0')\n",
    "print(logit_model.summary())\n",
    "\n",
    "mfxl = logit_model.get_margeff()\n",
    "print(mfxl.summary())\n",
    "\n",
    "params = logit_model.params\n",
    "conf = logit_model.conf_int()\n",
    "conf['Odds Ratio'] = params\n",
    "conf.columns = ['Odds Ratio', '5%', '95%']\n",
    "print(\"Odds Ratios\")\n",
    "print(np.exp(conf).iloc[1:17 , ])\n"
   ]
  },
  {
   "cell_type": "markdown",
   "metadata": {},
   "source": [
    "5. Comente los resultados obtenidos en 2, 3 y 4. ¿Cuáles y por qué existen las diferencias entre los resultados?. En su opinión, ¿Cuál sería el más adecuado para responder la pregunta de investgación y por qué? ¿Qué variables resultaron ser robustas a la especificación?\n",
    "\n",
    "**R**: En base a los resultados, el modelo MCO produce resultados incorrectos, por tanto Probit o Logit podrian ser apropiados. Dado el contexto, el modelo Logit provee mas informacion, por tanto es mas conveniente. Hay solo algunas variables como Insulina, LDL Chol, Creatinina y BP Sistolica no afectan directamente (teniendo en cuenta que el modelo puede estar mal especificado al no permitir interacciones entre variables)."
   ]
  },
  {
   "cell_type": "code",
   "execution_count": null,
   "metadata": {},
   "outputs": [
    {
     "name": "stdout",
     "output_type": "stream",
     "text": [
      "                            OLS Regression Results                            \n",
      "==============================================================================\n",
      "Dep. Variable:                     dd   R-squared:                       0.475\n",
      "Model:                            OLS   Adj. R-squared:                  0.472\n",
      "Method:                 Least Squares   F-statistic:                     214.8\n",
      "Date:                Thu, 24 Apr 2025   Prob (F-statistic):               0.00\n",
      "Time:                        14:47:45   Log-Likelihood:                -566.18\n",
      "No. Observations:                2351   AIC:                             1166.\n",
      "Df Residuals:                    2334   BIC:                             1264.\n",
      "Df Model:                          16                                         \n",
      "Covariance Type:                  HC0                                         \n",
      "======================================================================================\n",
      "                         coef    std err          z      P>|z|      [0.025      0.975]\n",
      "--------------------------------------------------------------------------------------\n",
      "const                  0.6200      0.041     15.220      0.000       0.540       0.700\n",
      "Glucose               -0.0040      0.000    -15.968      0.000      -0.004      -0.004\n",
      "Cholesterol            0.0049      0.000     16.095      0.000       0.004       0.005\n",
      "Hemoglobin             0.0019      0.000      7.540      0.000       0.001       0.002\n",
      "Platelets             -0.0039      0.000    -17.566      0.000      -0.004      -0.003\n",
      "White Blood Cells     -0.0041      0.000    -18.960      0.000      -0.005      -0.004\n",
      "Red Blood Cells       -0.0039      0.000    -15.390      0.000      -0.004      -0.003\n",
      "Hematocrit            -0.0021      0.000     -8.447      0.000      -0.003      -0.002\n",
      "MCV                    0.0063      0.000     25.507      0.000       0.006       0.007\n",
      "MCH                    0.0026      0.000     11.804      0.000       0.002       0.003\n",
      "BMI                    0.0034      0.000     10.348      0.000       0.003       0.004\n",
      "BP                    -0.0017      0.000     -6.115      0.000      -0.002      -0.001\n",
      "Triglycerides         -0.0030      0.000    -10.436      0.000      -0.004      -0.002\n",
      "HbA1c                  0.0011      0.000      4.555      0.000       0.001       0.002\n",
      "HDL Chol              -0.0010      0.000     -4.022      0.000      -0.001      -0.001\n",
      "Heart Rate             0.0045      0.000     15.590      0.000       0.004       0.005\n",
      "C-reactive Protein     0.0009      0.000      2.579      0.010       0.000       0.002\n",
      "==============================================================================\n",
      "Omnibus:                      144.439   Durbin-Watson:                   0.945\n",
      "Prob(Omnibus):                  0.000   Jarque-Bera (JB):              151.256\n",
      "Skew:                          -0.584   Prob(JB):                     1.43e-33\n",
      "Kurtosis:                       2.579   Cond. No.                     1.55e+03\n",
      "==============================================================================\n",
      "\n",
      "Notes:\n",
      "[1] Standard Errors are heteroscedasticity robust (HC0)\n",
      "[2] The condition number is large, 1.55e+03. This might indicate that there are\n",
      "strong multicollinearity or other numerical problems.\n"
     ]
    }
   ],
   "source": [
    "#Estimar modelo con las mismas variables anteriores\n",
    "model = sm.OLS(y, X1)\n",
    "results = model.fit(cov_type='HC0')\n",
    "print(results.summary())"
   ]
  },
  {
   "cell_type": "markdown",
   "metadata": {},
   "source": [
    "6. Ejecute un modelo Poisson para explicar el numero de enfermedades que tiene una persona. Seleccione las variables dependientes a incluir en el modelo final e interprete su significado. \n",
    "\n",
    "**R**: Una vez excluidas las variables que no contribuian a la varianza total del modelo (tampoco directamente), hay ciertas variables que contribuyen de forma significativa, aunque de magnitud menor, a la variacion en el numero de enfermedades contabilizadas. Por ejemplo, un incremento en 10 percentiles en el Indice de Masa Corporal (BMI) se traduce en un incremento (sobre el promedio) de 0.14 en el numero de enfermedades."
   ]
  },
  {
   "cell_type": "code",
   "execution_count": null,
   "metadata": {},
   "outputs": [
    {
     "name": "stdout",
     "output_type": "stream",
     "text": [
      "                 Generalized Linear Model Regression Results                  \n",
      "==============================================================================\n",
      "Dep. Variable:                Disease   No. Observations:                 2351\n",
      "Model:                            GLM   Df Residuals:                     2333\n",
      "Model Family:                 Poisson   Df Model:                           17\n",
      "Link Function:                    Log   Scale:                          1.0000\n",
      "Method:                          IRLS   Log-Likelihood:                -3133.6\n",
      "Date:                Thu, 24 Apr 2025   Deviance:                       1685.3\n",
      "Time:                        14:47:45   Pearson chi2:                 1.31e+03\n",
      "No. Iterations:                     5   Pseudo R-squ. (CS):             0.3767\n",
      "Covariance Type:            nonrobust                                         \n",
      "===========================================================================================\n",
      "                              coef    std err          z      P>|z|      [0.025      0.975]\n",
      "-------------------------------------------------------------------------------------------\n",
      "const                      -0.8870      0.150     -5.929      0.000      -1.180      -0.594\n",
      "Glucose                    -0.0069      0.001     -8.282      0.000      -0.009      -0.005\n",
      "Cholesterol                 0.0103      0.001     11.078      0.000       0.008       0.012\n",
      "Hemoglobin                  0.0114      0.001     14.270      0.000       0.010       0.013\n",
      "Platelets                  -0.0124      0.001    -19.502      0.000      -0.014      -0.011\n",
      "Hematocrit                 -0.0027      0.001     -3.806      0.000      -0.004      -0.001\n",
      "MCV                         0.0110      0.001     15.420      0.000       0.010       0.012\n",
      "MCH                         0.0085      0.001     13.236      0.000       0.007       0.010\n",
      "BMI                         0.0137      0.001     12.223      0.000       0.011       0.016\n",
      "Systolic Blood Pressure    -0.0029      0.001     -3.582      0.000      -0.004      -0.001\n",
      "BP                         -0.0067      0.001     -7.633      0.000      -0.008      -0.005\n",
      "Triglycerides              -0.0047      0.001     -5.918      0.000      -0.006      -0.003\n",
      "HbA1c                       0.0032      0.001      4.614      0.000       0.002       0.004\n",
      "LDL Chol                   -0.0088      0.001    -10.848      0.000      -0.010      -0.007\n",
      "HDL Chol                   -0.0032      0.001     -4.736      0.000      -0.005      -0.002\n",
      "Heart Rate                  0.0019      0.001      2.486      0.013       0.000       0.003\n",
      "Creatinine                  0.0052      0.001      5.936      0.000       0.003       0.007\n",
      "C-reactive Protein          0.0051      0.001      6.186      0.000       0.003       0.007\n",
      "===========================================================================================\n"
     ]
    }
   ],
   "source": [
    "y = df['Disease']\n",
    "X2=df.drop(['Disease', 'dd','White Blood Cells','Red Blood Cells','Insulin'], axis=1)\n",
    "X2 = X2*100\n",
    "X2=sm.add_constant(X2)\n",
    "poisson=sm.GLM(y,X2,family=sm.families.Poisson()).fit()\n",
    "print(poisson.summary())"
   ]
  },
  {
   "cell_type": "markdown",
   "metadata": {},
   "source": [
    "7. Determine la existencia de sobre dispersion y posible valor optimo de alpha para un modelo Binomial Negativa.\n",
    "\n",
    "**R**: El analisis indica que la sobredispersion es baja, y el test muestra un valor de alpha estadisticamente significativo, pero sugiriendo que existe subdispersion (menor varianza que la media). "
   ]
  },
  {
   "cell_type": "code",
   "execution_count": null,
   "metadata": {},
   "outputs": [
    {
     "data": {
      "text/plain": [
       "<Axes: xlabel='plambda', ylabel='Count'>"
      ]
     },
     "metadata": {},
     "output_type": "display_data"
    },
    {
     "data": {
      "image/png": "[encoded data removed]",
      "text/plain": [
       "<Figure size 640x480 with 1 Axes>"
      ]
     },
     "metadata": {},
     "output_type": "display_data"
    }
   ],
   "source": [
    "df['plambda'] = poisson.mu\n",
    "sns.histplot(data=df, x=\"plambda\")"
   ]
  },
  {
   "cell_type": "code",
   "execution_count": null,
   "metadata": {},
   "outputs": [
    {
     "name": "stdout",
     "output_type": "stream",
     "text": [
      "                                 OLS Regression Results                                \n",
      "=======================================================================================\n",
      "Dep. Variable:                Disease   R-squared (uncentered):                   0.381\n",
      "Model:                            OLS   Adj. R-squared (uncentered):              0.381\n",
      "Method:                 Least Squares   F-statistic:                              1449.\n",
      "Date:                Thu, 24 Apr 2025   Prob (F-statistic):                   1.97e-247\n",
      "Time:                        14:47:45   Log-Likelihood:                         -2008.7\n",
      "No. Observations:                2351   AIC:                                      4019.\n",
      "Df Residuals:                    2350   BIC:                                      4025.\n",
      "Df Model:                           1                                                  \n",
      "Covariance Type:            nonrobust                                                  \n",
      "==============================================================================\n",
      "                 coef    std err          t      P>|t|      [0.025      0.975]\n",
      "------------------------------------------------------------------------------\n",
      "x1            -0.2466      0.006    -38.068      0.000      -0.259      -0.234\n",
      "==============================================================================\n",
      "Omnibus:                      581.822   Durbin-Watson:                   1.455\n",
      "Prob(Omnibus):                  0.000   Jarque-Bera (JB):             1196.992\n",
      "Skew:                           1.450   Prob(JB):                    1.19e-260\n",
      "Kurtosis:                       4.951   Cond. No.                         1.00\n",
      "==============================================================================\n",
      "\n",
      "Notes:\n",
      "[1] R² is computed without centering (uncentered) since the model does not contain a constant.\n",
      "[2] Standard Errors assume that the covariance matrix of the errors is correctly specified.\n"
     ]
    }
   ],
   "source": [
    "aux=((y-poisson.mu)**2-poisson.mu)/poisson.mu\n",
    "auxr=sm.OLS(aux,poisson.mu).fit()\n",
    "print(auxr.summary())"
   ]
  },
  {
   "cell_type": "markdown",
   "metadata": {},
   "source": [
    "8. Usando la informacion anterior, ejecute un modelo Binomial Negativa para responder la pregunta 6. Seleccione las variables dependientes a incluir en el modelo final e interprete su significado.\n",
    "\n",
    "**R**: Los resultados del modelo Binonial Negativa, con el valor de alpha sugerido en la regresion auxiliar, entrega un peor ajuste respecto del modelo Poisson (basado en el valor de la Log-Likelihood). Sin embargo, los valores estimados son arbitrariamente similares entre ambos modelos (y su interpretacion es exactamente la misma)."
   ]
  },
  {
   "cell_type": "code",
   "execution_count": null,
   "metadata": {},
   "outputs": [
    {
     "name": "stdout",
     "output_type": "stream",
     "text": [
      "                 Generalized Linear Model Regression Results                  \n",
      "==============================================================================\n",
      "Dep. Variable:                Disease   No. Observations:                 2351\n",
      "Model:                            GLM   Df Residuals:                     2333\n",
      "Model Family:        NegativeBinomial   Df Model:                           17\n",
      "Link Function:                    Log   Scale:                          1.0000\n",
      "Method:                          IRLS   Log-Likelihood:                -3811.6\n",
      "Date:                Thu, 24 Apr 2025   Deviance:                       928.30\n",
      "Time:                        14:47:54   Pearson chi2:                     605.\n",
      "No. Iterations:                    10   Pseudo R-squ. (CS):             0.1859\n",
      "Covariance Type:            nonrobust                                         \n",
      "===========================================================================================\n",
      "                              coef    std err          z      P>|z|      [0.025      0.975]\n",
      "-------------------------------------------------------------------------------------------\n",
      "const                      -0.9464      0.239     -3.952      0.000      -1.416      -0.477\n",
      "Glucose                    -0.0063      0.001     -4.573      0.000      -0.009      -0.004\n",
      "Cholesterol                 0.0112      0.001      7.621      0.000       0.008       0.014\n",
      "Hemoglobin                  0.0110      0.001      8.753      0.000       0.009       0.013\n",
      "Platelets                  -0.0142      0.001    -13.411      0.000      -0.016      -0.012\n",
      "Hematocrit                 -0.0039      0.001     -3.458      0.001      -0.006      -0.002\n",
      "MCV                         0.0136      0.001     11.901      0.000       0.011       0.016\n",
      "MCH                         0.0094      0.001      9.093      0.000       0.007       0.011\n",
      "BMI                         0.0136      0.002      8.204      0.000       0.010       0.017\n",
      "Systolic Blood Pressure    -0.0029      0.001     -2.210      0.027      -0.006      -0.000\n",
      "BP                         -0.0069      0.001     -5.040      0.000      -0.010      -0.004\n",
      "Triglycerides              -0.0059      0.001     -4.688      0.000      -0.008      -0.003\n",
      "HbA1c                       0.0042      0.001      3.670      0.000       0.002       0.006\n",
      "LDL Chol                   -0.0087      0.001     -6.596      0.000      -0.011      -0.006\n",
      "HDL Chol                   -0.0045      0.001     -3.920      0.000      -0.007      -0.002\n",
      "Heart Rate                  0.0028      0.001      2.253      0.024       0.000       0.005\n",
      "Creatinine                  0.0057      0.001      4.008      0.000       0.003       0.008\n",
      "C-reactive Protein          0.0049      0.001      3.598      0.000       0.002       0.008\n",
      "===========================================================================================\n"
     ]
    }
   ],
   "source": [
    "negbin=sm.GLM(y,X2,family=sm.families.NegativeBinomial()).fit()\n",
    "print(negbin.summary())"
   ]
  },
  {
   "cell_type": "code",
   "execution_count": null,
   "metadata": {},
   "outputs": [
    {
     "data": {
      "text/plain": [
       "<seaborn.axisgrid.FacetGrid at 0x1f4804db700>"
      ]
     },
     "metadata": {},
     "output_type": "display_data"
    },
    {
     "data": {
      "image/png": "[encoded data removed]",
      "text/plain": [
       "<Figure size 500x500 with 1 Axes>"
      ]
     },
     "metadata": {},
     "output_type": "display_data"
    }
   ],
   "source": [
    "df['ypred'] = negbin.predict(X2)\n",
    "sns.lmplot(data=df, x='Disease', y='ypred')"
   ]
  },
  {
   "cell_type": "markdown",
   "metadata": {},
   "source": [
    "9. Comente los resultados obtenidos en 6, 7 y 8. ¿Cuáles y por qué existen las diferencias entre los resultados?. En su opinión, ¿Cuál sería el más adecuado para responder la pregunta de investgación y por qué? ¿Qué variables resultaron ser robustas a la especificación?\n",
    "\n",
    "**R**: En virtud de los resultados, ambos modelos entregan resultados similares, sin embargo el modelo Poisson es mas parsimonioso y explica una mayor fraccion de la varianza. La significancia de las variables en cada modelo son arbitrariamente similares (desde una perspectiva estadistica). Todas las variables que quedan en el modelo son robustas en su asociacion con el numero de enfermedades."
   ]
  }
 ],
 "metadata": {
  "hide_input": false,
  "kernelspec": {
   "display_name": "Python 3 (ipykernel)",
   "language": "python",
   "name": "python3"
  },
  "language_info": {
   "codemirror_mode": {
    "name": "ipython",
    "version": 3
   },
   "file_extension": ".py",
   "mimetype": "text/x-python",
   "name": "python",
   "nbconvert_exporter": "python",
   "pygments_lexer": "ipython3",
   "version": "3.9.18"
  },
  "latex_envs": {
   "LaTeX_envs_menu_present": true,
   "autoclose": true,
   "autocomplete": true,
   "bibliofile": "biblio.bib",
   "cite_by": "apalike",
   "current_citInitial": 1,
   "eqLabelWithNumbers": true,
   "eqNumInitial": 1,
   "hotkeys": {
    "equation": "Ctrl-E",
    "itemize": "Ctrl-I"
   },
   "labels_anchors": false,
   "latex_user_defs": false,
   "report_style_numbering": false,
   "user_envs_cfg": false
  },
  "toc": {
   "base_numbering": 1,
   "nav_menu": {},
   "number_sections": true,
   "sideBar": true,
   "skip_h1_title": true,
   "title_cell": "Table of Contents",
   "title_sidebar": "Contents",
   "toc_cell": false,
   "toc_position": {
    "height": "calc(100% - 180px)",
    "left": "10px",
    "top": "150px",
    "width": "165px"
   },
   "toc_section_display": true,
   "toc_window_display": true
  }
 },
 "nbformat": 4,
 "nbformat_minor": 2
}
