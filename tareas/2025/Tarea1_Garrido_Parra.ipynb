{
 "cells": [
  {
   "cell_type": "markdown",
   "metadata": {},
   "source": [
    "<font size=\"5\">Tarea 1 Nicolás Garrido Parra</font>\n",
    "\n"
   ]
  },
  {
   "cell_type": "markdown",
   "metadata": {},
   "source": [
    "Inicializamos las librerías"
   ]
  },
  {
   "cell_type": "code",
   "execution_count": 1,
   "metadata": {},
   "outputs": [],
   "source": [
    "import numpy as np\n",
    "import pandas as pd\n",
    "import matplotlib.pyplot as plt\n",
    "import statsmodels.api as sm\n",
    "import statsmodels.formula.api as smf\n",
    "import sklearn\n",
    "import scipy \n",
    "from scipy.stats import nbinom\n",
    "import seaborn as sns\n",
    "from statsmodels.iolib.summary2 import summary_col\n",
    "\n",
    "import warnings\n",
    "warnings.filterwarnings(\"ignore\")\n",
    "\n",
    "%matplotlib inline"
   ]
  },
  {
   "cell_type": "markdown",
   "metadata": {},
   "source": [
    "1. Cargar la base de datos en el ambiente. Identifique los tipos de datos que se encuentran en la base, realice estadisticas descriptivas sobre las variables importantes (Hint: Revisar la distribuciones, datos faltantes, outliers, etc.) y limpie las variables cuando sea necesario. "
   ]
  },
  {
   "cell_type": "code",
   "execution_count": 3,
   "metadata": {},
   "outputs": [
    {
     "name": "stdout",
     "output_type": "stream",
     "text": [
      "Date                 object\n",
      "Location              int64\n",
      "Min_Temp            float64\n",
      "Max_Temp            float64\n",
      "Leakage             float64\n",
      "Evaporation         float64\n",
      "Electricity         float64\n",
      "Parameter1_Dir       object\n",
      "Parameter1_Speed    float64\n",
      "Parameter2_9am       object\n",
      "Parameter2_3pm       object\n",
      "Parameter3_9am      float64\n",
      "Parameter3_3pm      float64\n",
      "Parameter4_9am      float64\n",
      "Parameter4_3pm      float64\n",
      "Parameter5_9am      float64\n",
      "Parameter5_3pm      float64\n",
      "Parameter6_9am      float64\n",
      "Parameter6_3pm      float64\n",
      "Parameter7_9am      float64\n",
      "Parameter7_3pm      float64\n",
      "Failure_today        object\n",
      "dtype: object\n"
     ]
    },
    {
     "data": {
      "application/vnd.microsoft.datawrangler.viewer.v0+json": {
       "columns": [
        {
         "name": "index",
         "rawType": "object",
         "type": "string"
        },
        {
         "name": "Location",
         "rawType": "float64",
         "type": "float"
        },
        {
         "name": "Min_Temp",
         "rawType": "float64",
         "type": "float"
        },
        {
         "name": "Max_Temp",
         "rawType": "float64",
         "type": "float"
        },
        {
         "name": "Leakage",
         "rawType": "float64",
         "type": "float"
        },
        {
         "name": "Evaporation",
         "rawType": "float64",
         "type": "float"
        },
        {
         "name": "Electricity",
         "rawType": "float64",
         "type": "float"
        },
        {
         "name": "P1S",
         "rawType": "float64",
         "type": "float"
        },
        {
         "name": "P39",
         "rawType": "float64",
         "type": "float"
        },
        {
         "name": "P49",
         "rawType": "float64",
         "type": "float"
        },
        {
         "name": "P53",
         "rawType": "float64",
         "type": "float"
        },
        {
         "name": "P63",
         "rawType": "float64",
         "type": "float"
        },
        {
         "name": "P79",
         "rawType": "float64",
         "type": "float"
        },
        {
         "name": "Falla",
         "rawType": "float64",
         "type": "float"
        }
       ],
       "conversionMethod": "pd.DataFrame",
       "ref": "ee17e938-6119-492e-a37a-3ee95dd77536",
       "rows": [
        [
         "count",
         "112925.0",
         "112925.0",
         "112925.0",
         "112925.0",
         "71781.0",
         "66646.0",
         "112925.0",
         "112925.0",
         "112925.0",
         "112925.0",
         "74279.0",
         "112925.0",
         "112925.0"
        ],
        [
         "mean",
         "24.936417976533097",
         "12.664720832410893",
         "23.655669692273634",
         "2.3778924064644675",
         "5.593073375963",
         "7.727338474927229",
         "40.786610582244855",
         "15.179163161390303",
         "67.40416205446093",
         "1.0150489617002434",
         "4.483110973491835",
         "17.46200752711977",
         "0.22465353110471553"
        ],
        [
         "std",
         "14.453624475125983",
         "6.254134533640084",
         "6.9827024845802494",
         "8.602968061041484",
         "4.208395190800531",
         "3.776339759691105",
         "13.321773596586763",
         "8.344303792736095",
         "18.911609808431077",
         "0.006957821961444509",
         "2.7158396602888657",
         "6.355044718996373",
         "0.41735580091611246"
        ],
        [
         "min",
         "1.0",
         "-8.2",
         "2.6",
         "0.0",
         "0.0",
         "0.0",
         "7.0",
         "2.0",
         "0.0",
         "0.9771",
         "0.0",
         "-3.1",
         "0.0"
        ],
        [
         "25%",
         "12.0",
         "8.1",
         "18.3",
         "0.0",
         "2.8",
         "5.0",
         "31.0",
         "9.0",
         "56.0",
         "1.0103",
         "2.0",
         "12.7",
         "0.0"
        ],
        [
         "50%",
         "23.0",
         "12.4",
         "23.1",
         "0.0",
         "4.8",
         "8.6",
         "39.0",
         "13.0",
         "68.0",
         "1.015",
         "5.0",
         "17.1",
         "0.0"
        ],
        [
         "75%",
         "38.0",
         "17.2",
         "28.7",
         "0.8",
         "7.4",
         "10.7",
         "48.0",
         "20.0",
         "81.0",
         "1.0197",
         "7.0",
         "22.0",
         "0.0"
        ],
        [
         "max",
         "49.0",
         "33.9",
         "48.1",
         "367.6",
         "82.4",
         "14.5",
         "135.0",
         "87.0",
         "100.0",
         "1.0395999999999999",
         "9.0",
         "40.2",
         "1.0"
        ]
       ],
       "shape": {
        "columns": 13,
        "rows": 8
       }
      },
      "text/html": [
       "<div>\n",
       "<style scoped>\n",
       "    .dataframe tbody tr th:only-of-type {\n",
       "        vertical-align: middle;\n",
       "    }\n",
       "\n",
       "    .dataframe tbody tr th {\n",
       "        vertical-align: top;\n",
       "    }\n",
       "\n",
       "    .dataframe thead th {\n",
       "        text-align: right;\n",
       "    }\n",
       "</style>\n",
       "<table border=\"1\" class=\"dataframe\">\n",
       "  <thead>\n",
       "    <tr style=\"text-align: right;\">\n",
       "      <th></th>\n",
       "      <th>Location</th>\n",
       "      <th>Min_Temp</th>\n",
       "      <th>Max_Temp</th>\n",
       "      <th>Leakage</th>\n",
       "      <th>Evaporation</th>\n",
       "      <th>Electricity</th>\n",
       "      <th>P1S</th>\n",
       "      <th>P39</th>\n",
       "      <th>P49</th>\n",
       "      <th>P53</th>\n",
       "      <th>P63</th>\n",
       "      <th>P79</th>\n",
       "      <th>Falla</th>\n",
       "    </tr>\n",
       "  </thead>\n",
       "  <tbody>\n",
       "    <tr>\n",
       "      <th>count</th>\n",
       "      <td>112925.000000</td>\n",
       "      <td>112925.000000</td>\n",
       "      <td>112925.000000</td>\n",
       "      <td>112925.000000</td>\n",
       "      <td>71781.000000</td>\n",
       "      <td>66646.000000</td>\n",
       "      <td>112925.000000</td>\n",
       "      <td>112925.000000</td>\n",
       "      <td>112925.000000</td>\n",
       "      <td>112925.000000</td>\n",
       "      <td>74279.000000</td>\n",
       "      <td>112925.000000</td>\n",
       "      <td>112925.000000</td>\n",
       "    </tr>\n",
       "    <tr>\n",
       "      <th>mean</th>\n",
       "      <td>24.936418</td>\n",
       "      <td>12.664721</td>\n",
       "      <td>23.655670</td>\n",
       "      <td>2.377892</td>\n",
       "      <td>5.593073</td>\n",
       "      <td>7.727338</td>\n",
       "      <td>40.786611</td>\n",
       "      <td>15.179163</td>\n",
       "      <td>67.404162</td>\n",
       "      <td>1.015049</td>\n",
       "      <td>4.483111</td>\n",
       "      <td>17.462008</td>\n",
       "      <td>0.224654</td>\n",
       "    </tr>\n",
       "    <tr>\n",
       "      <th>std</th>\n",
       "      <td>14.453624</td>\n",
       "      <td>6.254135</td>\n",
       "      <td>6.982702</td>\n",
       "      <td>8.602968</td>\n",
       "      <td>4.208395</td>\n",
       "      <td>3.776340</td>\n",
       "      <td>13.321774</td>\n",
       "      <td>8.344304</td>\n",
       "      <td>18.911610</td>\n",
       "      <td>0.006958</td>\n",
       "      <td>2.715840</td>\n",
       "      <td>6.355045</td>\n",
       "      <td>0.417356</td>\n",
       "    </tr>\n",
       "    <tr>\n",
       "      <th>min</th>\n",
       "      <td>1.000000</td>\n",
       "      <td>-8.200000</td>\n",
       "      <td>2.600000</td>\n",
       "      <td>0.000000</td>\n",
       "      <td>0.000000</td>\n",
       "      <td>0.000000</td>\n",
       "      <td>7.000000</td>\n",
       "      <td>2.000000</td>\n",
       "      <td>0.000000</td>\n",
       "      <td>0.977100</td>\n",
       "      <td>0.000000</td>\n",
       "      <td>-3.100000</td>\n",
       "      <td>0.000000</td>\n",
       "    </tr>\n",
       "    <tr>\n",
       "      <th>25%</th>\n",
       "      <td>12.000000</td>\n",
       "      <td>8.100000</td>\n",
       "      <td>18.300000</td>\n",
       "      <td>0.000000</td>\n",
       "      <td>2.800000</td>\n",
       "      <td>5.000000</td>\n",
       "      <td>31.000000</td>\n",
       "      <td>9.000000</td>\n",
       "      <td>56.000000</td>\n",
       "      <td>1.010300</td>\n",
       "      <td>2.000000</td>\n",
       "      <td>12.700000</td>\n",
       "      <td>0.000000</td>\n",
       "    </tr>\n",
       "    <tr>\n",
       "      <th>50%</th>\n",
       "      <td>23.000000</td>\n",
       "      <td>12.400000</td>\n",
       "      <td>23.100000</td>\n",
       "      <td>0.000000</td>\n",
       "      <td>4.800000</td>\n",
       "      <td>8.600000</td>\n",
       "      <td>39.000000</td>\n",
       "      <td>13.000000</td>\n",
       "      <td>68.000000</td>\n",
       "      <td>1.015000</td>\n",
       "      <td>5.000000</td>\n",
       "      <td>17.100000</td>\n",
       "      <td>0.000000</td>\n",
       "    </tr>\n",
       "    <tr>\n",
       "      <th>75%</th>\n",
       "      <td>38.000000</td>\n",
       "      <td>17.200000</td>\n",
       "      <td>28.700000</td>\n",
       "      <td>0.800000</td>\n",
       "      <td>7.400000</td>\n",
       "      <td>10.700000</td>\n",
       "      <td>48.000000</td>\n",
       "      <td>20.000000</td>\n",
       "      <td>81.000000</td>\n",
       "      <td>1.019700</td>\n",
       "      <td>7.000000</td>\n",
       "      <td>22.000000</td>\n",
       "      <td>0.000000</td>\n",
       "    </tr>\n",
       "    <tr>\n",
       "      <th>max</th>\n",
       "      <td>49.000000</td>\n",
       "      <td>33.900000</td>\n",
       "      <td>48.100000</td>\n",
       "      <td>367.600000</td>\n",
       "      <td>82.400000</td>\n",
       "      <td>14.500000</td>\n",
       "      <td>135.000000</td>\n",
       "      <td>87.000000</td>\n",
       "      <td>100.000000</td>\n",
       "      <td>1.039600</td>\n",
       "      <td>9.000000</td>\n",
       "      <td>40.200000</td>\n",
       "      <td>1.000000</td>\n",
       "    </tr>\n",
       "  </tbody>\n",
       "</table>\n",
       "</div>"
      ],
      "text/plain": [
       "            Location       Min_Temp       Max_Temp        Leakage  \\\n",
       "count  112925.000000  112925.000000  112925.000000  112925.000000   \n",
       "mean       24.936418      12.664721      23.655670       2.377892   \n",
       "std        14.453624       6.254135       6.982702       8.602968   \n",
       "min         1.000000      -8.200000       2.600000       0.000000   \n",
       "25%        12.000000       8.100000      18.300000       0.000000   \n",
       "50%        23.000000      12.400000      23.100000       0.000000   \n",
       "75%        38.000000      17.200000      28.700000       0.800000   \n",
       "max        49.000000      33.900000      48.100000     367.600000   \n",
       "\n",
       "        Evaporation   Electricity            P1S            P39  \\\n",
       "count  71781.000000  66646.000000  112925.000000  112925.000000   \n",
       "mean       5.593073      7.727338      40.786611      15.179163   \n",
       "std        4.208395      3.776340      13.321774       8.344304   \n",
       "min        0.000000      0.000000       7.000000       2.000000   \n",
       "25%        2.800000      5.000000      31.000000       9.000000   \n",
       "50%        4.800000      8.600000      39.000000      13.000000   \n",
       "75%        7.400000     10.700000      48.000000      20.000000   \n",
       "max       82.400000     14.500000     135.000000      87.000000   \n",
       "\n",
       "                 P49            P53           P63            P79  \\\n",
       "count  112925.000000  112925.000000  74279.000000  112925.000000   \n",
       "mean       67.404162       1.015049      4.483111      17.462008   \n",
       "std        18.911610       0.006958      2.715840       6.355045   \n",
       "min         0.000000       0.977100      0.000000      -3.100000   \n",
       "25%        56.000000       1.010300      2.000000      12.700000   \n",
       "50%        68.000000       1.015000      5.000000      17.100000   \n",
       "75%        81.000000       1.019700      7.000000      22.000000   \n",
       "max       100.000000       1.039600      9.000000      40.200000   \n",
       "\n",
       "               Falla  \n",
       "count  112925.000000  \n",
       "mean        0.224654  \n",
       "std         0.417356  \n",
       "min         0.000000  \n",
       "25%         0.000000  \n",
       "50%         0.000000  \n",
       "75%         0.000000  \n",
       "max         1.000000  "
      ]
     },
     "execution_count": 3,
     "metadata": {},
     "output_type": "execute_result"
    },
    {
     "data": {
      "image/png": "[encoded data removed]",
      "text/plain": [
       "<Figure size 640x480 with 1 Axes>"
      ]
     },
     "metadata": {},
     "output_type": "display_data"
    }
   ],
   "source": [
    "df = pd.read_csv('../../data/machine_failure_data.csv')\n",
    "df2=df\n",
    "\n",
    "df2 = df2.rename(columns={\"Parameter1_Dir\": \"P1D\", \n",
    "                        \"Parameter1_Speed\": \"P1S\",\"Parameter2_9am\": \"P29\",\"Parameter2_3pm\":\"P23\", \n",
    "                        \"Parameter3_9am\": \"P39\",\"Parameter3_3pm\":\"P33\",\"Parameter4_9am\": \"P49\",\n",
    "                        \"Parameter4_3pm\":\"P43\",\"Parameter5_9am\": \"P59\",\"Parameter5_3pm\":\"P53\",\n",
    "                        \"Parameter6_9am\": \"P69\",\"Parameter6_3pm\":\"P63\",\"Parameter7_9am\": \"P79\",\"Parameter7_3pm\":\"P73\"})\n",
    "\n",
    "print(df.dtypes)\n",
    "##### dado que no podemos trabajar con Yes o No cambiamos esos valores por un parametro binario que será uno si ocurrió falla y cero si no lo hizo y eliminamos la columna Failure_today\n",
    "\n",
    "df2[\"Falla\"]=df2[\"Failure_today\"].apply(lambda x:1 if x==\"Yes\" else 0)\n",
    "df2=df2.drop(columns=[\"Failure_today\"])\n",
    "df2['Falla'] = df2['Falla'].astype(float)\n",
    "df2[\"P59\"]=df2[\"P59\"]/1000\n",
    "df2[\"P53\"]=df2[\"P53\"]/1000\n",
    "\n",
    "\n",
    "##### eliminamos los valores null de las variables que no tienen tantos\n",
    "\n",
    "df2 = df2.dropna(subset=['Min_Temp'])\n",
    "df2 = df2.dropna(subset=['Max_Temp'])\n",
    "df2 = df2.dropna(subset=['Leakage'])\n",
    "df2 = df2.dropna(subset=['P1D'])\n",
    "df2 = df2.dropna(subset=['P1S'])\n",
    "df2 = df2.dropna(subset=['P29'])\n",
    "df2 = df2.dropna(subset=['P23'])\n",
    "df2 = df2.dropna(subset=['P39'])\n",
    "df2 = df2.dropna(subset=['P33'])\n",
    "df2 = df2.dropna(subset=['P49'])\n",
    "df2 = df2.dropna(subset=['P43'])\n",
    "df2 = df2.dropna(subset=['P59'])\n",
    "df2 = df2.dropna(subset=['P53'])\n",
    "df2 = df2.dropna(subset=['P79'])\n",
    "df2 = df2.dropna(subset=['P73'])\n",
    "\n",
    "\n",
    "##### cambiamos los nombres de algunos parametros por comodidad\n",
    "df = df.rename(columns={\"Parameter1_Dir\": \"P1D\", \n",
    "                        \"Parameter1_Speed\": \"P1S\",\"Parameter2_9am\": \"P29\",\"Parameter2_3pm\":\"P23\", \n",
    "                        \"Parameter3_9am\": \"P39\",\"Parameter3_3pm\":\"P33\",\"Parameter4_9am\": \"P49\",\n",
    "                        \"Parameter4_3pm\":\"P43\",\"Parameter5_9am\": \"P59\",\"Parameter5_3pm\":\"P53\",\n",
    "                        \"Parameter6_9am\": \"P69\",\"Parameter6_3pm\":\"P63\",\"Parameter7_9am\": \"P79\",\"Parameter7_3pm\":\"P73\"})\n",
    "\n",
    "variables=[\"Location\",\"Min_Temp\",\"Max_Temp\",\"Leakage\",\"Evaporation\",\"Electricity\",\"P1D\",\"P1S\",\"P29\",\"P23\",\"P39\",\"P33\",\"P49\",\"P43\",\"P59\",\"P53\",\"P69\",\"P63\",\"P79\",\"P73\"]\n",
    "\n",
    "##### dado que las distribuciones son similares entre los parametros que se tomaron en un horario u otro, vamos a usar uno el cual será el que tenga menos desviación estandar\n",
    "df2=df2.drop(columns=[\"P69\",\"P33\",\"P43\",\"P59\",\"P73\"])\n",
    "\n",
    "sns.boxplot(data=df2, orient='h')   \n",
    "df2.describe()"
   ]
  },
  {
   "cell_type": "markdown",
   "metadata": {},
   "source": [
    "2. Ejecute un modelo de probabilidad lineal (*MCO*) que permita explicar la probabilidad de que un dia se reporte fallo medido por sensor, a partir de las informacion disponible. Seleccione las variables dependientes a incluir en el modelo final e interprete su significado. "
   ]
  },
  {
   "cell_type": "markdown",
   "metadata": {},
   "source": [
    "Seleccionamos las variables independientes, para ello usaremos el criterio de realizar una matriz de correlación y ver cuales son las variables que se relacionan más con la variable dependiente, lo cual concluyó que filtraciones, P49, P1S, P39 y Min_Temp. Por otra parte, nuestra variable dependiente será la dicotómica \"Falla\". Luego de ejecutar OLS nos quedó que un 34.7% de la variabilidad de las fallas es explicada por nuestra variables independientes escogidas, las cuales son significativas de a cuerdo al criterio de p y su interpretación es : si la filtracion medida aumenta en una unidad, la probabilidad de falla aumentará, lo mismo para las otras variables con sus respectivos porcentajes."
   ]
  },
  {
   "cell_type": "code",
   "execution_count": 11,
   "metadata": {},
   "outputs": [
    {
     "name": "stdout",
     "output_type": "stream",
     "text": [
      "                            OLS Regression Results                            \n",
      "==============================================================================\n",
      "Dep. Variable:                  Falla   R-squared:                       0.347\n",
      "Model:                            OLS   Adj. R-squared:                  0.347\n",
      "Method:                 Least Squares   F-statistic:                     6608.\n",
      "Date:               jue, 24 abr. 2025   Prob (F-statistic):               0.00\n",
      "Time:                        17:32:55   Log-Likelihood:                -37457.\n",
      "No. Observations:              112925   AIC:                         7.493e+04\n",
      "Df Residuals:                  112919   BIC:                         7.498e+04\n",
      "Df Model:                           5                                         \n",
      "Covariance Type:                  HC0                                         \n",
      "==============================================================================\n",
      "                 coef    std err          z      P>|z|      [0.025      0.975]\n",
      "------------------------------------------------------------------------------\n",
      "const         -0.5536      0.008    -67.320      0.000      -0.570      -0.537\n",
      "Min_Temp    3.176e-05   1.81e-06     17.522      0.000    2.82e-05    3.53e-05\n",
      "Leakage        0.0002   6.61e-06     28.820      0.000       0.000       0.000\n",
      "P1S         3.789e-05   1.05e-06     36.080      0.000    3.58e-05    3.99e-05\n",
      "P39         3.051e-05    1.6e-06     19.056      0.000    2.74e-05    3.36e-05\n",
      "P49         7.298e-05   8.72e-07     83.694      0.000    7.13e-05    7.47e-05\n",
      "==============================================================================\n",
      "Omnibus:                    17763.127   Durbin-Watson:                   1.736\n",
      "Prob(Omnibus):                  0.000   Jarque-Bera (JB):           113037.068\n",
      "Skew:                           0.604   Prob(JB):                         0.00\n",
      "Kurtosis:                       7.750   Cond. No.                     5.04e+04\n",
      "==============================================================================\n",
      "\n",
      "Notes:\n",
      "[1] Standard Errors are heteroscedasticity robust (HC0)\n",
      "[2] The condition number is large, 5.04e+04. This might indicate that there are\n",
      "strong multicollinearity or other numerical problems.\n"
     ]
    },
    {
     "data": {
      "image/png": "[encoded data removed]",
      "text/plain": [
       "<Figure size 1100x900 with 2 Axes>"
      ]
     },
     "metadata": {},
     "output_type": "display_data"
    }
   ],
   "source": [
    "df3=df2\n",
    "df3=df3.drop(columns=[\"Date\",\"P29\",\"P23\",\"P1D\",\"Location\",\"P63\"])\n",
    "df3corre=df3.corr()\n",
    "\n",
    "mask = np.triu(np.ones_like(df3corre, dtype=bool))\n",
    "f, ax = plt.subplots(figsize=(11, 9))\n",
    "cmap = sns.diverging_palette(230, 20, as_cmap=True)\n",
    "sns.heatmap(df3corre, mask=mask, cmap=cmap, vmax=.3, center=0,\n",
    "            square=True, linewidths=.5, cbar_kws={\"shrink\": .5})\n",
    "##### notamos que las fallas se correlacionan principalmente son Leackage, P49 y Min_Temp\n",
    "y=df3[\"Falla\"]\n",
    "X=df3.drop(['Falla','Max_Temp','Evaporation',\"Electricity\",\"P53\",\"P79\"], axis=1)\n",
    "X=X*100\n",
    "X=sm.add_constant(X)\n",
    "model = sm.OLS(y, X)\n",
    "results = model.fit(cov_type='HC0')\n",
    "print(results.summary())\n",
    "\n",
    "##### ols"
   ]
  },
  {
   "cell_type": "markdown",
   "metadata": {},
   "source": [
    "3. Ejecute un modelo *probit* para responder a la pregunta 2. Seleccione las variables dependientes a incluir en el modelo final e interprete su significado. "
   ]
  },
  {
   "cell_type": "markdown",
   "metadata": {},
   "source": [
    "Para este caso utilizaremos las mismas variables seleccionadas anteriormente (Falla para la dependiente y filtraciones, P1S, P39, P49, Min_Temp para las independientes), una vez realizada, obtuvimos que todas las variables eran significativas, dado que p< que 0.05. Sin embargo P1S y P49 tienen un valor de parámetro beta prácticamente despreciable, en el caso de las otras variables, las interpretamos de la siguiente manera \n",
    "\n",
    "\n",
    "Min_Temp: La disminución de una unidad de esta variable, provocará una disminución en la probabilidad de fallar\n",
    "\n",
    "Leakage: El aumento de una unidad provoca un amumento de la probabilidad de fallar \n",
    "\n",
    "P39:   el aumento de una unidad provoca un aumento en la probabilidad de fallar  \n"
   ]
  },
  {
   "cell_type": "code",
   "execution_count": 43,
   "metadata": {},
   "outputs": [
    {
     "name": "stdout",
     "output_type": "stream",
     "text": [
      "Warning: Maximum number of iterations has been exceeded.\n",
      "         Current function value: 0.000000\n",
      "         Iterations: 35\n",
      "                          Probit Regression Results                           \n",
      "==============================================================================\n",
      "Dep. Variable:                  Falla   No. Observations:               112925\n",
      "Model:                         Probit   Df Residuals:                   112919\n",
      "Method:                           MLE   Df Model:                            5\n",
      "Date:               mié, 23 abr. 2025   Pseudo R-squ.:                   1.000\n",
      "Time:                        18:03:53   Log-Likelihood:            -0.00050611\n",
      "converged:                      False   LL-Null:                       -60159.\n",
      "Covariance Type:                  HC0   LLR p-value:                     0.000\n",
      "==============================================================================\n",
      "                 coef    std err          z      P>|z|      [0.025      0.975]\n",
      "------------------------------------------------------------------------------\n",
      "const        -96.8767      1.041    -93.081      0.000     -98.917     -94.837\n",
      "Min_Temp      -0.0003   5.71e-05     -5.282      0.000      -0.000      -0.000\n",
      "Leakage        0.9126      0.010     92.634      0.000       0.893       0.932\n",
      "P1S        -5.888e-05   2.81e-05     -2.094      0.036      -0.000   -3.77e-06\n",
      "P39            0.0002   3.35e-05      6.146      0.000       0.000       0.000\n",
      "P49         9.023e-05   3.12e-05      2.889      0.004     2.9e-05       0.000\n",
      "==============================================================================\n",
      "\n",
      "Complete Separation: The results show that there iscomplete separation or perfect prediction.\n",
      "In this case the Maximum Likelihood Estimator does not exist and the parameters\n",
      "are not identified.\n",
      "       Probit Marginal Effects       \n",
      "=====================================\n",
      "Dep. Variable:                  Falla\n",
      "Method:                          dydx\n",
      "At:                           overall\n",
      "==============================================================================\n",
      "                dy/dx    std err          z      P>|z|      [0.025      0.975]\n",
      "------------------------------------------------------------------------------\n",
      "Min_Temp   -6.388e-12   1.84e-12     -3.470      0.001      -1e-11   -2.78e-12\n",
      "Leakage     1.932e-08   3.06e-09      6.318      0.000    1.33e-08    2.53e-08\n",
      "P1S        -1.246e-12   5.47e-13     -2.277      0.023   -2.32e-12   -1.73e-13\n",
      "P39         4.354e-12   9.89e-13      4.404      0.000    2.42e-12    6.29e-12\n",
      "P49          1.91e-12    8.2e-13      2.329      0.020    3.02e-13    3.52e-12\n",
      "==============================================================================\n"
     ]
    }
   ],
   "source": [
    "model = sm.Probit(y, X)\n",
    "probit_model = model.fit(cov_type='HC0')\n",
    "print(probit_model.summary())\n",
    "\n",
    "mfxp = probit_model.get_margeff()\n",
    "print(mfxp.summary())"
   ]
  },
  {
   "cell_type": "markdown",
   "metadata": {},
   "source": [
    "4. Ejecute un modelo *logit*  para responder a la pregunta 2. Seleccione las variables dependientes a incluir en el modelo final e interprete su significado. "
   ]
  },
  {
   "cell_type": "markdown",
   "metadata": {},
   "source": [
    "Podemos ver que esta vez la variable P39 no es significativa, mientras que las demás sí, por ende, excluimos P39, por otra parte. la interpretación de las demás variables es\n",
    "\n",
    "Min_Temp: Por cada unidad de cambio la variable disminuye la probabilidad de fallar \n",
    "Leakage: por cada unidad de cambio se aumenta la probabilidad de falla\n",
    "P1S: Por cada unidad que disminuya, la probabilidad de falla aumenta   \n",
    "P49: Por cada unidad que aumente, la probabilidad de falla disminuye "
   ]
  },
  {
   "cell_type": "code",
   "execution_count": 44,
   "metadata": {},
   "outputs": [
    {
     "name": "stdout",
     "output_type": "stream",
     "text": [
      "Warning: Maximum number of iterations has been exceeded.\n",
      "         Current function value: 0.000000\n",
      "         Iterations: 35\n",
      "                           Logit Regression Results                           \n",
      "==============================================================================\n",
      "Dep. Variable:                  Falla   No. Observations:               112925\n",
      "Model:                          Logit   Df Residuals:                   112919\n",
      "Method:                           MLE   Df Model:                            5\n",
      "Date:               mié, 23 abr. 2025   Pseudo R-squ.:                   1.000\n",
      "Time:                        18:07:01   Log-Likelihood:            -3.1784e-06\n",
      "converged:                      False   LL-Null:                       -60159.\n",
      "Covariance Type:                  HC0   LLR p-value:                     0.000\n",
      "==============================================================================\n",
      "                 coef    std err          z      P>|z|      [0.025      0.975]\n",
      "------------------------------------------------------------------------------\n",
      "const       -375.8166      4.119    -91.240      0.000    -383.890    -367.744\n",
      "Min_Temp      -0.0012      0.000     -3.763      0.000      -0.002      -0.001\n",
      "Leakage        3.5922      0.039     91.174      0.000       3.515       3.669\n",
      "P1S           -0.0002      0.000     -1.159      0.247      -0.000       0.000\n",
      "P39         8.625e-05      0.000      0.397      0.692      -0.000       0.001\n",
      "P49           -0.0003   8.38e-05     -3.396      0.001      -0.000      -0.000\n",
      "==============================================================================\n",
      "\n",
      "Complete Separation: The results show that there iscomplete separation or perfect prediction.\n",
      "In this case the Maximum Likelihood Estimator does not exist and the parameters\n",
      "are not identified.\n",
      "        Logit Marginal Effects       \n",
      "=====================================\n",
      "Dep. Variable:                  Falla\n",
      "Method:                          dydx\n",
      "At:                           overall\n",
      "==============================================================================\n",
      "                dy/dx    std err          z      P>|z|      [0.025      0.975]\n",
      "------------------------------------------------------------------------------\n",
      "Min_Temp   -3.239e-14        nan        nan        nan         nan         nan\n",
      "Leakage     1.011e-10        nan        nan        nan         nan         nan\n",
      "P1S        -4.975e-15        nan        nan        nan         nan         nan\n",
      "P39         2.428e-15        nan        nan        nan         nan         nan\n",
      "P49        -8.013e-15        nan        nan        nan         nan         nan\n",
      "==============================================================================\n",
      "Odds Ratios\n",
      "          Odds Ratio         5%        95%\n",
      "Min_Temp    0.998252   0.999449   0.998850\n",
      "Leakage    33.614060  39.227772  36.312597\n",
      "P1S         0.999524   1.000122   0.999823\n",
      "P39         0.999660   1.000513   1.000086\n",
      "P49         0.999551   0.999880   0.999715\n"
     ]
    }
   ],
   "source": [
    "\n",
    "model = sm.Logit(y, X)\n",
    "logit_model = model.fit(cov_type='HC0')\n",
    "print(logit_model.summary())\n",
    "\n",
    "mfxl = logit_model.get_margeff()\n",
    "print(mfxl.summary())\n",
    "\n",
    "params = logit_model.params\n",
    "conf = logit_model.conf_int()\n",
    "conf['Odds Ratio'] = params\n",
    "conf.columns = ['Odds Ratio', '5%', '95%']\n",
    "print(\"Odds Ratios\")\n",
    "print(np.exp(conf).iloc[1:17 , ])"
   ]
  },
  {
   "cell_type": "markdown",
   "metadata": {},
   "source": [
    "5. Comente los resultados obtenidos en 2, 3 y 4. ¿Cuáles y por qué existen las diferencias entre los resultados?. En su opinión, ¿Cuál sería el más adecuado para responder la pregunta de investgación y por qué? ¿Qué variables resultaron ser robustas a la especificación?"
   ]
  },
  {
   "cell_type": "markdown",
   "metadata": {},
   "source": [
    "Yo opino que la diferencia de los resultados se debe a la especialidad de cada modelo, pues el Logit y Probit, al ser de funciones de acumulación de distribución, suelen ser mejores prediciendo variables binarias. Por ende, yo me quedo con Logit, pues no puedo asumir que los errores se distribuyen de manera normal. Finalmente las variables más robustas resultaron ser Leackage y Min_Temp, pues en todos los modelos fueron significativas y en general contaban con los valores más altos en su párametro, por lo que aportan el mayor porcentaje de explicación a predecir si existe falla o no."
   ]
  },
  {
   "cell_type": "markdown",
   "metadata": {},
   "source": [
    "6. Agregue la data a nivel mensual, usando la data promedio de las variables (ignorando aquellas categoricas, como la direccion del viento). En particular, genere una variable que cuente la cantidad de fallos observados en un mes, utilice un valor de 0 si en ese mes no se reporto fallos en ningun dia. Use un modelo Poisson para explicar el numero de fallas por mes. Seleccione las variables dependientes a incluir en el modelo final e interprete su significado. "
   ]
  },
  {
   "cell_type": "code",
   "execution_count": null,
   "metadata": {},
   "outputs": [],
   "source": []
  },
  {
   "cell_type": "markdown",
   "metadata": {},
   "source": [
    "7. Determine sobre dispersion en la data y posible valor optimo de alpha para un modelo Binomial Negativa."
   ]
  },
  {
   "cell_type": "code",
   "execution_count": null,
   "metadata": {},
   "outputs": [],
   "source": [
    "yy=df3['Falla']\n",
    "xx=df3[[\"\"]]\n",
    "poisson=sm.GLM(yy,xx,family=sm.families.Poisson()).fit()\n",
    "print(poisson.summary())\n",
    "\n",
    "#T\n",
    "aux=((yy-poisson.mu)**2-poisson.mu)/poisson.mu\n",
    "auxr=sm.OLS(aux,poisson.mu).fit()\n",
    "print(auxr.summary())\n",
    "#print(np.exp())"
   ]
  },
  {
   "cell_type": "markdown",
   "metadata": {},
   "source": [
    "8. Usando la informacion anterior, ejecute un modelo Binomial Negativa para responder a la pregunta 6. Seleccione las variables dependientes a incluir en el modelo final e interprete su significado. "
   ]
  },
  {
   "cell_type": "code",
   "execution_count": null,
   "metadata": {},
   "outputs": [],
   "source": [
    "negbin=sm.GLM(yy,xx,family=sm.families.NegativeBinomial(alpha=0.786)).fit()\n",
    "print(negbin.summary())"
   ]
  },
  {
   "cell_type": "markdown",
   "metadata": {},
   "source": [
    "9. Comente los resultados obtenidos en 6, 7 y 8. ¿Cuáles y por qué existen las diferencias entre los resultados?. En su opinión, ¿Cuál sería el más adecuado para responder la pregunta de investgación y por qué? ¿Qué variables resultaron ser robustas a la especificación?"
   ]
  }
 ],
 "metadata": {
  "hide_input": false,
  "kernelspec": {
   "display_name": "base",
   "language": "python",
   "name": "python3"
  },
  "language_info": {
   "codemirror_mode": {
    "name": "ipython",
    "version": 3
   },
   "file_extension": ".py",
   "mimetype": "text/x-python",
   "name": "python",
   "nbconvert_exporter": "python",
   "pygments_lexer": "ipython3",
   "version": "3.11.5"
  },
  "latex_envs": {
   "LaTeX_envs_menu_present": true,
   "autoclose": true,
   "autocomplete": true,
   "bibliofile": "biblio.bib",
   "cite_by": "apalike",
   "current_citInitial": 1,
   "eqLabelWithNumbers": true,
   "eqNumInitial": 1,
   "hotkeys": {
    "equation": "Ctrl-E",
    "itemize": "Ctrl-I"
   },
   "labels_anchors": false,
   "latex_user_defs": false,
   "report_style_numbering": false,
   "user_envs_cfg": false
  },
  "toc": {
   "base_numbering": 1,
   "nav_menu": {},
   "number_sections": true,
   "sideBar": true,
   "skip_h1_title": true,
   "title_cell": "Table of Contents",
   "title_sidebar": "Contents",
   "toc_cell": false,
   "toc_position": {
    "height": "calc(100% - 180px)",
    "left": "10px",
    "top": "150px",
    "width": "165px"
   },
   "toc_section_display": true,
   "toc_window_display": true
  }
 },
 "nbformat": 4,
 "nbformat_minor": 2
}
